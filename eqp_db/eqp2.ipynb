{
 "cells": [
  {
   "cell_type": "code",
   "execution_count": 13,
   "id": "initial_id",
   "metadata": {
    "collapsed": true,
    "ExecuteTime": {
     "end_time": "2023-10-19T12:26:32.919319800Z",
     "start_time": "2023-10-19T12:26:32.903031200Z"
    }
   },
   "outputs": [],
   "source": [
    "import pandas as pd\n",
    "\n",
    "eqp_file_path = r'C:\\Users\\yuriy\\Desktop\\db_tables\\EQPDB\\clean_excel\\equipment_clean.xlsx'\n",
    "spf_file_path = r'C:\\Users\\yuriy\\Desktop\\db_tables\\EQPDB\\clean_excel\\spf_clean.xlsx'\n",
    "asup_file_path = r'C:\\Users\\yuriy\\Desktop\\db_tables\\EQPDB\\clean_excel\\eqp_asup_sklad.xlsx'"
   ]
  },
  {
   "cell_type": "code",
   "execution_count": 12,
   "outputs": [
    {
     "ename": "NameError",
     "evalue": "name 'asup_file_path' is not defined",
     "output_type": "error",
     "traceback": [
      "\u001B[1;31m---------------------------------------------------------------------------\u001B[0m",
      "\u001B[1;31mNameError\u001B[0m                                 Traceback (most recent call last)",
      "\u001B[1;32m~\\AppData\\Local\\Temp\\ipykernel_7780\\3205072011.py\u001B[0m in \u001B[0;36m<module>\u001B[1;34m\u001B[0m\n\u001B[0;32m      1\u001B[0m \u001B[0meqp_df\u001B[0m \u001B[1;33m=\u001B[0m \u001B[0mpd\u001B[0m\u001B[1;33m.\u001B[0m\u001B[0mread_excel\u001B[0m\u001B[1;33m(\u001B[0m\u001B[0meqp_file_path\u001B[0m\u001B[1;33m)\u001B[0m\u001B[1;33m\u001B[0m\u001B[1;33m\u001B[0m\u001B[0m\n\u001B[0;32m      2\u001B[0m \u001B[0mspd_df\u001B[0m \u001B[1;33m=\u001B[0m \u001B[0mpd\u001B[0m\u001B[1;33m.\u001B[0m\u001B[0mread_excel\u001B[0m\u001B[1;33m(\u001B[0m\u001B[0mspf_file_path\u001B[0m\u001B[1;33m)\u001B[0m\u001B[1;33m\u001B[0m\u001B[1;33m\u001B[0m\u001B[0m\n\u001B[1;32m----> 3\u001B[1;33m \u001B[0masup_df\u001B[0m \u001B[1;33m=\u001B[0m \u001B[0mpd\u001B[0m\u001B[1;33m.\u001B[0m\u001B[0mread_excel\u001B[0m\u001B[1;33m(\u001B[0m\u001B[0masup_file_path\u001B[0m\u001B[1;33m)\u001B[0m\u001B[1;33m\u001B[0m\u001B[1;33m\u001B[0m\u001B[0m\n\u001B[0m",
      "\u001B[1;31mNameError\u001B[0m: name 'asup_file_path' is not defined"
     ]
    }
   ],
   "source": [
    "eqp_df = pd.read_excel(eqp_file_path)\n",
    "spf_df = pd.read_excel(spf_file_path)\n",
    "asup_df = pd.read_excel(asup_file_path)"
   ],
   "metadata": {
    "collapsed": false,
    "ExecuteTime": {
     "end_time": "2023-10-19T12:25:29.970531300Z",
     "start_time": "2023-10-19T12:25:11.708031600Z"
    }
   },
   "id": "1813e49e63fb1645"
  },
  {
   "cell_type": "code",
   "execution_count": 28,
   "outputs": [],
   "source": [
    "eqp_df['kks_code'] = eqp_df['kks_code'].str.strip()\n",
    "spf_df['KKS'] = spf_df['KKS'].str.strip()"
   ],
   "metadata": {
    "collapsed": false,
    "ExecuteTime": {
     "end_time": "2023-10-19T15:16:49.912847Z",
     "start_time": "2023-10-19T15:16:49.889231100Z"
    }
   },
   "id": "22a9fa57992f286a"
  },
  {
   "cell_type": "code",
   "execution_count": 19,
   "outputs": [],
   "source": [
    "eqp_df['kks_len'] = eqp_df['kks_code'].apply(lambda x: len(str(x)))\n"
   ],
   "metadata": {
    "collapsed": false,
    "ExecuteTime": {
     "end_time": "2023-10-19T13:50:57.110736700Z",
     "start_time": "2023-10-19T13:50:57.084830Z"
    }
   },
   "id": "e1b80d0496f1264d"
  },
  {
   "cell_type": "code",
   "execution_count": 31,
   "outputs": [
    {
     "data": {
      "text/plain": "kks_len\n20    30616\n12    10899\n3      1352\n13      442\n5       424\n17       70\n7        68\n15       37\n9         9\n16        9\nName: count, dtype: int64"
     },
     "execution_count": 31,
     "metadata": {},
     "output_type": "execute_result"
    }
   ],
   "source": [
    "eqp_df['kks_len'].value_counts()"
   ],
   "metadata": {
    "collapsed": false,
    "ExecuteTime": {
     "end_time": "2023-10-19T15:17:27.432914200Z",
     "start_time": "2023-10-19T15:17:27.430392600Z"
    }
   },
   "id": "b0f49d995be7d3b0"
  },
  {
   "cell_type": "code",
   "execution_count": 41,
   "outputs": [
    {
     "data": {
      "text/plain": "0        11JNG12AA201\n1        11JNG12AA202\n2        11JNG12AA203\n3        11JNG12AA204\n4        11JNG12AA206\n             ...     \n43216    12JNG32AA004\n43217    12JNG41AA005\n43218    12JNG42AA004\n43733    11JNG90AA601\n43734    12JNG97AA601\nName: kks_code, Length: 618, dtype: object"
     },
     "execution_count": 41,
     "metadata": {},
     "output_type": "execute_result"
    }
   ],
   "source": [
    "test_df = eqp_df.loc[eqp_df['kks_code'].str.contains('JNG', na=False, case=False), 'kks_code']\n",
    "test_df[test_df.apply(len) > 10]"
   ],
   "metadata": {
    "collapsed": false,
    "ExecuteTime": {
     "end_time": "2023-10-19T16:24:40.591809200Z",
     "start_time": "2023-10-19T16:24:40.560647Z"
    }
   },
   "id": "8ad352e425ec453f"
  },
  {
   "cell_type": "code",
   "execution_count": 32,
   "outputs": [
    {
     "data": {
      "text/plain": "            kks_code  kks_len\n487    10KPG11AC001A       13\n488    10KPG11AC001B       13\n489    10KPG11AC001C       13\n490    10KPG11AC001D       13\n9279   11FAK52CL002A       13\n...              ...      ...\n10989  12JEB30CT001B       13\n10990  12JEB30CT001C       13\n10991  12JEB40CT001A       13\n10992  12JEB40CT001B       13\n10993  12JEB40CT001C       13\n\n[439 rows x 2 columns]",
      "text/html": "<div>\n<style scoped>\n    .dataframe tbody tr th:only-of-type {\n        vertical-align: middle;\n    }\n\n    .dataframe tbody tr th {\n        vertical-align: top;\n    }\n\n    .dataframe thead th {\n        text-align: right;\n    }\n</style>\n<table border=\"1\" class=\"dataframe\">\n  <thead>\n    <tr style=\"text-align: right;\">\n      <th></th>\n      <th>kks_code</th>\n      <th>kks_len</th>\n    </tr>\n  </thead>\n  <tbody>\n    <tr>\n      <th>487</th>\n      <td>10KPG11AC001A</td>\n      <td>13</td>\n    </tr>\n    <tr>\n      <th>488</th>\n      <td>10KPG11AC001B</td>\n      <td>13</td>\n    </tr>\n    <tr>\n      <th>489</th>\n      <td>10KPG11AC001C</td>\n      <td>13</td>\n    </tr>\n    <tr>\n      <th>490</th>\n      <td>10KPG11AC001D</td>\n      <td>13</td>\n    </tr>\n    <tr>\n      <th>9279</th>\n      <td>11FAK52CL002A</td>\n      <td>13</td>\n    </tr>\n    <tr>\n      <th>...</th>\n      <td>...</td>\n      <td>...</td>\n    </tr>\n    <tr>\n      <th>10989</th>\n      <td>12JEB30CT001B</td>\n      <td>13</td>\n    </tr>\n    <tr>\n      <th>10990</th>\n      <td>12JEB30CT001C</td>\n      <td>13</td>\n    </tr>\n    <tr>\n      <th>10991</th>\n      <td>12JEB40CT001A</td>\n      <td>13</td>\n    </tr>\n    <tr>\n      <th>10992</th>\n      <td>12JEB40CT001B</td>\n      <td>13</td>\n    </tr>\n    <tr>\n      <th>10993</th>\n      <td>12JEB40CT001C</td>\n      <td>13</td>\n    </tr>\n  </tbody>\n</table>\n<p>439 rows × 2 columns</p>\n</div>"
     },
     "execution_count": 32,
     "metadata": {},
     "output_type": "execute_result"
    }
   ],
   "source": [
    "eqp_df.loc[eqp_df['kks_code'].apply(len) == 13, ['kks_code', 'kks_len']]"
   ],
   "metadata": {
    "collapsed": false,
    "ExecuteTime": {
     "end_time": "2023-10-19T15:17:39.853423400Z",
     "start_time": "2023-10-19T15:17:39.830176400Z"
    }
   },
   "id": "af2d9fe805e5ad46"
  },
  {
   "cell_type": "code",
   "execution_count": 33,
   "outputs": [
    {
     "name": "stdout",
     "output_type": "stream",
     "text": [
      "only spf kks:\n",
      "3        00FJC10AX012\n",
      "4        00FJC10AX002\n",
      "5        00FJC10AX010\n",
      "6        00FJC10AX004\n",
      "7        00FJC10AX005\n",
      "             ...     \n",
      "27909    15SAC24AA102\n",
      "27910    15SAE46AA104\n",
      "27911    10KLE36AA619\n",
      "27912    10KLA02AA202\n",
      "27913    10KLA02AA201\n",
      "Name: KKS, Length: 19137, dtype: object\n",
      "only eqp kks:\n",
      "8        11JNG17AA201\n",
      "17       11JNG27AA201\n",
      "26       12JNG37AA201\n",
      "35       12JNG47AA201\n",
      "36       12KBA12AA802\n",
      "             ...     \n",
      "43909    10FAK52AA102\n",
      "43910    10FAK52AA404\n",
      "43911    10FAK52AA405\n",
      "43912    10KAA23AA407\n",
      "43913    10KTH22AA409\n",
      "Name: kks_code, Length: 35136, dtype: object\n"
     ]
    },
    {
     "data": {
      "text/plain": "               asup      no          lot          type set_code      kks_code  \\\n8      AKKU00017133       9  0060/1/2018  Оборудование      NaN  11JNG17AA201   \n17     AKKU00017128      18  0060/1/2018  Оборудование      NaN  11JNG27AA201   \n26     AKKU00017139      27  0060/1/2018  Оборудование      NaN  12JNG37AA201   \n35     AKKU00017126      36  0060/1/2018  Оборудование      NaN  12JNG47AA201   \n36     AKKU00017463     249  0074/1/2018  Оборудование      NaN  12KBA12AA802   \n...             ...     ...          ...           ...      ...           ...   \n43909  AKKU00326895  129420  AKU-23-006м     Материалы      NaN  10FAK52AA102   \n43910  AKKU00326888  129421  AKU-23-006м     Материалы      NaN  10FAK52AA404   \n43911  AKKU00326887  129422  AKU-23-006м     Материалы      NaN  10FAK52AA405   \n43912  AKKU00334117  129423  AKU-23-006м     Материалы      NaN  10KAA23AA407   \n43913  AKKU00331283  129424  AKU-23-006м     Материалы      NaN  10KTH22AA409   \n\n                                                eqp_name              itt  \\\n8                     Устройство дроссельно-регулирующее      AKU-PAA0003   \n17                    Устройство дроссельно-регулирующее      AKU-PAA0003   \n26                    Устройство дроссельно-регулирующее      AKU-PAA0003   \n35                    Устройство дроссельно-регулирующее      AKU-PAA0003   \n36     Клапан быстродействующий запорный Quick action...      AKU-PAA0001   \n...                                                  ...              ...   \n43909                                          Задвижка   AKU-PAA0001_B03   \n43910                                   Клапан запорный   AKU-PAA0001_B03   \n43911                                   Клапан запорный   AKU-PAA0001_B03   \n43912                                   Клапан запорный   AKU-PAA0001_B03   \n43913                                   Клапан запорный   AKU-PAA0001_B03   \n\n      unit building  ... total_cost delivery_fca  delivery_npp  \\\n8        1    10UJB  ...     1440.0   2020-04-09    2020-05-10   \n17       1    10UJB  ...     1440.0   2020-04-09    2020-05-10   \n26       1    10UJB  ...     1440.0   2020-04-09    2020-05-10   \n35       1    10UJB  ...     1440.0   2020-04-09    2020-05-10   \n36       1    10UKA  ...    52769.0   2021-02-21    2021-03-24   \n...    ...      ...  ...        ...          ...           ...   \n43909    1    10UJA  ...    42460.0   2023-11-30    2023-12-25   \n43910    1    10UJA  ...     1770.0   2023-11-30    2023-12-25   \n43911    1    10UJA  ...     1770.0   2023-11-30    2023-12-25   \n43912    1    10UJA  ...     1770.0   2023-11-30    2023-12-25   \n43913    1    10UJA  ...     1770.0   2023-11-30    2023-12-25   \n\n      delivery_expected  delivery_expected_status  delivery_fact  \\\n8                   NaT                Поставлено     2021-12-31   \n17                  NaT                Поставлено     2021-12-31   \n26                  NaT                Поставлено     2021-12-31   \n35                  NaT                Поставлено     2021-12-31   \n36           2023-09-15                       NaN            NaT   \n...                 ...                       ...            ...   \n43909        2023-12-25                       NaN            NaT   \n43910        2023-12-25                       NaN            NaT   \n43911        2023-12-25                       NaN            NaT   \n43912        2023-12-25                       NaN            NaT   \n43913        2023-12-25                       NaN            NaT   \n\n      delivery_fact_status        incoming     pp2022 kks_len  \n8                      NaN  СЕ-15-АВК-0435 2019-04-03      12  \n17                     NaN  СЕ-15-АВК-0435 2019-04-03      12  \n26                     NaN  СЕ-15-АВК-0435 2019-04-03      12  \n35                     NaN  СЕ-15-АВК-0435 2019-04-03      12  \n36                     NaN             NaN 2019-07-21      12  \n...                    ...             ...        ...     ...  \n43909                  NaN             NaN 2023-10-04      12  \n43910                  NaN             NaN 2023-10-04      12  \n43911                  NaN             NaN 2023-10-04      12  \n43912                  NaN             NaN 2023-10-04      12  \n43913                  NaN             NaN 2023-10-04      12  \n\n[35136 rows x 37 columns]",
      "text/html": "<div>\n<style scoped>\n    .dataframe tbody tr th:only-of-type {\n        vertical-align: middle;\n    }\n\n    .dataframe tbody tr th {\n        vertical-align: top;\n    }\n\n    .dataframe thead th {\n        text-align: right;\n    }\n</style>\n<table border=\"1\" class=\"dataframe\">\n  <thead>\n    <tr style=\"text-align: right;\">\n      <th></th>\n      <th>asup</th>\n      <th>no</th>\n      <th>lot</th>\n      <th>type</th>\n      <th>set_code</th>\n      <th>kks_code</th>\n      <th>eqp_name</th>\n      <th>itt</th>\n      <th>unit</th>\n      <th>building</th>\n      <th>...</th>\n      <th>total_cost</th>\n      <th>delivery_fca</th>\n      <th>delivery_npp</th>\n      <th>delivery_expected</th>\n      <th>delivery_expected_status</th>\n      <th>delivery_fact</th>\n      <th>delivery_fact_status</th>\n      <th>incoming</th>\n      <th>pp2022</th>\n      <th>kks_len</th>\n    </tr>\n  </thead>\n  <tbody>\n    <tr>\n      <th>8</th>\n      <td>AKKU00017133</td>\n      <td>9</td>\n      <td>0060/1/2018</td>\n      <td>Оборудование</td>\n      <td>NaN</td>\n      <td>11JNG17AA201</td>\n      <td>Устройство дроссельно-регулирующее</td>\n      <td>AKU-PAA0003</td>\n      <td>1</td>\n      <td>10UJB</td>\n      <td>...</td>\n      <td>1440.0</td>\n      <td>2020-04-09</td>\n      <td>2020-05-10</td>\n      <td>NaT</td>\n      <td>Поставлено</td>\n      <td>2021-12-31</td>\n      <td>NaN</td>\n      <td>СЕ-15-АВК-0435</td>\n      <td>2019-04-03</td>\n      <td>12</td>\n    </tr>\n    <tr>\n      <th>17</th>\n      <td>AKKU00017128</td>\n      <td>18</td>\n      <td>0060/1/2018</td>\n      <td>Оборудование</td>\n      <td>NaN</td>\n      <td>11JNG27AA201</td>\n      <td>Устройство дроссельно-регулирующее</td>\n      <td>AKU-PAA0003</td>\n      <td>1</td>\n      <td>10UJB</td>\n      <td>...</td>\n      <td>1440.0</td>\n      <td>2020-04-09</td>\n      <td>2020-05-10</td>\n      <td>NaT</td>\n      <td>Поставлено</td>\n      <td>2021-12-31</td>\n      <td>NaN</td>\n      <td>СЕ-15-АВК-0435</td>\n      <td>2019-04-03</td>\n      <td>12</td>\n    </tr>\n    <tr>\n      <th>26</th>\n      <td>AKKU00017139</td>\n      <td>27</td>\n      <td>0060/1/2018</td>\n      <td>Оборудование</td>\n      <td>NaN</td>\n      <td>12JNG37AA201</td>\n      <td>Устройство дроссельно-регулирующее</td>\n      <td>AKU-PAA0003</td>\n      <td>1</td>\n      <td>10UJB</td>\n      <td>...</td>\n      <td>1440.0</td>\n      <td>2020-04-09</td>\n      <td>2020-05-10</td>\n      <td>NaT</td>\n      <td>Поставлено</td>\n      <td>2021-12-31</td>\n      <td>NaN</td>\n      <td>СЕ-15-АВК-0435</td>\n      <td>2019-04-03</td>\n      <td>12</td>\n    </tr>\n    <tr>\n      <th>35</th>\n      <td>AKKU00017126</td>\n      <td>36</td>\n      <td>0060/1/2018</td>\n      <td>Оборудование</td>\n      <td>NaN</td>\n      <td>12JNG47AA201</td>\n      <td>Устройство дроссельно-регулирующее</td>\n      <td>AKU-PAA0003</td>\n      <td>1</td>\n      <td>10UJB</td>\n      <td>...</td>\n      <td>1440.0</td>\n      <td>2020-04-09</td>\n      <td>2020-05-10</td>\n      <td>NaT</td>\n      <td>Поставлено</td>\n      <td>2021-12-31</td>\n      <td>NaN</td>\n      <td>СЕ-15-АВК-0435</td>\n      <td>2019-04-03</td>\n      <td>12</td>\n    </tr>\n    <tr>\n      <th>36</th>\n      <td>AKKU00017463</td>\n      <td>249</td>\n      <td>0074/1/2018</td>\n      <td>Оборудование</td>\n      <td>NaN</td>\n      <td>12KBA12AA802</td>\n      <td>Клапан быстродействующий запорный Quick action...</td>\n      <td>AKU-PAA0001</td>\n      <td>1</td>\n      <td>10UKA</td>\n      <td>...</td>\n      <td>52769.0</td>\n      <td>2021-02-21</td>\n      <td>2021-03-24</td>\n      <td>2023-09-15</td>\n      <td>NaN</td>\n      <td>NaT</td>\n      <td>NaN</td>\n      <td>NaN</td>\n      <td>2019-07-21</td>\n      <td>12</td>\n    </tr>\n    <tr>\n      <th>...</th>\n      <td>...</td>\n      <td>...</td>\n      <td>...</td>\n      <td>...</td>\n      <td>...</td>\n      <td>...</td>\n      <td>...</td>\n      <td>...</td>\n      <td>...</td>\n      <td>...</td>\n      <td>...</td>\n      <td>...</td>\n      <td>...</td>\n      <td>...</td>\n      <td>...</td>\n      <td>...</td>\n      <td>...</td>\n      <td>...</td>\n      <td>...</td>\n      <td>...</td>\n      <td>...</td>\n    </tr>\n    <tr>\n      <th>43909</th>\n      <td>AKKU00326895</td>\n      <td>129420</td>\n      <td>AKU-23-006м</td>\n      <td>Материалы</td>\n      <td>NaN</td>\n      <td>10FAK52AA102</td>\n      <td>Задвижка</td>\n      <td>AKU-PAA0001_B03</td>\n      <td>1</td>\n      <td>10UJA</td>\n      <td>...</td>\n      <td>42460.0</td>\n      <td>2023-11-30</td>\n      <td>2023-12-25</td>\n      <td>2023-12-25</td>\n      <td>NaN</td>\n      <td>NaT</td>\n      <td>NaN</td>\n      <td>NaN</td>\n      <td>2023-10-04</td>\n      <td>12</td>\n    </tr>\n    <tr>\n      <th>43910</th>\n      <td>AKKU00326888</td>\n      <td>129421</td>\n      <td>AKU-23-006м</td>\n      <td>Материалы</td>\n      <td>NaN</td>\n      <td>10FAK52AA404</td>\n      <td>Клапан запорный</td>\n      <td>AKU-PAA0001_B03</td>\n      <td>1</td>\n      <td>10UJA</td>\n      <td>...</td>\n      <td>1770.0</td>\n      <td>2023-11-30</td>\n      <td>2023-12-25</td>\n      <td>2023-12-25</td>\n      <td>NaN</td>\n      <td>NaT</td>\n      <td>NaN</td>\n      <td>NaN</td>\n      <td>2023-10-04</td>\n      <td>12</td>\n    </tr>\n    <tr>\n      <th>43911</th>\n      <td>AKKU00326887</td>\n      <td>129422</td>\n      <td>AKU-23-006м</td>\n      <td>Материалы</td>\n      <td>NaN</td>\n      <td>10FAK52AA405</td>\n      <td>Клапан запорный</td>\n      <td>AKU-PAA0001_B03</td>\n      <td>1</td>\n      <td>10UJA</td>\n      <td>...</td>\n      <td>1770.0</td>\n      <td>2023-11-30</td>\n      <td>2023-12-25</td>\n      <td>2023-12-25</td>\n      <td>NaN</td>\n      <td>NaT</td>\n      <td>NaN</td>\n      <td>NaN</td>\n      <td>2023-10-04</td>\n      <td>12</td>\n    </tr>\n    <tr>\n      <th>43912</th>\n      <td>AKKU00334117</td>\n      <td>129423</td>\n      <td>AKU-23-006м</td>\n      <td>Материалы</td>\n      <td>NaN</td>\n      <td>10KAA23AA407</td>\n      <td>Клапан запорный</td>\n      <td>AKU-PAA0001_B03</td>\n      <td>1</td>\n      <td>10UJA</td>\n      <td>...</td>\n      <td>1770.0</td>\n      <td>2023-11-30</td>\n      <td>2023-12-25</td>\n      <td>2023-12-25</td>\n      <td>NaN</td>\n      <td>NaT</td>\n      <td>NaN</td>\n      <td>NaN</td>\n      <td>2023-10-04</td>\n      <td>12</td>\n    </tr>\n    <tr>\n      <th>43913</th>\n      <td>AKKU00331283</td>\n      <td>129424</td>\n      <td>AKU-23-006м</td>\n      <td>Материалы</td>\n      <td>NaN</td>\n      <td>10KTH22AA409</td>\n      <td>Клапан запорный</td>\n      <td>AKU-PAA0001_B03</td>\n      <td>1</td>\n      <td>10UJA</td>\n      <td>...</td>\n      <td>1770.0</td>\n      <td>2023-11-30</td>\n      <td>2023-12-25</td>\n      <td>2023-12-25</td>\n      <td>NaN</td>\n      <td>NaT</td>\n      <td>NaN</td>\n      <td>NaN</td>\n      <td>2023-10-04</td>\n      <td>12</td>\n    </tr>\n  </tbody>\n</table>\n<p>35136 rows × 37 columns</p>\n</div>"
     },
     "execution_count": 33,
     "metadata": {},
     "output_type": "execute_result"
    }
   ],
   "source": [
    "# filtered1 = df.loc[df['NOMEN_NAME_SPR'].isnull() & df['NAME'].isnull(), 'KKS']\n",
    "\n",
    "only_spf = spf_df[~spf_df['KKS'].isin(eqp_df['kks_code'])]\n",
    "only_eqp = eqp_df[~eqp_df['kks_code'].isin(spf_df['KKS'])]\n",
    "common_vals = spf_df[spf_df['KKS'].isin(eqp_df['kks_code'])]\n",
    "\n",
    "# eqp_df[eqp_df['kks_code'].isin(filtered1)]\n",
    "\n",
    "print('only spf kks:')\n",
    "print(only_spf['KKS'])\n",
    "print('only eqp kks:')\n",
    "print(only_eqp['kks_code'])\n",
    "\n",
    "only_eqp"
   ],
   "metadata": {
    "collapsed": false,
    "ExecuteTime": {
     "end_time": "2023-10-19T15:21:23.699532500Z",
     "start_time": "2023-10-19T15:21:23.630824900Z"
    }
   },
   "id": "a8d61cb51b4c50c"
  }
 ],
 "metadata": {
  "kernelspec": {
   "display_name": "Python 3",
   "language": "python",
   "name": "python3"
  },
  "language_info": {
   "codemirror_mode": {
    "name": "ipython",
    "version": 2
   },
   "file_extension": ".py",
   "mimetype": "text/x-python",
   "name": "python",
   "nbconvert_exporter": "python",
   "pygments_lexer": "ipython2",
   "version": "2.7.6"
  }
 },
 "nbformat": 4,
 "nbformat_minor": 5
}
