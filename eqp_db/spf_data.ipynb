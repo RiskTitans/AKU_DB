{
 "cells": [
  {
   "cell_type": "code",
   "execution_count": 1,
   "id": "initial_id",
   "metadata": {
    "collapsed": true,
    "ExecuteTime": {
     "end_time": "2023-10-18T08:21:38.447696600Z",
     "start_time": "2023-10-18T08:21:37.963537800Z"
    }
   },
   "outputs": [],
   "source": [
    "import pandas as pd"
   ]
  },
  {
   "cell_type": "code",
   "execution_count": 12,
   "outputs": [],
   "source": [
    "spf_file_path = r'C:\\Users\\yuriy\\Desktop\\db_tables\\EQPDB\\clean_excel\\SPF_2022_09_12.xlsx'\n",
    "spf_df = pd.read_excel(spf_file_path)"
   ],
   "metadata": {
    "collapsed": false,
    "ExecuteTime": {
     "end_time": "2023-10-18T09:12:44.979421900Z",
     "start_time": "2023-10-18T09:11:01.556979300Z"
    }
   },
   "id": "b9e9430dc0e81780"
  },
  {
   "cell_type": "code",
   "execution_count": 162,
   "outputs": [],
   "source": [
    "# df = spf_df.dropna(axis='columns', how='all').drop(spf_df.columns[0:7], axis=1)\n",
    "df = spf_df[['KKS', 'MCS', 'BLOCK_NUMBER', 'NOMEN_NAME_SPR', 'NAME', 'MARKA_PROT', 'TEC', 'TU', 'ITT', 'CLASS_BEZOPAS', 'GROUP_PNAEG', 'KATEG_SEISMO', 'ARMAT_NP068', 'KATEG_OK', 'ARMAT_KLASS_MAT', 'KOLVO', 'ED_ISM', 'ED_MASSA', 'MASSA_ED', 'MASSA_ALL', 'OBRD_KLASS', 'NOMEN_VID', 'KOD_WD', 'ZDANIE_KKS', 'ELEVATION', 'STORAGECOND', 'ATMTYPE', 'CLIMATEISP_LOC', 'KOMPLEKT_RD']].copy()\n",
    "df['kks_mcs'] = ''\n",
    "df.loc[df['KKS'].isnull(), 'kks_mcs'] = 'MCS'\n",
    "df.loc[df['MCS'].isnull(), 'kks_mcs'] = 'KKS'\n",
    "df.loc[df['KKS'].isnull(), 'KKS'] = df.loc[df['KKS'].isnull(), 'MCS']\n",
    "\n",
    "df.loc[df['NAME'].isnull(), 'NAME'] = df.loc[df['NAME'].isnull(), 'NOMEN_NAME_SPR']\n",
    "df.loc[:, 'ARMAT_KLASS_MAT'] = df['ARMAT_KLASS_MAT'].str.split('/').str[0]\n",
    "df.loc[:, 'NAME'] = df['NAME'].str.split('/').str[0]\n",
    "\n",
    "def clean_string(s):\n",
    "    return ' '.join(s.split())\n",
    "\n",
    "df = df.map(lambda x: clean_string(x) if isinstance(x, str) else x)\n",
    "\n",
    "df['kks_len'] = df['KKS'].apply(lambda x: len(str(x)))\n",
    "df = df[df['kks_len'] >= 12]\n",
    "\n",
    "#qty_unit\n",
    "qty_re = {\n",
    "        'шт': 'pcs',\n",
    "        'pcs':'psc',\n",
    "        'кг': 'kg',\n",
    "        'компл': 'set',\n",
    "        'Комплект': 'set',\n",
    "        'к-т': 'set',\n",
    "        'set': 'set',\n",
    "        'pc': 'pcs',\n",
    "        'л': 'l',\n",
    "        'пар': 'pair',\n",
    "        'ампула': 'ampule',\n",
    "        'упак': 'pack',\n",
    "        'рул': 'pack'\n",
    "}\n",
    "for old_value, new_value in (qty_re.items()):\n",
    "    # print(filtered_df.loc[filtered_df['qty_unit'].str.contains(old_value, case=False, na=False), 'qty_unit'])\n",
    "    df.loc[df['ED_ISM'].str.contains(old_value, case=False, na=False), 'ED_ISM'] = new_value\n",
    "\n",
    "df.drop(columns='MCS', inplace=True)\n",
    "df.drop(columns='NOMEN_NAME_SPR', inplace=True)\n",
    "df.drop(columns='kks_len', inplace=True)"
   ],
   "metadata": {
    "collapsed": false,
    "ExecuteTime": {
     "end_time": "2023-10-18T13:14:01.946022700Z",
     "start_time": "2023-10-18T13:13:57.181287800Z"
    }
   },
   "id": "8389ec2c1740d418"
  },
  {
   "cell_type": "code",
   "execution_count": 163,
   "outputs": [],
   "source": [
    "def clean_string(s):\n",
    "    if isinstance(s, str):\n",
    "        s = s.lstrip('-')\n",
    "        s = s.rstrip(';')\n",
    "        return s\n",
    "    else:\n",
    "        return s\n",
    "\n",
    "def extract_elevation(s):\n",
    "    parts = s.split(';')\n",
    "    if len(parts) >= 2:\n",
    "        if 'На улице' in parts or 'На крыше' in parts:\n",
    "            return parts[1]  # Return the right side\n",
    "    return parts[0]  # Return the left side\n",
    "\n",
    "df['ELEVATION'] = df['ELEVATION'].apply(clean_string).apply(extract_elevation)\n",
    "\n"
   ],
   "metadata": {
    "collapsed": false,
    "ExecuteTime": {
     "end_time": "2023-10-18T13:14:03.268004200Z",
     "start_time": "2023-10-18T13:14:03.154260300Z"
    }
   },
   "id": "30e8be6db503ac3e"
  },
  {
   "cell_type": "code",
   "execution_count": 133,
   "outputs": [
    {
     "data": {
      "text/plain": "'-10UJA36'"
     },
     "execution_count": 133,
     "metadata": {},
     "output_type": "execute_result"
    }
   ],
   "source": [
    "df.iloc[41, 21]"
   ],
   "metadata": {
    "collapsed": false,
    "ExecuteTime": {
     "end_time": "2023-10-18T12:44:46.782872300Z",
     "start_time": "2023-10-18T12:44:46.767272100Z"
    }
   },
   "id": "78c6e5bb569f54c5"
  },
  {
   "cell_type": "code",
   "execution_count": 142,
   "outputs": [
    {
     "name": "stdout",
     "output_type": "stream",
     "text": [
      "<class 'pandas.core.frame.DataFrame'>\n",
      "Index: 243465 entries, 0 to 250556\n",
      "Data columns (total 28 columns):\n",
      " #   Column           Non-Null Count   Dtype  \n",
      "---  ------           --------------   -----  \n",
      " 0   KKS              243465 non-null  object \n",
      " 1   BLOCK_NUMBER     192403 non-null  float64\n",
      " 2   NAME             237821 non-null  object \n",
      " 3   MARKA_PROT       243465 non-null  object \n",
      " 4   TEC              112523 non-null  object \n",
      " 5   TU               243465 non-null  object \n",
      " 6   ITT              243465 non-null  object \n",
      " 7   CLASS_BEZOPAS    243465 non-null  object \n",
      " 8   GROUP_PNAEG      243465 non-null  object \n",
      " 9   KATEG_SEISMO     243465 non-null  object \n",
      " 10  ARMAT_NP068      88818 non-null   object \n",
      " 11  KATEG_OK         243465 non-null  object \n",
      " 12  ARMAT_KLASS_MAT  243465 non-null  object \n",
      " 13  KOLVO            243465 non-null  float64\n",
      " 14  ED_ISM           243465 non-null  object \n",
      " 15  ED_MASSA         243465 non-null  object \n",
      " 16  MASSA_ED         195206 non-null  float64\n",
      " 17  MASSA_ALL        195206 non-null  float64\n",
      " 18  OBRD_KLASS       215452 non-null  object \n",
      " 19  NOMEN_VID        243465 non-null  object \n",
      " 20  KOD_WD           120503 non-null  object \n",
      " 21  ZDANIE_KKS       241174 non-null  object \n",
      " 22  ELEVATION        243465 non-null  object \n",
      " 23  STORAGECOND      243465 non-null  object \n",
      " 24  ATMTYPE          243465 non-null  object \n",
      " 25  CLIMATEISP_LOC   243465 non-null  object \n",
      " 26  KOMPLEKT_RD      124023 non-null  object \n",
      " 27  kks_mcs          243465 non-null  object \n",
      "dtypes: float64(4), object(24)\n",
      "memory usage: 53.9+ MB\n"
     ]
    }
   ],
   "source": [
    "df.info()"
   ],
   "metadata": {
    "collapsed": false,
    "ExecuteTime": {
     "end_time": "2023-10-18T12:49:27.489449500Z",
     "start_time": "2023-10-18T12:49:27.437454600Z"
    }
   },
   "id": "cd64299d7b936087"
  },
  {
   "cell_type": "code",
   "execution_count": 143,
   "outputs": [
    {
     "data": {
      "text/plain": "KKS                  20\nBLOCK_NUMBER          3\nNAME               1566\nMARKA_PROT           78\nTEC                3067\nTU                   78\nITT                  42\nCLASS_BEZOPAS        10\nGROUP_PNAEG           1\nKATEG_SEISMO          3\nARMAT_NP068           6\nKATEG_OK              3\nARMAT_KLASS_MAT      21\nKOLVO                18\nED_ISM                4\nED_MASSA              2\nMASSA_ED             20\nMASSA_ALL            20\nOBRD_KLASS           12\nNOMEN_VID             5\nKOD_WD               34\nZDANIE_KKS            5\nELEVATION            13\nSTORAGECOND           3\nATMTYPE               3\nCLIMATEISP_LOC       13\nKOMPLEKT_RD          17\nkks_mcs               3\ndtype: int64"
     },
     "execution_count": 143,
     "metadata": {},
     "output_type": "execute_result"
    }
   ],
   "source": [
    "max_lengths = df.map(lambda x: len(str(x))).max()\n",
    "max_lengths"
   ],
   "metadata": {
    "collapsed": false,
    "ExecuteTime": {
     "end_time": "2023-10-18T12:49:42.434250100Z",
     "start_time": "2023-10-18T12:49:40.342520300Z"
    }
   },
   "id": "aae3a9e16bf1e29f"
  },
  {
   "cell_type": "code",
   "execution_count": 83,
   "outputs": [
    {
     "data": {
      "text/plain": "        BLOCK_NUMBER\n0                2.0\n1                2.0\n2                2.0\n3                2.0\n4                2.0\n...              ...\n250546           1.0\n250550           1.0\n250551           1.0\n250552           1.0\n250555           1.0\n\n[192403 rows x 1 columns]",
      "text/html": "<div>\n<style scoped>\n    .dataframe tbody tr th:only-of-type {\n        vertical-align: middle;\n    }\n\n    .dataframe tbody tr th {\n        vertical-align: top;\n    }\n\n    .dataframe thead th {\n        text-align: right;\n    }\n</style>\n<table border=\"1\" class=\"dataframe\">\n  <thead>\n    <tr style=\"text-align: right;\">\n      <th></th>\n      <th>BLOCK_NUMBER</th>\n    </tr>\n  </thead>\n  <tbody>\n    <tr>\n      <th>0</th>\n      <td>2.0</td>\n    </tr>\n    <tr>\n      <th>1</th>\n      <td>2.0</td>\n    </tr>\n    <tr>\n      <th>2</th>\n      <td>2.0</td>\n    </tr>\n    <tr>\n      <th>3</th>\n      <td>2.0</td>\n    </tr>\n    <tr>\n      <th>4</th>\n      <td>2.0</td>\n    </tr>\n    <tr>\n      <th>...</th>\n      <td>...</td>\n    </tr>\n    <tr>\n      <th>250546</th>\n      <td>1.0</td>\n    </tr>\n    <tr>\n      <th>250550</th>\n      <td>1.0</td>\n    </tr>\n    <tr>\n      <th>250551</th>\n      <td>1.0</td>\n    </tr>\n    <tr>\n      <th>250552</th>\n      <td>1.0</td>\n    </tr>\n    <tr>\n      <th>250555</th>\n      <td>1.0</td>\n    </tr>\n  </tbody>\n</table>\n<p>192403 rows × 1 columns</p>\n</div>"
     },
     "execution_count": 83,
     "metadata": {},
     "output_type": "execute_result"
    }
   ],
   "source": [
    "df.loc[df['BLOCK_NUMBER'].apply(lambda x: len(str(x)) if pd.notna(x) else 0) > 2, ['BLOCK_NUMBER']]"
   ],
   "metadata": {
    "collapsed": false,
    "ExecuteTime": {
     "end_time": "2023-10-18T09:53:40.065173Z",
     "start_time": "2023-10-18T09:53:39.877651600Z"
    }
   },
   "id": "df53b6f8e2e0fb9f"
  },
  {
   "cell_type": "code",
   "execution_count": 89,
   "outputs": [
    {
     "data": {
      "text/plain": "                 KKS kks_mcs NAME\n36      12JNG30AA601     KKS  NaN\n37      12JNG40AA601     KKS  NaN\n38      11JNG20AA601     KKS  NaN\n39      11JNG10AA601     KKS  NaN\n74      32JNG30AA601     KKS  NaN\n...              ...     ...  ...\n250387  40KPF90AA002     KKS  NaN\n250388  40KPF16AA003     KKS  NaN\n250389  40KPG19AA112     KKS  NaN\n250422  40KPG16AA102     KKS  NaN\n250424  20KPC10AA600     KKS  NaN\n\n[5644 rows x 3 columns]",
      "text/html": "<div>\n<style scoped>\n    .dataframe tbody tr th:only-of-type {\n        vertical-align: middle;\n    }\n\n    .dataframe tbody tr th {\n        vertical-align: top;\n    }\n\n    .dataframe thead th {\n        text-align: right;\n    }\n</style>\n<table border=\"1\" class=\"dataframe\">\n  <thead>\n    <tr style=\"text-align: right;\">\n      <th></th>\n      <th>KKS</th>\n      <th>kks_mcs</th>\n      <th>NAME</th>\n    </tr>\n  </thead>\n  <tbody>\n    <tr>\n      <th>36</th>\n      <td>12JNG30AA601</td>\n      <td>KKS</td>\n      <td>NaN</td>\n    </tr>\n    <tr>\n      <th>37</th>\n      <td>12JNG40AA601</td>\n      <td>KKS</td>\n      <td>NaN</td>\n    </tr>\n    <tr>\n      <th>38</th>\n      <td>11JNG20AA601</td>\n      <td>KKS</td>\n      <td>NaN</td>\n    </tr>\n    <tr>\n      <th>39</th>\n      <td>11JNG10AA601</td>\n      <td>KKS</td>\n      <td>NaN</td>\n    </tr>\n    <tr>\n      <th>74</th>\n      <td>32JNG30AA601</td>\n      <td>KKS</td>\n      <td>NaN</td>\n    </tr>\n    <tr>\n      <th>...</th>\n      <td>...</td>\n      <td>...</td>\n      <td>...</td>\n    </tr>\n    <tr>\n      <th>250387</th>\n      <td>40KPF90AA002</td>\n      <td>KKS</td>\n      <td>NaN</td>\n    </tr>\n    <tr>\n      <th>250388</th>\n      <td>40KPF16AA003</td>\n      <td>KKS</td>\n      <td>NaN</td>\n    </tr>\n    <tr>\n      <th>250389</th>\n      <td>40KPG19AA112</td>\n      <td>KKS</td>\n      <td>NaN</td>\n    </tr>\n    <tr>\n      <th>250422</th>\n      <td>40KPG16AA102</td>\n      <td>KKS</td>\n      <td>NaN</td>\n    </tr>\n    <tr>\n      <th>250424</th>\n      <td>20KPC10AA600</td>\n      <td>KKS</td>\n      <td>NaN</td>\n    </tr>\n  </tbody>\n</table>\n<p>5644 rows × 3 columns</p>\n</div>"
     },
     "execution_count": 89,
     "metadata": {},
     "output_type": "execute_result"
    }
   ],
   "source": [
    "df.loc[df['NAME'].isnull(), ['KKS', 'kks_mcs', 'NAME']]"
   ],
   "metadata": {
    "collapsed": false
   },
   "id": "13c31e8481b471fc"
  },
  {
   "cell_type": "code",
   "execution_count": null,
   "outputs": [],
   "source": [
    "# filtered1 = df.loc[df['NOMEN_NAME_SPR'].isnull() & df['NAME'].isnull(), 'KKS']\n",
    "# \n",
    "# only_spf = filtered1[~filtered1.isin(eqp_df['kks_code'])]\n",
    "# only_eqp = eqp_df[~eqp_df['kks_code'].isin(filtered1)]\n",
    "# common_vals = filtered1[filtered1.isin(eqp_df['kks_code'])]\n",
    "# \n",
    "# eqp_df[eqp_df['kks_code'].isin(filtered1)]"
   ],
   "metadata": {
    "collapsed": false
   },
   "id": "853126e4f8c42c8d"
  },
  {
   "cell_type": "code",
   "execution_count": 164,
   "outputs": [
    {
     "data": {
      "text/plain": "644       10UKC\n805       10UKC\n1175      10UKC\n3460      10UKC\n3479      10UKC\n          ...  \n250244    10UKC\n250245    10UKC\n250246    10UKC\n250247    10UKC\n250267    10UKC\nName: ZDANIE_KKS, Length: 13283, dtype: object"
     },
     "execution_count": 164,
     "metadata": {},
     "output_type": "execute_result"
    }
   ],
   "source": [
    "df.loc[: ,'ZDANIE_KKS_2'] = ''\n",
    "df.loc[df['ZDANIE_KKS'].str.contains('10UJA', na=False, case=False), 'ZDANIE_KKS_2'] = '10UJA'\n",
    "df.loc[df['ZDANIE_KKS'].str.contains('10UKC', na=False, case=False), 'ZDANIE_KKS_2'] = '10UKC'\n",
    "df = df[df['ZDANIE_KKS_2'].str.contains('10UJA|10UKC', case=False, na=False )]\n",
    "df = df[~df['ZDANIE_KKS'].str.contains('UKZ|UMY|UJZ')]\n",
    "df.loc[df['ZDANIE_KKS'].str.contains('UKC', na=False, case=False), 'ZDANIE_KKS']"
   ],
   "metadata": {
    "collapsed": false,
    "ExecuteTime": {
     "end_time": "2023-10-18T13:14:11.958644Z",
     "start_time": "2023-10-18T13:14:11.698257900Z"
    }
   },
   "id": "106802b52b3ae84d"
  },
  {
   "cell_type": "code",
   "execution_count": 165,
   "outputs": [],
   "source": [
    "col_name = ['KKS', 'kks_mcs', 'NAME', 'BLOCK_NUMBER', 'OBRD_KLASS', 'NOMEN_VID', 'ZDANIE_KKS', 'ZDANIE_KKS_2', 'KOMPLEKT_RD', 'KOD_WD',  'ELEVATION', 'TEC', 'TU', 'ITT', 'MARKA_PROT', 'CLASS_BEZOPAS', 'GROUP_PNAEG', 'KATEG_SEISMO', 'ARMAT_NP068', 'KATEG_OK',  'STORAGECOND', 'ATMTYPE', 'CLIMATEISP_LOC', 'ARMAT_KLASS_MAT', 'KOLVO', 'ED_ISM', 'ED_MASSA', 'MASSA_ED', 'MASSA_ALL' ]\n",
    "df = df[col_name]\n",
    "\n",
    "df.to_excel(r'C:\\Users\\yuriy\\Desktop\\db_tables\\EQPDB\\clean_excel\\spf_clean.xlsx', index=False, float_format=\"%.4f\")"
   ],
   "metadata": {
    "collapsed": false,
    "ExecuteTime": {
     "end_time": "2023-10-18T13:14:30.530695700Z",
     "start_time": "2023-10-18T13:14:20.972376700Z"
    }
   },
   "id": "b0571abf1e8ec663"
  }
 ],
 "metadata": {
  "kernelspec": {
   "display_name": "Python 3",
   "language": "python",
   "name": "python3"
  },
  "language_info": {
   "codemirror_mode": {
    "name": "ipython",
    "version": 2
   },
   "file_extension": ".py",
   "mimetype": "text/x-python",
   "name": "python",
   "nbconvert_exporter": "python",
   "pygments_lexer": "ipython2",
   "version": "2.7.6"
  }
 },
 "nbformat": 4,
 "nbformat_minor": 5
}
