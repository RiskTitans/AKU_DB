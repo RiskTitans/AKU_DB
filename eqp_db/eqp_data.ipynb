{
 "cells": [
  {
   "cell_type": "code",
   "execution_count": 108,
   "outputs": [],
   "source": [
    "import pandas as pd\n",
    "import re"
   ],
   "metadata": {
    "collapsed": false,
    "ExecuteTime": {
     "end_time": "2023-10-12T10:43:45.621943500Z",
     "start_time": "2023-10-12T10:43:45.606948900Z"
    }
   },
   "id": "92b5f9b83419153f"
  },
  {
   "cell_type": "code",
   "execution_count": 109,
   "outputs": [],
   "source": [
    "# read eqp file as df\n",
    "eqp_file_path = r'C:\\Users\\yuriy\\Desktop\\db_tables\\EQPDB\\clean_excel\\equipment.xlsx'\n",
    "eqp_cols = [0, 1, 2, 3, 4, 5, 6, 7, 8, 11, 12, 15, 16, 18, 19, 23, 24, 25, 26, 27, 29, 30, 31, 32, 33, 34, 35, 39, 40, 41, 45, 46, 60]\n",
    "df = pd.read_excel(eqp_file_path, sheet_name='Общий свод', usecols=eqp_cols)"
   ],
   "metadata": {
    "collapsed": false,
    "ExecuteTime": {
     "end_time": "2023-10-12T10:44:42.839779900Z",
     "start_time": "2023-10-12T10:43:48.414478500Z"
    }
   },
   "id": "7edb62edb3816b21"
  },
  {
   "cell_type": "code",
   "execution_count": 110,
   "outputs": [],
   "source": [
    "# read supplier file as df\n",
    "splr_file_path = r'C:\\Users\\yuriy\\Desktop\\db_tables\\EQPDB\\clean_excel\\contract_supplier.xlsx'\n",
    "supplier_df = pd.read_excel(splr_file_path)"
   ],
   "metadata": {
    "collapsed": false,
    "ExecuteTime": {
     "end_time": "2023-10-12T10:44:53.371637700Z",
     "start_time": "2023-10-12T10:44:53.302936Z"
    }
   },
   "id": "816f784dc25d7f58"
  },
  {
   "cell_type": "code",
   "execution_count": 111,
   "outputs": [],
   "source": [
    "col_name = ['asup', 'no', 'lot', 'type', 'set_code', 'kks_code', 'eqp_name', 'itt', 'unit', 'building', 'safety_class', 'qty', 'qty_unit', 'mass_kg', \n",
    "            'mass_net', 'work_id', 'contract_no', 'contract_date', 'supplier', 'manufacturer', 'supervisor', 'division', 'unit_cost', 'unit_cost_wat',\n",
    "            'installation_cost', 'adjustment_service_cost', 'total_cost', 'delivery_fca', 'delivery_npp', 'delivery_expected', 'delivery_fact', 'incoming', 'pp2022' ]\n",
    "supplier_cols = ['object', 'supervisor', 'supplier', 'contract_no', 'contract_date', 'contract_name']\n",
    "df2 = df.copy()"
   ],
   "metadata": {
    "collapsed": false,
    "ExecuteTime": {
     "end_time": "2023-10-12T10:44:54.287705200Z",
     "start_time": "2023-10-12T10:44:54.260624500Z"
    }
   },
   "id": "e1700cbcd71bd1b"
  },
  {
   "cell_type": "code",
   "execution_count": 112,
   "outputs": [],
   "source": [
    "df2.drop(range(2), inplace=True)\n",
    "df2.columns = col_name\n",
    "supplier_df.columns = supplier_cols"
   ],
   "metadata": {
    "collapsed": false,
    "ExecuteTime": {
     "end_time": "2023-10-12T10:45:07.429129600Z",
     "start_time": "2023-10-12T10:45:07.388095600Z"
    }
   },
   "id": "ca47c75990955c6e"
  },
  {
   "cell_type": "code",
   "execution_count": 113,
   "outputs": [],
   "source": [
    "#only 10UJA and 10UKC, except UKZ UMY UJZ\n",
    "df2['building_2'] = ''\n",
    "df2.loc[df2['building'].str.contains('10UJA', na=False, case=False), 'building_2'] = '10UJA'\n",
    "df2.loc[df2['building'].str.contains('10UKC', na=False, case=False), 'building_2'] = '10UKC'\n",
    "filtered_df = df2[df2['building_2'].str.contains('10UJA|10UKC', case=False, na=False )]\n",
    "filtered_df = filtered_df[~filtered_df['building'].str.contains('UKZ|UMY|UJZ')]\n",
    "\n",
    "#clean null values \n",
    "filtered_df.loc[:,'kks_code'] = filtered_df['kks_code'].replace(['-','–'], pd.NA)\n",
    "filtered_df = filtered_df.dropna(how='any', subset=['asup','kks_code'])\n",
    "\n",
    "#letter problem solving \n",
    "upper_letters = {\n",
    "    'А': 'A',\n",
    "    'В':'B',\n",
    "    'С': 'C',\n",
    "    'Е': 'E',\n",
    "    'О': 'O',\n",
    "    'Р': 'P',\n",
    "    'Х': 'X',\n",
    "    'М': 'M',\n",
    "    'К':'K',\n",
    "    'Т':'T',\n",
    "    'Н':'H',\n",
    "\n",
    "}\n",
    "lower_letters = {\n",
    "    'а': 'a',\n",
    "    'с': 'c',\n",
    "    'е': 'e',\n",
    "    'о': 'o',\n",
    "    'р': 'p',\n",
    "    'х': 'x'\n",
    "}\n",
    "filtered_df['asup'] = filtered_df['asup'].str.upper()\n",
    "filtered_df['kks_code'] = filtered_df['kks_code'].str.upper()\n",
    "filtered_df['work_id'] = filtered_df['work_id'].str.upper()\n",
    "\n",
    "def replace_similar_chars(text, mapping):\n",
    "    for old_char, new_char in mapping.items():\n",
    "        text = text.replace(old_char, new_char)\n",
    "    return text\n",
    "\n",
    "# Apply the function for lower case characters\n",
    "filtered_df['asup'] = filtered_df['asup'].apply(lambda x: replace_similar_chars(x, lower_letters))\n",
    "filtered_df['kks_code'] = filtered_df['kks_code'].apply(lambda x: replace_similar_chars(x, lower_letters))\n",
    "filtered_df['work_id'] = filtered_df.apply(lambda row: replace_similar_chars(row['work_id'], upper_letters) if isinstance(row['work_id'], str) and  len(row['work_id']) > 8 else row['work_id'], axis=1)\n",
    "\n",
    "\n",
    "filtered_df['no'] = filtered_df['no'].astype(dtype='int', copy=True)\n",
    "filtered_df[['qty', 'mass_kg', 'mass_net']] = filtered_df[['qty', 'mass_kg', 'mass_net']].fillna(0)\n",
    "filtered_df[['unit_cost', 'unit_cost_wat', 'installation_cost', 'adjustment_service_cost', 'total_cost']] = filtered_df[['unit_cost', 'unit_cost_wat', 'installation_cost', 'adjustment_service_cost', 'total_cost']].fillna(0) \n",
    "\n",
    "filtered_df['contract_date'] = pd.to_datetime(filtered_df['contract_date'], errors='coerce')\n",
    "filtered_df['delivery_fca'] = pd.to_datetime(filtered_df['delivery_fca'], errors='coerce')\n",
    "filtered_df['delivery_npp'] = pd.to_datetime(filtered_df['delivery_npp'], errors='coerce')\n",
    "filtered_df['delivery_expected_status'] = filtered_df['delivery_expected'].copy()\n",
    "filtered_df['delivery_fact_status'] = filtered_df['delivery_fact'].copy()\n",
    "\n",
    "date_format = '%Y-%m-%d'\n",
    "filtered_df['delivery_expected_status'] = filtered_df['delivery_expected'].where(pd.to_datetime(filtered_df['delivery_expected'], format=date_format, errors='coerce').isna())\n",
    "filtered_df.loc[:, 'delivery_expected'] =  pd.to_datetime(filtered_df['delivery_expected'], format=date_format, errors='coerce')\n",
    "filtered_df['delivery_fact_status'] = filtered_df['delivery_fact'].where(pd.to_datetime(filtered_df['delivery_fact'], format=date_format,  errors='coerce').isna())\n",
    "filtered_df.loc[:, 'delivery_fact'] =  pd.to_datetime(filtered_df['delivery_fact'], format=date_format, errors='coerce')\n",
    "\n",
    "building_re = {\n",
    "    'UBB': 'UBB',\n",
    "    'UJB': 'UJB',\n",
    "    'UJC': 'UJC',\n",
    "    'UJE': 'UJE',\n",
    "    'UBP': 'UBP',\n",
    "    'UKA': 'UKA',\n",
    "    'UJG': 'UJG',\n",
    "    'UKC': 'UKC',\n",
    "    'UJA': 'UJA'\n",
    "}\n",
    "for pattern, replacement in building_re.items():\n",
    "    filtered_df.loc[:, 'building'] = filtered_df['building'].str.replace(pattern, replacement)\n",
    "    \n"
   ],
   "metadata": {
    "collapsed": false,
    "ExecuteTime": {
     "end_time": "2023-10-12T10:45:09.615303800Z",
     "start_time": "2023-10-12T10:45:08.637286200Z"
    }
   },
   "id": "c8b4c004a6e6e7c8"
  },
  {
   "cell_type": "code",
   "execution_count": 114,
   "outputs": [],
   "source": [
    "#qty_unit\n",
    "qty_re = {\n",
    "    'шт': 'pcs',\n",
    "    'pcs':'psc',\n",
    "    'кг': 'kg',\n",
    "    'компл': 'set',\n",
    "    'Комплект': 'set',\n",
    "    'к-т': 'set',\n",
    "    'set': 'set',\n",
    "    'pc': 'pcs'\n",
    "}\n",
    "for old_value, new_value in (qty_re.items()):\n",
    "    # print(filtered_df.loc[filtered_df['qty_unit'].str.contains(old_value, case=False, na=False), 'qty_unit'])\n",
    "    filtered_df.loc[filtered_df['qty_unit'].str.contains(old_value, case=False, na=False), 'qty_unit'] = new_value\n"
   ],
   "metadata": {
    "collapsed": false,
    "ExecuteTime": {
     "end_time": "2023-10-12T10:45:12.407681800Z",
     "start_time": "2023-10-12T10:45:12.306494800Z"
    }
   },
   "id": "5a53cad8cee134b3"
  },
  {
   "cell_type": "code",
   "execution_count": null,
   "outputs": [],
   "source": [
    "filtered_df['qty_unit'].unique()"
   ],
   "metadata": {
    "collapsed": false
   },
   "id": "2d0f10b76364c1be"
  },
  {
   "cell_type": "code",
   "execution_count": 115,
   "outputs": [],
   "source": [
    "filtered_df['contract_no'] = filtered_df['contract_no'].str.replace('№', '')\n",
    "filtered_df['contract_no'] = filtered_df['contract_no'].str.replace('№', '')\n",
    "filtered_df['contract_no'] = filtered_df['contract_no'].str.strip()\n",
    "filtered_df['contract_no'] = filtered_df['contract_no'].astype(str)\n",
    "supplier_df['contract_no'] = supplier_df['contract_no'].astype(str)\n",
    "filtered_df = pd.merge(filtered_df, supplier_df[['contract_no', 'supplier']], on=['contract_no'], how='left')\n",
    "filtered_df = filtered_df.rename(columns={'supplier_y': 'supplier'}).drop(columns=['supplier_x'])"
   ],
   "metadata": {
    "collapsed": false,
    "ExecuteTime": {
     "end_time": "2023-10-12T10:46:06.791664500Z",
     "start_time": "2023-10-12T10:46:06.679758400Z"
    }
   },
   "id": "d8613c48be8980b8"
  },
  {
   "cell_type": "code",
   "execution_count": 116,
   "outputs": [],
   "source": [
    "# convert data types\n",
    "filtered_df['mass_kg'] = pd.to_numeric(filtered_df['mass_kg'], errors='coerce')\n",
    "filtered_df['mass_net'] = pd.to_numeric(filtered_df['mass_kg'], errors='coerce')\n",
    "filtered_df['delivery_expected'] = pd.to_datetime(filtered_df['delivery_expected'], errors='coerce')\n",
    "filtered_df['delivery_fact'] = pd.to_datetime(filtered_df['delivery_fact'], errors='coerce')\n"
   ],
   "metadata": {
    "collapsed": false,
    "ExecuteTime": {
     "end_time": "2023-10-12T10:46:22.769882300Z",
     "start_time": "2023-10-12T10:46:22.695023700Z"
    }
   },
   "id": "c9261c6110f44419"
  },
  {
   "cell_type": "code",
   "execution_count": null,
   "outputs": [],
   "source": [
    "filtered_df['mass_kg'].info()"
   ],
   "metadata": {
    "collapsed": false
   },
   "id": "75f13f1a4e98fcb0"
  },
  {
   "cell_type": "code",
   "execution_count": 117,
   "outputs": [],
   "source": [
    "col_name = ['asup', 'no', 'lot', 'type', 'set_code', 'kks_code', 'eqp_name', 'itt', 'unit', 'building', 'safety_class', 'qty', 'qty_unit', 'mass_kg', \n",
    "            'mass_net', 'work_id', 'contract_no', 'contract_date', 'supplier', 'manufacturer', 'supervisor', 'division', 'unit_cost', 'unit_cost_wat',\n",
    "            'installation_cost', 'adjustment_service_cost', 'total_cost', 'delivery_fca', 'delivery_npp', 'delivery_expected','delivery_expected_status', 'delivery_fact', 'delivery_fact_status', 'incoming', 'pp2022' ]\n",
    "filtered_df = filtered_df[col_name]"
   ],
   "metadata": {
    "collapsed": false,
    "ExecuteTime": {
     "end_time": "2023-10-12T10:46:45.126740500Z",
     "start_time": "2023-10-12T10:46:45.102742100Z"
    }
   },
   "id": "182950c4364f87a3"
  },
  {
   "cell_type": "code",
   "execution_count": 118,
   "outputs": [
    {
     "data": {
      "text/plain": "               asup      no          lot          type set_code      kks_code  \\\n0      AKKU00017132       1  0060/1/2018  оборудование      NaN  11JNG12AA201   \n1      AKKU00017127       2  0060/1/2018  оборудование      NaN  11JNG12AA202   \n2      AKKU00017141       3  0060/1/2018  оборудование      NaN  11JNG12AA203   \n3      AKKU00017145       4  0060/1/2018  оборудование      NaN  11JNG12AA204   \n4      AKKU00017146       5  0060/1/2018  оборудование      NaN  11JNG12AA206   \n...             ...     ...          ...           ...      ...           ...   \n43924  AKKU00026676  130426  AKU-22-201м     Материалы      NaN  10KUC15AA602   \n43925  AKKU00328209  131338   AKU-22-279  Оборудование      NaN  10PKN10BB001   \n43926  AKKU00328210  131339   AKU-22-279  Оборудование      NaN  10PKN20BB001   \n43927  AKKU00328211  131340   AKU-22-279  Оборудование      NaN  10PKN25AP001   \n43928  AKKU00328212  131341   AKU-22-279  Оборудование      NaN  10PKN25AP002   \n\n                                                eqp_name                itt  \\\n0                     Устройство дроссельно-регулирующее        AKU-PAA0003   \n1                     Устройство дроссельно-регулирующее        AKU-PAA0003   \n2                     Устройство дроссельно-регулирующее        AKU-PAA0003   \n3                     Устройство дроссельно-регулирующее        AKU-PAA0003   \n4                     Устройство дроссельно-регулирующее        AKU-PAA0003   \n...                                                  ...                ...   \n43924                      Клапан обратный / Check Valve    AKU-PAA0001.B03   \n43925  Бак приготовления раствора тринатрийфосфата (с...  10PKN-PAA0001_B01   \n43926  Бак расходный раствора тринатрийфосата/Trisodi...  10PKN-PAA0001_B01   \n43927  Насос-дозатор раствора тринатрийфосфата/ Triso...  10PKN-PAA0002_B01   \n43928  Насос-дозатор раствора тринатрийфосфата/ Triso...  10PKN-PAA0002_B01   \n\n      unit                                           building  ...  \\\n0        1  Реакторное здание  (10UJA). Код помещения: 10U...  ...   \n1        1  Реакторное здание  (10UJA). Код помещения: 10U...  ...   \n2        1  Реакторное здание  (10UJA). Код помещения: 10U...  ...   \n3        1  Реакторное здание  (10UJA). Код помещения: 10U...  ...   \n4        1  Реакторное здание  (10UJA). Код помещения: 10U...  ...   \n...    ...                                                ...  ...   \n43924    1                                              10UKC  ...   \n43925    1                                              10UKC  ...   \n43926    1                                              10UKC  ...   \n43927    1                                              10UKC  ...   \n43928    1                                              10UKC  ...   \n\n      adjustment_service_cost  total_cost delivery_fca  delivery_npp  \\\n0                         0.0      1440.0   2021-05-28    2021-06-28   \n1                         0.0      1440.0   2021-05-28    2021-06-28   \n2                         0.0      1440.0   2021-05-28    2021-06-28   \n3                         0.0      1440.0   2021-05-28    2021-06-28   \n4                         0.0      1440.0   2021-05-28    2021-06-28   \n...                       ...         ...          ...           ...   \n43924                     0.0      4368.0   2024-01-07    2024-02-06   \n43925                   225.0     18400.0   2024-03-07    2024-04-07   \n43926                   225.0     14750.0   2024-03-07    2024-04-07   \n43927                   225.0     19050.0   2024-03-07    2024-04-07   \n43928                   225.0     19050.0   2024-03-07    2024-04-07   \n\n       delivery_expected delivery_expected_status delivery_fact  \\\n0                    NaT               Поставлено    2021-12-31   \n1                    NaT               Поставлено    2021-12-31   \n2                    NaT               Поставлено    2021-12-31   \n3                    NaT               Поставлено    2021-12-31   \n4                    NaT               Поставлено    2021-12-31   \n...                  ...                      ...           ...   \n43924         2024-02-06                      NaN           NaT   \n43925         2024-04-07                      NaN           NaT   \n43926         2024-04-07                      NaN           NaT   \n43927         2024-04-07                      NaN           NaT   \n43928         2024-04-07                      NaN           NaT   \n\n      delivery_fact_status        incoming     pp2022  \n0                      NaN  СЕ-15-АВК-0435 2019-04-03  \n1                      NaN  СЕ-15-АВК-0435 2019-04-03  \n2                      NaN  СЕ-15-АВК-0435 2019-04-03  \n3                      NaN  СЕ-15-АВК-0435 2019-04-03  \n4                      NaN  СЕ-15-АВК-0435 2019-04-03  \n...                    ...             ...        ...  \n43924                  NaN             NaN 2023-10-01  \n43925                  NaN             NaN 2023-10-10  \n43926                  NaN             NaN 2023-10-10  \n43927                  NaN             NaN 2023-10-10  \n43928                  NaN             NaN 2023-10-10  \n\n[43929 rows x 35 columns]",
      "text/html": "<div>\n<style scoped>\n    .dataframe tbody tr th:only-of-type {\n        vertical-align: middle;\n    }\n\n    .dataframe tbody tr th {\n        vertical-align: top;\n    }\n\n    .dataframe thead th {\n        text-align: right;\n    }\n</style>\n<table border=\"1\" class=\"dataframe\">\n  <thead>\n    <tr style=\"text-align: right;\">\n      <th></th>\n      <th>asup</th>\n      <th>no</th>\n      <th>lot</th>\n      <th>type</th>\n      <th>set_code</th>\n      <th>kks_code</th>\n      <th>eqp_name</th>\n      <th>itt</th>\n      <th>unit</th>\n      <th>building</th>\n      <th>...</th>\n      <th>adjustment_service_cost</th>\n      <th>total_cost</th>\n      <th>delivery_fca</th>\n      <th>delivery_npp</th>\n      <th>delivery_expected</th>\n      <th>delivery_expected_status</th>\n      <th>delivery_fact</th>\n      <th>delivery_fact_status</th>\n      <th>incoming</th>\n      <th>pp2022</th>\n    </tr>\n  </thead>\n  <tbody>\n    <tr>\n      <th>0</th>\n      <td>AKKU00017132</td>\n      <td>1</td>\n      <td>0060/1/2018</td>\n      <td>оборудование</td>\n      <td>NaN</td>\n      <td>11JNG12AA201</td>\n      <td>Устройство дроссельно-регулирующее</td>\n      <td>AKU-PAA0003</td>\n      <td>1</td>\n      <td>Реакторное здание  (10UJA). Код помещения: 10U...</td>\n      <td>...</td>\n      <td>0.0</td>\n      <td>1440.0</td>\n      <td>2021-05-28</td>\n      <td>2021-06-28</td>\n      <td>NaT</td>\n      <td>Поставлено</td>\n      <td>2021-12-31</td>\n      <td>NaN</td>\n      <td>СЕ-15-АВК-0435</td>\n      <td>2019-04-03</td>\n    </tr>\n    <tr>\n      <th>1</th>\n      <td>AKKU00017127</td>\n      <td>2</td>\n      <td>0060/1/2018</td>\n      <td>оборудование</td>\n      <td>NaN</td>\n      <td>11JNG12AA202</td>\n      <td>Устройство дроссельно-регулирующее</td>\n      <td>AKU-PAA0003</td>\n      <td>1</td>\n      <td>Реакторное здание  (10UJA). Код помещения: 10U...</td>\n      <td>...</td>\n      <td>0.0</td>\n      <td>1440.0</td>\n      <td>2021-05-28</td>\n      <td>2021-06-28</td>\n      <td>NaT</td>\n      <td>Поставлено</td>\n      <td>2021-12-31</td>\n      <td>NaN</td>\n      <td>СЕ-15-АВК-0435</td>\n      <td>2019-04-03</td>\n    </tr>\n    <tr>\n      <th>2</th>\n      <td>AKKU00017141</td>\n      <td>3</td>\n      <td>0060/1/2018</td>\n      <td>оборудование</td>\n      <td>NaN</td>\n      <td>11JNG12AA203</td>\n      <td>Устройство дроссельно-регулирующее</td>\n      <td>AKU-PAA0003</td>\n      <td>1</td>\n      <td>Реакторное здание  (10UJA). Код помещения: 10U...</td>\n      <td>...</td>\n      <td>0.0</td>\n      <td>1440.0</td>\n      <td>2021-05-28</td>\n      <td>2021-06-28</td>\n      <td>NaT</td>\n      <td>Поставлено</td>\n      <td>2021-12-31</td>\n      <td>NaN</td>\n      <td>СЕ-15-АВК-0435</td>\n      <td>2019-04-03</td>\n    </tr>\n    <tr>\n      <th>3</th>\n      <td>AKKU00017145</td>\n      <td>4</td>\n      <td>0060/1/2018</td>\n      <td>оборудование</td>\n      <td>NaN</td>\n      <td>11JNG12AA204</td>\n      <td>Устройство дроссельно-регулирующее</td>\n      <td>AKU-PAA0003</td>\n      <td>1</td>\n      <td>Реакторное здание  (10UJA). Код помещения: 10U...</td>\n      <td>...</td>\n      <td>0.0</td>\n      <td>1440.0</td>\n      <td>2021-05-28</td>\n      <td>2021-06-28</td>\n      <td>NaT</td>\n      <td>Поставлено</td>\n      <td>2021-12-31</td>\n      <td>NaN</td>\n      <td>СЕ-15-АВК-0435</td>\n      <td>2019-04-03</td>\n    </tr>\n    <tr>\n      <th>4</th>\n      <td>AKKU00017146</td>\n      <td>5</td>\n      <td>0060/1/2018</td>\n      <td>оборудование</td>\n      <td>NaN</td>\n      <td>11JNG12AA206</td>\n      <td>Устройство дроссельно-регулирующее</td>\n      <td>AKU-PAA0003</td>\n      <td>1</td>\n      <td>Реакторное здание  (10UJA). Код помещения: 10U...</td>\n      <td>...</td>\n      <td>0.0</td>\n      <td>1440.0</td>\n      <td>2021-05-28</td>\n      <td>2021-06-28</td>\n      <td>NaT</td>\n      <td>Поставлено</td>\n      <td>2021-12-31</td>\n      <td>NaN</td>\n      <td>СЕ-15-АВК-0435</td>\n      <td>2019-04-03</td>\n    </tr>\n    <tr>\n      <th>...</th>\n      <td>...</td>\n      <td>...</td>\n      <td>...</td>\n      <td>...</td>\n      <td>...</td>\n      <td>...</td>\n      <td>...</td>\n      <td>...</td>\n      <td>...</td>\n      <td>...</td>\n      <td>...</td>\n      <td>...</td>\n      <td>...</td>\n      <td>...</td>\n      <td>...</td>\n      <td>...</td>\n      <td>...</td>\n      <td>...</td>\n      <td>...</td>\n      <td>...</td>\n      <td>...</td>\n    </tr>\n    <tr>\n      <th>43924</th>\n      <td>AKKU00026676</td>\n      <td>130426</td>\n      <td>AKU-22-201м</td>\n      <td>Материалы</td>\n      <td>NaN</td>\n      <td>10KUC15AA602</td>\n      <td>Клапан обратный / Check Valve</td>\n      <td>AKU-PAA0001.B03</td>\n      <td>1</td>\n      <td>10UKC</td>\n      <td>...</td>\n      <td>0.0</td>\n      <td>4368.0</td>\n      <td>2024-01-07</td>\n      <td>2024-02-06</td>\n      <td>2024-02-06</td>\n      <td>NaN</td>\n      <td>NaT</td>\n      <td>NaN</td>\n      <td>NaN</td>\n      <td>2023-10-01</td>\n    </tr>\n    <tr>\n      <th>43925</th>\n      <td>AKKU00328209</td>\n      <td>131338</td>\n      <td>AKU-22-279</td>\n      <td>Оборудование</td>\n      <td>NaN</td>\n      <td>10PKN10BB001</td>\n      <td>Бак приготовления раствора тринатрийфосфата (с...</td>\n      <td>10PKN-PAA0001_B01</td>\n      <td>1</td>\n      <td>10UKC</td>\n      <td>...</td>\n      <td>225.0</td>\n      <td>18400.0</td>\n      <td>2024-03-07</td>\n      <td>2024-04-07</td>\n      <td>2024-04-07</td>\n      <td>NaN</td>\n      <td>NaT</td>\n      <td>NaN</td>\n      <td>NaN</td>\n      <td>2023-10-10</td>\n    </tr>\n    <tr>\n      <th>43926</th>\n      <td>AKKU00328210</td>\n      <td>131339</td>\n      <td>AKU-22-279</td>\n      <td>Оборудование</td>\n      <td>NaN</td>\n      <td>10PKN20BB001</td>\n      <td>Бак расходный раствора тринатрийфосата/Trisodi...</td>\n      <td>10PKN-PAA0001_B01</td>\n      <td>1</td>\n      <td>10UKC</td>\n      <td>...</td>\n      <td>225.0</td>\n      <td>14750.0</td>\n      <td>2024-03-07</td>\n      <td>2024-04-07</td>\n      <td>2024-04-07</td>\n      <td>NaN</td>\n      <td>NaT</td>\n      <td>NaN</td>\n      <td>NaN</td>\n      <td>2023-10-10</td>\n    </tr>\n    <tr>\n      <th>43927</th>\n      <td>AKKU00328211</td>\n      <td>131340</td>\n      <td>AKU-22-279</td>\n      <td>Оборудование</td>\n      <td>NaN</td>\n      <td>10PKN25AP001</td>\n      <td>Насос-дозатор раствора тринатрийфосфата/ Triso...</td>\n      <td>10PKN-PAA0002_B01</td>\n      <td>1</td>\n      <td>10UKC</td>\n      <td>...</td>\n      <td>225.0</td>\n      <td>19050.0</td>\n      <td>2024-03-07</td>\n      <td>2024-04-07</td>\n      <td>2024-04-07</td>\n      <td>NaN</td>\n      <td>NaT</td>\n      <td>NaN</td>\n      <td>NaN</td>\n      <td>2023-10-10</td>\n    </tr>\n    <tr>\n      <th>43928</th>\n      <td>AKKU00328212</td>\n      <td>131341</td>\n      <td>AKU-22-279</td>\n      <td>Оборудование</td>\n      <td>NaN</td>\n      <td>10PKN25AP002</td>\n      <td>Насос-дозатор раствора тринатрийфосфата/ Triso...</td>\n      <td>10PKN-PAA0002_B01</td>\n      <td>1</td>\n      <td>10UKC</td>\n      <td>...</td>\n      <td>225.0</td>\n      <td>19050.0</td>\n      <td>2024-03-07</td>\n      <td>2024-04-07</td>\n      <td>2024-04-07</td>\n      <td>NaN</td>\n      <td>NaT</td>\n      <td>NaN</td>\n      <td>NaN</td>\n      <td>2023-10-10</td>\n    </tr>\n  </tbody>\n</table>\n<p>43929 rows × 35 columns</p>\n</div>"
     },
     "execution_count": 118,
     "metadata": {},
     "output_type": "execute_result"
    }
   ],
   "source": [
    "filtered_df"
   ],
   "metadata": {
    "collapsed": false,
    "ExecuteTime": {
     "end_time": "2023-10-12T10:46:50.656519500Z",
     "start_time": "2023-10-12T10:46:50.614535400Z"
    }
   },
   "id": "bbc29b9f0aeb48c6"
  },
  {
   "cell_type": "code",
   "execution_count": 119,
   "outputs": [],
   "source": [
    "filtered_df.to_excel(r'C:\\Users\\yuriy\\Desktop\\db_tables\\EQPDB\\clean_excel\\equipment_clean.xlsx', index=False, float_format=\"%.4f\")"
   ],
   "metadata": {
    "collapsed": false,
    "ExecuteTime": {
     "end_time": "2023-10-12T10:47:37.356627200Z",
     "start_time": "2023-10-12T10:47:19.929146200Z"
    }
   },
   "id": "27dcf7c1aeab671b"
  },
  {
   "cell_type": "code",
   "execution_count": null,
   "outputs": [],
   "source": [],
   "metadata": {
    "collapsed": false
   },
   "id": "1cd925b125f64f3d"
  }
 ],
 "metadata": {
  "kernelspec": {
   "display_name": "Python 3",
   "language": "python",
   "name": "python3"
  },
  "language_info": {
   "codemirror_mode": {
    "name": "ipython",
    "version": 2
   },
   "file_extension": ".py",
   "mimetype": "text/x-python",
   "name": "python",
   "nbconvert_exporter": "python",
   "pygments_lexer": "ipython2",
   "version": "2.7.6"
  }
 },
 "nbformat": 4,
 "nbformat_minor": 5
}
