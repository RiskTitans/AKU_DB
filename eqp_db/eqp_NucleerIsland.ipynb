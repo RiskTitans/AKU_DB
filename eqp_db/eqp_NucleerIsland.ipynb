{
 "cells": [
  {
   "cell_type": "markdown",
   "source": [
    "This notebook is for buildings related with UMA UJA UKC"
   ],
   "metadata": {
    "collapsed": false
   },
   "id": "1c92f7e79c404d3"
  },
  {
   "cell_type": "code",
   "execution_count": 1,
   "outputs": [],
   "source": [
    "import pandas as pd\n",
    "import re"
   ],
   "metadata": {
    "collapsed": false,
    "ExecuteTime": {
     "end_time": "2023-10-19T11:07:16.884177100Z",
     "start_time": "2023-10-19T11:07:15.502663800Z"
    }
   },
   "id": "92b5f9b83419153f"
  },
  {
   "cell_type": "code",
   "execution_count": 2,
   "outputs": [],
   "source": [
    "# read eqp file as df\n",
    "eqp_file_path = r'C:\\Users\\yuriy\\Desktop\\db_tables\\EQPDB\\clean_excel\\Попозиционный учет законтрактованного 19.10.2023.xlsx'\n",
    "eqp_cols = [0, 1, 2, 3, 4, 5, 6, 7, 8, 11, 12, 15, 16, 18, 19, 23, 24, 25, 26, 27, 29, 30, 31, 32, 33, 34, 35, 39, 40, 41, 45, 46, 60]\n",
    "df = pd.read_excel(eqp_file_path, sheet_name='Общий свод', usecols=eqp_cols)"
   ],
   "metadata": {
    "collapsed": false,
    "ExecuteTime": {
     "end_time": "2023-10-19T11:08:27.322153Z",
     "start_time": "2023-10-19T11:07:19.760183100Z"
    }
   },
   "id": "7edb62edb3816b21"
  },
  {
   "cell_type": "code",
   "execution_count": 3,
   "outputs": [],
   "source": [
    "# read supplier file as df\n",
    "splr_file_path = r'C:\\Users\\yuriy\\Desktop\\db_tables\\EQPDB\\clean_excel\\contract_supplier.xlsx'\n",
    "supplier_df = pd.read_excel(splr_file_path)"
   ],
   "metadata": {
    "collapsed": false,
    "ExecuteTime": {
     "end_time": "2023-10-19T11:08:30.478655100Z",
     "start_time": "2023-10-19T11:08:30.357075400Z"
    }
   },
   "id": "816f784dc25d7f58"
  },
  {
   "cell_type": "code",
   "execution_count": 4,
   "outputs": [],
   "source": [
    "col_name = ['asup', 'no', 'lot', 'type', 'set_code', 'kks_code', 'eqp_name', 'itt', 'unit', 'building', 'safety_class', 'qty', 'qty_unit',\n",
    "            'mass_kg', 'mass_net', 'work_id', 'contract_no', 'contract_date', 'supplier', 'manufacturer', 'supervisor', 'division', 'unit_cost', 'unit_cost_wat','installation_cost', 'adjustment_service_cost', 'total_cost', 'delivery_fca', 'delivery_npp', 'delivery_expected', 'delivery_fact', 'incoming', 'pp2022' ]\n",
    "\n",
    "supplier_cols = ['object', 'supervisor', 'supplier', 'contract_no', 'contract_date', 'contract_name']\n",
    "df2 = df.copy()"
   ],
   "metadata": {
    "collapsed": false,
    "ExecuteTime": {
     "end_time": "2023-10-19T11:08:31.237304800Z",
     "start_time": "2023-10-19T11:08:31.192471700Z"
    }
   },
   "id": "e1700cbcd71bd1b"
  },
  {
   "cell_type": "code",
   "execution_count": 5,
   "outputs": [],
   "source": [
    "df2.drop(range(2), inplace=True)\n",
    "df2.columns = col_name\n",
    "supplier_df.columns = supplier_cols"
   ],
   "metadata": {
    "collapsed": false,
    "ExecuteTime": {
     "end_time": "2023-10-19T11:08:31.981911400Z",
     "start_time": "2023-10-19T11:08:31.898867400Z"
    }
   },
   "id": "ca47c75990955c6e"
  },
  {
   "cell_type": "code",
   "execution_count": 6,
   "outputs": [],
   "source": [
    "#common functions and variables\n",
    "upper_letters = {\n",
    "    'А': 'A',\n",
    "    'В': 'B',\n",
    "    'С': 'C',\n",
    "    'Е': 'E',\n",
    "    'О': 'O',\n",
    "    'Р': 'P',\n",
    "    'Х': 'X',\n",
    "    'М': 'M',\n",
    "    'К': 'K',\n",
    "    'Т': 'T',\n",
    "    'Н': 'H',\n",
    "\n",
    "}\n",
    "lower_letters = {\n",
    "    'а': 'a',\n",
    "    'с': 'c',\n",
    "    'е': 'e',\n",
    "    'о': 'o',\n",
    "    'р': 'p',\n",
    "    'х': 'x'\n",
    "}\n",
    "\n",
    "def replace_rueng(text, mapping):\n",
    "    for old_char, new_char in mapping.items():\n",
    "        text = text.replace(old_char, new_char)\n",
    "    return text\n",
    "\n",
    "\n",
    "def replace_engru(text, mapping):\n",
    "    for old_char, new_char in mapping.items():\n",
    "        text = text.replace(new_char, old_char)\n",
    "    return text"
   ],
   "metadata": {
    "collapsed": false,
    "ExecuteTime": {
     "end_time": "2023-10-19T11:08:32.573767200Z",
     "start_time": "2023-10-19T11:08:32.552772900Z"
    }
   },
   "id": "c5f6d20ae0ffb555"
  },
  {
   "cell_type": "code",
   "execution_count": 7,
   "outputs": [],
   "source": [
    "#only 10UJA and 10UKC, except UKZ UMY UJZ\n",
    "df2['building_2'] = ''\n",
    "df2.loc[df2['building'].str.contains('10UJA', na=False, case=False), 'building_2'] = '10UJA'\n",
    "df2.loc[df2['building'].str.contains('10UKC', na=False, case=False), 'building_2'] = '10UKC'\n",
    "filtered_df = df2[df2['building_2'].str.contains('10UJA|10UKC', case=False, na=False )]\n",
    "filtered_df = filtered_df[~filtered_df['building'].str.contains('UKZ|UMY|UJZ')]\n",
    "\n",
    "#clean null values \n",
    "filtered_df.loc[:,'kks_code'] = filtered_df['kks_code'].replace(['-','–'], pd.NA)\n",
    "filtered_df = filtered_df.dropna(how='any', subset=['asup','kks_code'])\n",
    "\n",
    "# letter problem-solving \n",
    "filtered_df['asup'] = filtered_df['asup'].str.upper()\n",
    "filtered_df['kks_code'] = filtered_df['kks_code'].str.upper()\n",
    "filtered_df['work_id'] = filtered_df['work_id'].str.upper()\n",
    "filtered_df['set_code'] = filtered_df['set_code'].str.upper()\n",
    "filtered_df['building'] = filtered_df['building'].str.upper()\n",
    "filtered_df['type'] = filtered_df['type'].str.capitalize()\n",
    "filtered_df['type'] = filtered_df['type'].str.strip()\n",
    "# Remove extra spaces within the string\n",
    "filtered_df['manufacturer'] = filtered_df['manufacturer'].str.replace(r'\\s+', ' ', regex=True)\n",
    "filtered_df['manufacturer'] = filtered_df['manufacturer'].str.strip()\n",
    "\n",
    "\n",
    "# Apply the function for upper case characters\n",
    "filtered_df['asup'] = filtered_df['asup'].apply(lambda x: replace_rueng(x, upper_letters))\n",
    "filtered_df['kks_code'] = filtered_df['kks_code'].apply(lambda x: replace_rueng(x, upper_letters))\n",
    "filtered_df['work_id'] = filtered_df.apply(lambda row: replace_rueng(row['work_id'], upper_letters) if isinstance(row['work_id'], str) and  len(row['work_id']) > 8 else row['work_id'], axis=1)\n",
    "filtered_df['set_code'] = filtered_df.apply(lambda row: replace_rueng(row['set_code'], upper_letters) if isinstance(row['set_code'], str) and  len(row['set_code']) > 8 else row['set_code'], axis=1)\n",
    "filtered_df['building'] = filtered_df['building'].apply(lambda x: replace_rueng(x, upper_letters))\n",
    "\n",
    "\n",
    "# split joined values ex: AKKU00195603\\nAKKU00195604\\nAKKU00195605\\nAKKU00025933\\nAKKU00195606\\nAKKU00195607\\nAKKU00189695\n",
    "split_df = filtered_df[filtered_df['asup'].apply(len)>12]\n",
    "df_A = split_df.assign(asup=split_df['asup'].str.split('\\n')).explode('asup')\n",
    "df_B = split_df.assign(kks_code=split_df['kks_code'].str.split('\\n')).explode('kks_code')\n",
    "\n",
    "df_A['kks_code'] = df_B['kks_code']\n",
    "filtered_df = pd.concat([filtered_df, df_A], axis=0)\n",
    "filtered_df.drop(filtered_df[filtered_df['asup'].str.len() > 12].index, inplace=True)\n",
    "\n",
    "\n",
    "\n",
    "filtered_df['no'] = filtered_df['no'].astype(dtype='int', copy=True)\n",
    "filtered_df[['qty', 'mass_kg', 'mass_net']] = filtered_df[['qty', 'mass_kg', 'mass_net']].fillna(0)\n",
    "filtered_df[['unit_cost', 'unit_cost_wat', 'installation_cost', 'adjustment_service_cost', 'total_cost']] = filtered_df[['unit_cost', 'unit_cost_wat', 'installation_cost', 'adjustment_service_cost', 'total_cost']].fillna(0) \n",
    "\n",
    "filtered_df['contract_date'] = pd.to_datetime(filtered_df['contract_date'], errors='coerce')\n",
    "filtered_df['delivery_fca'] = pd.to_datetime(filtered_df['delivery_fca'], errors='coerce')\n",
    "filtered_df['delivery_npp'] = pd.to_datetime(filtered_df['delivery_npp'], errors='coerce')\n",
    "filtered_df['delivery_expected_status'] = filtered_df['delivery_expected'].copy()\n",
    "filtered_df['delivery_fact_status'] = filtered_df['delivery_fact'].copy()\n",
    "\n",
    "date_format = '%Y-%m-%d'\n",
    "filtered_df['delivery_expected_status'] = filtered_df['delivery_expected'].where(pd.to_datetime(filtered_df['delivery_expected'], format=date_format, errors='coerce').isna())\n",
    "filtered_df.loc[:, 'delivery_expected'] =  pd.to_datetime(filtered_df['delivery_expected'], format=date_format, errors='coerce')\n",
    "filtered_df['delivery_fact_status'] = filtered_df['delivery_fact'].where(pd.to_datetime(filtered_df['delivery_fact'], format=date_format,  errors='coerce').isna())\n",
    "filtered_df.loc[:, 'delivery_fact'] =  pd.to_datetime(filtered_df['delivery_fact'], format=date_format, errors='coerce')\n",
    "filtered_df['delivery_expected_status'] = filtered_df['delivery_expected_status'].str.capitalize()\n",
    "filtered_df['delivery_fact_status'] = filtered_df['delivery_fact_status'].str.capitalize()\n",
    "\n",
    "building_re = {\n",
    "    'UBB': '10UBB',\n",
    "    'UJB': '10UJB',\n",
    "    'UJC': '10UJC',\n",
    "    'UJE': '10UJE',\n",
    "    '11UBP': '11UBP',\n",
    "    '12UBP': '12UBP',\n",
    "    'UKA': '10UKA',\n",
    "    'UJG': '10UJG',\n",
    "    'UKC': '10UKC',\n",
    "    'UJA': '10UJA'\n",
    "}\n",
    "for pattern, replacement in building_re.items():\n",
    "    filtered_df.loc[filtered_df['building'].str.contains(pattern, na=False, case=False), 'building'] = replacement\n",
    "\n",
    "filtered_df.loc[:, 'manufacturer'] = filtered_df['manufacturer'].str.split('/').str[0]\n",
    "\n",
    "filtered_df.loc[:, 'eqp_name'] = filtered_df['eqp_name'].str.split('/').str[0]\n",
    "filtered_df.loc[:, 'eqp_name'] = filtered_df['eqp_name'].str.split('.').str[0]\n",
    "\n",
    "del split_df, df_A, df_B"
   ],
   "metadata": {
    "collapsed": false,
    "ExecuteTime": {
     "end_time": "2023-10-19T11:08:35.398217400Z",
     "start_time": "2023-10-19T11:08:33.279531100Z"
    }
   },
   "id": "c8b4c004a6e6e7c8"
  },
  {
   "cell_type": "code",
   "execution_count": null,
   "outputs": [],
   "source": [
    "#qty_unit\n",
    "qty_re = {\n",
    "    'шт': 'pcs',\n",
    "    'pcs':'psc',\n",
    "    'кг': 'kg',\n",
    "    'компл': 'set',\n",
    "    'Комплект': 'set',\n",
    "    'к-т': 'set',\n",
    "    'set': 'set',\n",
    "    'pc': 'pcs'\n",
    "}\n",
    "for old_value, new_value in (qty_re.items()):\n",
    "    # print(filtered_df.loc[filtered_df['qty_unit'].str.contains(old_value, case=False, na=False), 'qty_unit'])\n",
    "    filtered_df.loc[filtered_df['qty_unit'].str.contains(old_value, case=False, na=False), 'qty_unit'] = new_value\n"
   ],
   "metadata": {
    "collapsed": false
   },
   "id": "5a53cad8cee134b3"
  },
  {
   "cell_type": "code",
   "execution_count": 8,
   "outputs": [],
   "source": [
    "filtered_df['contract_no'] = filtered_df['contract_no'].str.replace('№', '')\n",
    "filtered_df['contract_no'] = filtered_df['contract_no'].str.strip()\n",
    "filtered_df['contract_no'] = filtered_df['contract_no'].astype(str)\n",
    "supplier_df['contract_no'] = supplier_df['contract_no'].astype(str)\n",
    "filtered_df = pd.merge(filtered_df, supplier_df[['contract_no', 'supplier']], on=['contract_no'], how='left')\n",
    "filtered_df = filtered_df.rename(columns={'supplier_y': 'supplier'}).drop(columns=['supplier_x'])"
   ],
   "metadata": {
    "collapsed": false,
    "ExecuteTime": {
     "end_time": "2023-10-19T11:08:39.101412500Z",
     "start_time": "2023-10-19T11:08:38.948657400Z"
    }
   },
   "id": "d8613c48be8980b8"
  },
  {
   "cell_type": "code",
   "execution_count": 9,
   "outputs": [],
   "source": [
    "# convert data types\n",
    "filtered_df['mass_kg'] = pd.to_numeric(filtered_df['mass_kg'], errors='coerce')\n",
    "filtered_df['mass_net'] = pd.to_numeric(filtered_df['mass_kg'], errors='coerce')\n",
    "filtered_df['delivery_expected'] = pd.to_datetime(filtered_df['delivery_expected'], errors='coerce')\n",
    "filtered_df['delivery_fact'] = pd.to_datetime(filtered_df['delivery_fact'], errors='coerce')\n"
   ],
   "metadata": {
    "collapsed": false,
    "ExecuteTime": {
     "end_time": "2023-10-19T11:08:40.331573100Z",
     "start_time": "2023-10-19T11:08:40.227720800Z"
    }
   },
   "id": "c9261c6110f44419"
  },
  {
   "cell_type": "code",
   "execution_count": 14,
   "outputs": [
    {
     "data": {
      "text/plain": "            kks_code                                           building\n2       11JNG12AA201  Реакторное здание  (10UJA). Код помещения: 10U...\n3       11JNG12AA202  Реакторное здание  (10UJA). Код помещения: 10U...\n4       11JNG12AA203  Реакторное здание  (10UJA). Код помещения: 10U...\n5       11JNG12AA204  Реакторное здание  (10UJA). Код помещения: 10U...\n6       11JNG12AA206  Реакторное здание  (10UJA). Код помещения: 10U...\n...              ...                                                ...\n124542  12FAK51AA102                                              10UJA\n124543  12FAK51AA401                                              10UJA\n124544  12FAK51AA402                                              10UJA\n124545  12FAK51AA501                                              10UJA\n124546  12FAK51AA502                                              10UJA\n\n[37585 rows x 2 columns]",
      "text/html": "<div>\n<style scoped>\n    .dataframe tbody tr th:only-of-type {\n        vertical-align: middle;\n    }\n\n    .dataframe tbody tr th {\n        vertical-align: top;\n    }\n\n    .dataframe thead th {\n        text-align: right;\n    }\n</style>\n<table border=\"1\" class=\"dataframe\">\n  <thead>\n    <tr style=\"text-align: right;\">\n      <th></th>\n      <th>kks_code</th>\n      <th>building</th>\n    </tr>\n  </thead>\n  <tbody>\n    <tr>\n      <th>2</th>\n      <td>11JNG12AA201</td>\n      <td>Реакторное здание  (10UJA). Код помещения: 10U...</td>\n    </tr>\n    <tr>\n      <th>3</th>\n      <td>11JNG12AA202</td>\n      <td>Реакторное здание  (10UJA). Код помещения: 10U...</td>\n    </tr>\n    <tr>\n      <th>4</th>\n      <td>11JNG12AA203</td>\n      <td>Реакторное здание  (10UJA). Код помещения: 10U...</td>\n    </tr>\n    <tr>\n      <th>5</th>\n      <td>11JNG12AA204</td>\n      <td>Реакторное здание  (10UJA). Код помещения: 10U...</td>\n    </tr>\n    <tr>\n      <th>6</th>\n      <td>11JNG12AA206</td>\n      <td>Реакторное здание  (10UJA). Код помещения: 10U...</td>\n    </tr>\n    <tr>\n      <th>...</th>\n      <td>...</td>\n      <td>...</td>\n    </tr>\n    <tr>\n      <th>124542</th>\n      <td>12FAK51AA102</td>\n      <td>10UJA</td>\n    </tr>\n    <tr>\n      <th>124543</th>\n      <td>12FAK51AA401</td>\n      <td>10UJA</td>\n    </tr>\n    <tr>\n      <th>124544</th>\n      <td>12FAK51AA402</td>\n      <td>10UJA</td>\n    </tr>\n    <tr>\n      <th>124545</th>\n      <td>12FAK51AA501</td>\n      <td>10UJA</td>\n    </tr>\n    <tr>\n      <th>124546</th>\n      <td>12FAK51AA502</td>\n      <td>10UJA</td>\n    </tr>\n  </tbody>\n</table>\n<p>37585 rows × 2 columns</p>\n</div>"
     },
     "execution_count": 14,
     "metadata": {},
     "output_type": "execute_result"
    }
   ],
   "source": [
    "df2.loc[df2['building'].str.contains('10UJA', na=False, case=False), ['kks_code', 'building']]"
   ],
   "metadata": {
    "collapsed": false,
    "ExecuteTime": {
     "end_time": "2023-10-19T11:11:22.116471800Z",
     "start_time": "2023-10-19T11:11:22.040641100Z"
    }
   },
   "id": "23fe7bc3810430a6"
  },
  {
   "cell_type": "code",
   "execution_count": 10,
   "outputs": [
    {
     "name": "stdout",
     "output_type": "stream",
     "text": [
      "<class 'pandas.core.frame.DataFrame'>\n",
      "RangeIndex: 44246 entries, 0 to 44245\n",
      "Data columns (total 36 columns):\n",
      " #   Column                    Non-Null Count  Dtype         \n",
      "---  ------                    --------------  -----         \n",
      " 0   asup                      44246 non-null  object        \n",
      " 1   no                        44246 non-null  int32         \n",
      " 2   lot                       44246 non-null  object        \n",
      " 3   type                      44246 non-null  object        \n",
      " 4   set_code                  2486 non-null   object        \n",
      " 5   kks_code                  44246 non-null  object        \n",
      " 6   eqp_name                  44246 non-null  object        \n",
      " 7   itt                       43729 non-null  object        \n",
      " 8   unit                      44246 non-null  object        \n",
      " 9   building                  44246 non-null  object        \n",
      " 10  safety_class              44233 non-null  object        \n",
      " 11  qty                       44246 non-null  float64       \n",
      " 12  qty_unit                  44116 non-null  object        \n",
      " 13  mass_kg                   42904 non-null  float64       \n",
      " 14  mass_net                  42904 non-null  float64       \n",
      " 15  work_id                   44148 non-null  object        \n",
      " 16  contract_no               44246 non-null  object        \n",
      " 17  contract_date             44246 non-null  datetime64[ns]\n",
      " 18  manufacturer              42788 non-null  object        \n",
      " 19  supervisor                43693 non-null  object        \n",
      " 20  division                  44246 non-null  object        \n",
      " 21  unit_cost                 44246 non-null  float64       \n",
      " 22  unit_cost_wat             44246 non-null  float64       \n",
      " 23  installation_cost         44246 non-null  float64       \n",
      " 24  adjustment_service_cost   44246 non-null  float64       \n",
      " 25  total_cost                44246 non-null  float64       \n",
      " 26  delivery_fca              44213 non-null  datetime64[ns]\n",
      " 27  delivery_npp              43738 non-null  datetime64[ns]\n",
      " 28  delivery_expected         32216 non-null  datetime64[ns]\n",
      " 29  delivery_fact             11202 non-null  datetime64[ns]\n",
      " 30  incoming                  80 non-null     object        \n",
      " 31  pp2022                    44148 non-null  object        \n",
      " 32  building_2                44246 non-null  object        \n",
      " 33  delivery_expected_status  12030 non-null  object        \n",
      " 34  delivery_fact_status      661 non-null    object        \n",
      " 35  supplier                  43693 non-null  object        \n",
      "dtypes: datetime64[ns](5), float64(8), int32(1), object(22)\n",
      "memory usage: 12.0+ MB\n"
     ]
    }
   ],
   "source": [
    "filtered_df.info()"
   ],
   "metadata": {
    "collapsed": false,
    "ExecuteTime": {
     "end_time": "2023-10-19T11:09:15.353740Z",
     "start_time": "2023-10-19T11:09:15.299450500Z"
    }
   },
   "id": "1d3de6f914b65071"
  },
  {
   "cell_type": "code",
   "execution_count": null,
   "outputs": [],
   "source": [
    "max_lengths = filtered_df.map(lambda x: len(str(x))).max()\n",
    "max_lengths"
   ],
   "metadata": {
    "collapsed": false
   },
   "id": "1cd925b125f64f3d"
  },
  {
   "cell_type": "code",
   "execution_count": null,
   "outputs": [],
   "source": [
    "filtered_df['supplier'].unique()"
   ],
   "metadata": {
    "collapsed": false
   },
   "id": "4727c239f4746a79"
  },
  {
   "cell_type": "code",
   "execution_count": null,
   "outputs": [],
   "source": [
    "manufacturer =  ((filtered_df['manufacturer'].dropna().drop_duplicates())\n",
    "                 .str.replace('Российская Федерация', ''))"
   ],
   "metadata": {
    "collapsed": false
   },
   "id": "53b9a2f785d65c91"
  },
  {
   "cell_type": "code",
   "execution_count": null,
   "outputs": [],
   "source": [
    "manufacturer.loc[manufacturer.str.contains('Dembla Valves', na=False, case=False)] = 'Dembla Valves'\n",
    "manufacturer.loc[manufacturer.str.contains('ARAKO spol', na=False, case=False)] = 'ARAKO spol. s r.o.'\n",
    "manufacturer.loc[manufacturer.str.contains('Control Instruments', na=False, case=False)] = 'RK Control Instruments Pvt. Ltd.'\n",
    "manufacturer.loc[manufacturer.str.contains('ИнтерПолярис', na=False, case=False)] = 'ООО НПП \"ИнтерПолярис\"'\n",
    "manufacturer.loc[manufacturer.str.contains('Знамя труда', na=False, case=False)] = 'АО \"Завод Знамя труда\"'\n",
    "manufacturer.loc[manufacturer.str.contains('Техзащита', na=False, case=False)] = 'ООО \"Техзащита\"'\n",
    "manufacturer.loc[manufacturer.str.contains('Энергоспецмонтаж', na=False, case=False)] = 'ООО \"Энергоспецмонтаж\"'\n",
    "manufacturer.loc[manufacturer.str.contains('Спецпроект', na=False, case=False)] = 'ООО \"Спецпроект\"'\n",
    "manufacturer.loc[manufacturer.str.contains('Автоматика', na=False, case=False)] = 'ЗАО НПП \"Автоматика\"'\n",
    "manufacturer.loc[manufacturer.str.contains('ПФ \"ОКА\"', na=False, case=False)] = 'ООО ПФ \"ОКА\"'\n",
    "manufacturer.loc[manufacturer.str.contains('Гидромаш', na=False, case=False)] = 'ООО Гидромаш-Технология'\n",
    "manufacturer.loc[manufacturer.str.contains('Катайский насосный завод', na=False, case=False)] = 'АО \"Катайский насосный завод\"'\n",
    "manufacturer.loc[manufacturer.str.contains('Атоммаш', na=False, case=False)] = 'АО \"Атоммашэкспорт\"'\n",
    "manufacturer.loc[manufacturer.str.contains('МашТЭК', na=False, case=False)] = 'ООО \"НПП МашТЭК\"'\n",
    "manufacturer.loc[manufacturer.str.contains('ТИТАН ТЕХНОЛОДЖИ', na=False, case=False)] = 'ООО \"ТИТАН ТЕХНОЛОДЖИ ПАЙПЛАЙН\"'\n",
    "manufacturer.loc[manufacturer.str.contains('НИКИМТ-Атомстрой', na=False, case=False)] = 'АО \"НИКИМТ-Атомстрой\"'\n",
    "manufacturer.loc[manufacturer.str.contains('Атомспецсервис', na=False, case=False)] = 'ООО \"Атомспецсервис\"'\n",
    "manufacturer.loc[manufacturer.str.contains('Контур', na=False, case=False)] = 'ПАО \"Контур\"'\n",
    "manufacturer.loc[manufacturer.str.contains('САЗ', na=False, case=False)] = 'ЗАО \"САЗ\"'\n",
    "manufacturer.loc[manufacturer.str.contains('Schwingungsisolierungen', na=False, case=False)] = 'GERB Schwingungsisolierungen GmbH & Co KG'\n",
    "manufacturer.loc[manufacturer.str.contains('Энергопоток', na=False, case=False)] = 'АО \"ЗЭО Энергопоток\"'\n",
    "manufacturer.loc[manufacturer.str.contains('Энергепоток', na=False, case=False)] = 'АО \"ЗЭО Энергопоток\"'\n",
    "manufacturer.loc[manufacturer.str.contains('ЭНEPГOПOTOK', na=False, case=False)] = 'АО \"ЗЭО Энергопоток\"'\n",
    "manufacturer.loc[manufacturer.str.contains('Бекар', na=False, case=False)] = 'ООО НПК \"Бекар\"'\n",
    "manufacturer.loc[manufacturer.str.contains('Купол', na=False, case=False)] = 'АО \"ИЭМЗ \"Купол\"'\n",
    "manufacturer.loc[manufacturer.str.contains('КЦКБА', na=False, case=False)] = 'ЧАО \"КЦКБА\"'\n",
    "manufacturer.loc[manufacturer.str.contains('АКТАН', na=False, case=False)] = 'ООО \"Актан\"'\n",
    "manufacturer.loc[manufacturer.str.contains('нпо спец', na=False, case=False)] = 'АО \"НПО Спецматериалов\"'\n",
    "manufacturer.loc[manufacturer.str.contains('нпо см', na=False, case=False)] = 'АО \"НПО Спецматериалов\"'\n",
    "\n",
    "manufacturer.unique()"
   ],
   "metadata": {
    "collapsed": false
   },
   "id": "6280a1f184c8b596"
  },
  {
   "cell_type": "code",
   "execution_count": null,
   "outputs": [],
   "source": [
    "from fuzzywuzzy import fuzz\n",
    "def find_similar_values(series, threshold=80):\n",
    "    similar_values = []\n",
    "\n",
    "    for i in range(len(series)):\n",
    "        for j in range(i+1, len(series)):\n",
    "            similarity = fuzz.ratio(series.iloc[i], series.iloc[j])\n",
    "            if similarity >= threshold:\n",
    "                similar_values.append((series.iloc[i], series.iloc[j], similarity))\n",
    "\n",
    "    return similar_values\n",
    "\n",
    "# Find similar values\n",
    "similar_values = find_similar_values(manufacturer)\n",
    "\n",
    "# Print similar values\n",
    "for val1, val2, similarity in similar_values:\n",
    "    if similarity < 100:\n",
    "        print(f\"Similarity: {similarity}%\\n{val1}\\n{val2}\\n\")\n"
   ],
   "metadata": {
    "collapsed": false
   },
   "id": "4057fc56d0df63d8"
  },
  {
   "cell_type": "code",
   "execution_count": null,
   "outputs": [],
   "source": [
    "filtered_df.loc[filtered_df['itt'].apply(lambda x: len(str(x)) if pd.notna(x) else 0) > 20, ['itt', 'asup']]"
   ],
   "metadata": {
    "collapsed": false
   },
   "id": "e0aa25e8c97821bc"
  },
  {
   "cell_type": "code",
   "execution_count": null,
   "outputs": [],
   "source": [
    "test_df = filtered_df.loc[filtered_df['set_code'].apply(lambda x: len(str(x)) if pd.notna(x) else 0) > 20, ['set_code', 'asup']]"
   ],
   "metadata": {
    "collapsed": false
   },
   "id": "493dbb6276b4b60a"
  },
  {
   "cell_type": "code",
   "execution_count": null,
   "outputs": [],
   "source": [
    "#output\n",
    "col_name = ['asup', 'no', 'lot', 'type', 'set_code', 'kks_code', 'eqp_name', 'itt', 'unit', 'building', 'building_2', 'safety_class', 'qty', 'qty_unit', 'mass_kg', \n",
    "            'mass_net', 'work_id', 'contract_no', 'contract_date', 'supplier', 'manufacturer', 'supervisor', 'division', 'unit_cost', 'unit_cost_wat',\n",
    "            'installation_cost', 'adjustment_service_cost', 'total_cost', 'delivery_fca', 'delivery_npp', 'delivery_expected','delivery_expected_status', 'delivery_fact', 'delivery_fact_status', 'incoming', 'pp2022' ]\n",
    "filtered_df = filtered_df[col_name]\n",
    "\n",
    "filtered_df.to_excel(r'C:\\Users\\yuriy\\Desktop\\db_tables\\EQPDB\\clean_excel\\equipment_clean.xlsx', index=False, float_format=\"%.4f\")"
   ],
   "metadata": {
    "collapsed": false
   },
   "id": "3baf3a942925f7a4"
  },
  {
   "cell_type": "code",
   "execution_count": null,
   "outputs": [],
   "source": [],
   "metadata": {
    "collapsed": false
   },
   "id": "28557bbfe6506e27"
  },
  {
   "cell_type": "code",
   "execution_count": null,
   "outputs": [],
   "source": [
    "filtered_df['kks_len'] = filtered_df['kks_code'].apply(lambda x: len(str(x)))\n"
   ],
   "metadata": {
    "collapsed": false
   },
   "id": "6fe45ddea6b150f4"
  },
  {
   "cell_type": "code",
   "execution_count": null,
   "outputs": [],
   "source": [
    "filtered_df['kks_len'].value_counts()"
   ],
   "metadata": {
    "collapsed": false
   },
   "id": "9edff0ea46690af3"
  },
  {
   "cell_type": "code",
   "execution_count": null,
   "outputs": [],
   "source": [
    "filtered_df.loc[filtered_df['kks_len'] == 12, 'kks_code']"
   ],
   "metadata": {
    "collapsed": false
   },
   "id": "63ce2013ea5dcbea"
  }
 ],
 "metadata": {
  "kernelspec": {
   "display_name": "Python 3",
   "language": "python",
   "name": "python3"
  },
  "language_info": {
   "codemirror_mode": {
    "name": "ipython",
    "version": 2
   },
   "file_extension": ".py",
   "mimetype": "text/x-python",
   "name": "python",
   "nbconvert_exporter": "python",
   "pygments_lexer": "ipython2",
   "version": "2.7.6"
  }
 },
 "nbformat": 4,
 "nbformat_minor": 5
}
