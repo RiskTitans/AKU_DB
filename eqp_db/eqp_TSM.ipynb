{
 "cells": [
  {
   "cell_type": "code",
   "execution_count": 62,
   "id": "initial_id",
   "metadata": {
    "collapsed": true,
    "ExecuteTime": {
     "end_time": "2023-10-30T13:01:33.483017300Z",
     "start_time": "2023-10-30T13:01:28.857577500Z"
    }
   },
   "outputs": [],
   "source": [
    "import pandas as pd\n",
    "\n",
    "eqp_tsm2_path = r'C:\\Users\\yuriy\\Desktop\\equipment\\org_files\\2 - TSM ENERJI - учет_ЗРА_.xlsx'\n",
    "eqp_tsm3_path = r'C:\\Users\\yuriy\\Desktop\\equipment\\org_files\\3 - TSM ENERJI - учет_оборудования..xlsx'\n",
    "\n",
    "df1 = pd.read_excel(eqp_tsm2_path, sheet_name=0, header=1, skiprows=1)\n",
    "df2 = pd.read_excel(eqp_tsm3_path, sheet_name=0, header=1, skiprows=2)"
   ]
  },
  {
   "cell_type": "code",
   "execution_count": 66,
   "outputs": [
    {
     "data": {
      "text/plain": "                KKS unit agregate_code eqp_type            eqp_name class  \\\n0      20FAB01BB701  2ПК            BB    Пенал   Пенал герметичный    3C   \n1      20FAB01BB702  2ПК            BB    Пенал   Пенал герметичный    3C   \n2      20FAB01BB703  2ПК            BB    Пенал   Пенал герметичный    3C   \n3      20FAB01BB704  2ПК            BB    Пенал   Пенал герметичный    3C   \n4      20FAB01BB705  2ПК            BB    Пенал  Пенал герметичный     3C   \n...             ...  ...           ...      ...                 ...   ...   \n31642  00LBG20AT403  NaN           NaN      NaN                 NaN   NaN   \n31643  00LBG20AT404  NaN           NaN      NaN                 NaN   NaN   \n31644  00LBG20AT405  NaN           NaN      NaN                 NaN   NaN   \n31645  00LBG20AT406  NaN           NaN      NaN                 NaN   NaN   \n31646  00LBG20AT407  NaN           NaN      NaN                 NaN   NaN   \n\n        mass room evaluation building  ... unloading_custom_date  \\\n0      570.0  NaN        NaN      UJA  ...                   NaN   \n1      570.0  NaN        NaN      UJA  ...                   NaN   \n2      570.0  NaN        NaN      UJA  ...                   NaN   \n3      570.0  NaN        NaN      UJA  ...                   NaN   \n4      570.0  NaN        NaN      UJA  ...                   NaN   \n...      ...  ...        ...      ...  ...                   ...   \n31642    NaN  NaN        NaN      NaN  ...                   NaN   \n31643    NaN  NaN        NaN      NaN  ...                   NaN   \n31644    NaN  NaN        NaN      NaN  ...                   NaN   \n31645    NaN  NaN        NaN      NaN  ...                   NaN   \n31646    NaN  NaN        NaN      NaN  ...                   NaN   \n\n      unloading_npp_date incoming_status incoming_date incoming_recieve_date  \\\n0                    NaT               0           NaT                   NaT   \n1                    NaT             NaN           NaT                   NaT   \n2                    NaT             NaN           NaT                   NaT   \n3                    NaT             NaN           NaT                   NaT   \n4                    NaT             NaN           NaT                   NaT   \n...                  ...             ...           ...                   ...   \n31642                NaT             NaN           NaT                   NaT   \n31643                NaT             NaN           NaT                   NaT   \n31644                NaT             NaN           NaT                   NaT   \n31645                NaT             NaN           NaT                   NaT   \n31646                NaT             NaN           NaT                   NaT   \n\n      incoming_no tmr_status tmr_start_date emr_transfer emr_transfer_date  \n0             NaN        NaN            NaN          NaN               NaN  \n1             NaN        NaN            NaN          NaN               NaN  \n2             NaN        NaN            NaN          NaN               NaN  \n3             NaN        NaN            NaN          NaN               NaN  \n4             NaN        NaN            NaN          NaN               NaN  \n...           ...        ...            ...          ...               ...  \n31642         NaN        NaN            NaN          NaN               NaN  \n31643         NaN        NaN            NaN          NaN               NaN  \n31644         NaN        NaN            NaN          NaN               NaN  \n31645         NaN        NaN            NaN          NaN               NaN  \n31646         NaN        NaN            NaN          NaN               NaN  \n\n[31647 rows x 30 columns]",
      "text/html": "<div>\n<style scoped>\n    .dataframe tbody tr th:only-of-type {\n        vertical-align: middle;\n    }\n\n    .dataframe tbody tr th {\n        vertical-align: top;\n    }\n\n    .dataframe thead th {\n        text-align: right;\n    }\n</style>\n<table border=\"1\" class=\"dataframe\">\n  <thead>\n    <tr style=\"text-align: right;\">\n      <th></th>\n      <th>KKS</th>\n      <th>unit</th>\n      <th>agregate_code</th>\n      <th>eqp_type</th>\n      <th>eqp_name</th>\n      <th>class</th>\n      <th>mass</th>\n      <th>room</th>\n      <th>evaluation</th>\n      <th>building</th>\n      <th>...</th>\n      <th>unloading_custom_date</th>\n      <th>unloading_npp_date</th>\n      <th>incoming_status</th>\n      <th>incoming_date</th>\n      <th>incoming_recieve_date</th>\n      <th>incoming_no</th>\n      <th>tmr_status</th>\n      <th>tmr_start_date</th>\n      <th>emr_transfer</th>\n      <th>emr_transfer_date</th>\n    </tr>\n  </thead>\n  <tbody>\n    <tr>\n      <th>0</th>\n      <td>20FAB01BB701</td>\n      <td>2ПК</td>\n      <td>BB</td>\n      <td>Пенал</td>\n      <td>Пенал герметичный</td>\n      <td>3C</td>\n      <td>570.0</td>\n      <td>NaN</td>\n      <td>NaN</td>\n      <td>UJA</td>\n      <td>...</td>\n      <td>NaN</td>\n      <td>NaT</td>\n      <td>0</td>\n      <td>NaT</td>\n      <td>NaT</td>\n      <td>NaN</td>\n      <td>NaN</td>\n      <td>NaN</td>\n      <td>NaN</td>\n      <td>NaN</td>\n    </tr>\n    <tr>\n      <th>1</th>\n      <td>20FAB01BB702</td>\n      <td>2ПК</td>\n      <td>BB</td>\n      <td>Пенал</td>\n      <td>Пенал герметичный</td>\n      <td>3C</td>\n      <td>570.0</td>\n      <td>NaN</td>\n      <td>NaN</td>\n      <td>UJA</td>\n      <td>...</td>\n      <td>NaN</td>\n      <td>NaT</td>\n      <td>NaN</td>\n      <td>NaT</td>\n      <td>NaT</td>\n      <td>NaN</td>\n      <td>NaN</td>\n      <td>NaN</td>\n      <td>NaN</td>\n      <td>NaN</td>\n    </tr>\n    <tr>\n      <th>2</th>\n      <td>20FAB01BB703</td>\n      <td>2ПК</td>\n      <td>BB</td>\n      <td>Пенал</td>\n      <td>Пенал герметичный</td>\n      <td>3C</td>\n      <td>570.0</td>\n      <td>NaN</td>\n      <td>NaN</td>\n      <td>UJA</td>\n      <td>...</td>\n      <td>NaN</td>\n      <td>NaT</td>\n      <td>NaN</td>\n      <td>NaT</td>\n      <td>NaT</td>\n      <td>NaN</td>\n      <td>NaN</td>\n      <td>NaN</td>\n      <td>NaN</td>\n      <td>NaN</td>\n    </tr>\n    <tr>\n      <th>3</th>\n      <td>20FAB01BB704</td>\n      <td>2ПК</td>\n      <td>BB</td>\n      <td>Пенал</td>\n      <td>Пенал герметичный</td>\n      <td>3C</td>\n      <td>570.0</td>\n      <td>NaN</td>\n      <td>NaN</td>\n      <td>UJA</td>\n      <td>...</td>\n      <td>NaN</td>\n      <td>NaT</td>\n      <td>NaN</td>\n      <td>NaT</td>\n      <td>NaT</td>\n      <td>NaN</td>\n      <td>NaN</td>\n      <td>NaN</td>\n      <td>NaN</td>\n      <td>NaN</td>\n    </tr>\n    <tr>\n      <th>4</th>\n      <td>20FAB01BB705</td>\n      <td>2ПК</td>\n      <td>BB</td>\n      <td>Пенал</td>\n      <td>Пенал герметичный</td>\n      <td>3C</td>\n      <td>570.0</td>\n      <td>NaN</td>\n      <td>NaN</td>\n      <td>UJA</td>\n      <td>...</td>\n      <td>NaN</td>\n      <td>NaT</td>\n      <td>NaN</td>\n      <td>NaT</td>\n      <td>NaT</td>\n      <td>NaN</td>\n      <td>NaN</td>\n      <td>NaN</td>\n      <td>NaN</td>\n      <td>NaN</td>\n    </tr>\n    <tr>\n      <th>...</th>\n      <td>...</td>\n      <td>...</td>\n      <td>...</td>\n      <td>...</td>\n      <td>...</td>\n      <td>...</td>\n      <td>...</td>\n      <td>...</td>\n      <td>...</td>\n      <td>...</td>\n      <td>...</td>\n      <td>...</td>\n      <td>...</td>\n      <td>...</td>\n      <td>...</td>\n      <td>...</td>\n      <td>...</td>\n      <td>...</td>\n      <td>...</td>\n      <td>...</td>\n      <td>...</td>\n    </tr>\n    <tr>\n      <th>31642</th>\n      <td>00LBG20AT403</td>\n      <td>NaN</td>\n      <td>NaN</td>\n      <td>NaN</td>\n      <td>NaN</td>\n      <td>NaN</td>\n      <td>NaN</td>\n      <td>NaN</td>\n      <td>NaN</td>\n      <td>NaN</td>\n      <td>...</td>\n      <td>NaN</td>\n      <td>NaT</td>\n      <td>NaN</td>\n      <td>NaT</td>\n      <td>NaT</td>\n      <td>NaN</td>\n      <td>NaN</td>\n      <td>NaN</td>\n      <td>NaN</td>\n      <td>NaN</td>\n    </tr>\n    <tr>\n      <th>31643</th>\n      <td>00LBG20AT404</td>\n      <td>NaN</td>\n      <td>NaN</td>\n      <td>NaN</td>\n      <td>NaN</td>\n      <td>NaN</td>\n      <td>NaN</td>\n      <td>NaN</td>\n      <td>NaN</td>\n      <td>NaN</td>\n      <td>...</td>\n      <td>NaN</td>\n      <td>NaT</td>\n      <td>NaN</td>\n      <td>NaT</td>\n      <td>NaT</td>\n      <td>NaN</td>\n      <td>NaN</td>\n      <td>NaN</td>\n      <td>NaN</td>\n      <td>NaN</td>\n    </tr>\n    <tr>\n      <th>31644</th>\n      <td>00LBG20AT405</td>\n      <td>NaN</td>\n      <td>NaN</td>\n      <td>NaN</td>\n      <td>NaN</td>\n      <td>NaN</td>\n      <td>NaN</td>\n      <td>NaN</td>\n      <td>NaN</td>\n      <td>NaN</td>\n      <td>...</td>\n      <td>NaN</td>\n      <td>NaT</td>\n      <td>NaN</td>\n      <td>NaT</td>\n      <td>NaT</td>\n      <td>NaN</td>\n      <td>NaN</td>\n      <td>NaN</td>\n      <td>NaN</td>\n      <td>NaN</td>\n    </tr>\n    <tr>\n      <th>31645</th>\n      <td>00LBG20AT406</td>\n      <td>NaN</td>\n      <td>NaN</td>\n      <td>NaN</td>\n      <td>NaN</td>\n      <td>NaN</td>\n      <td>NaN</td>\n      <td>NaN</td>\n      <td>NaN</td>\n      <td>NaN</td>\n      <td>...</td>\n      <td>NaN</td>\n      <td>NaT</td>\n      <td>NaN</td>\n      <td>NaT</td>\n      <td>NaT</td>\n      <td>NaN</td>\n      <td>NaN</td>\n      <td>NaN</td>\n      <td>NaN</td>\n      <td>NaN</td>\n    </tr>\n    <tr>\n      <th>31646</th>\n      <td>00LBG20AT407</td>\n      <td>NaN</td>\n      <td>NaN</td>\n      <td>NaN</td>\n      <td>NaN</td>\n      <td>NaN</td>\n      <td>NaN</td>\n      <td>NaN</td>\n      <td>NaN</td>\n      <td>NaN</td>\n      <td>...</td>\n      <td>NaN</td>\n      <td>NaT</td>\n      <td>NaN</td>\n      <td>NaT</td>\n      <td>NaT</td>\n      <td>NaN</td>\n      <td>NaN</td>\n      <td>NaN</td>\n      <td>NaN</td>\n      <td>NaN</td>\n    </tr>\n  </tbody>\n</table>\n<p>31647 rows × 30 columns</p>\n</div>"
     },
     "execution_count": 66,
     "metadata": {},
     "output_type": "execute_result"
    }
   ],
   "source": [
    "df1 = df1.drop(columns=[col for col in df1.columns if col.startswith('Unnamed')])\n",
    "df2 = df2.drop(columns=[col for col in df2.columns if col.startswith('Unnamed')])"
   ],
   "metadata": {
    "collapsed": false,
    "ExecuteTime": {
     "end_time": "2023-10-30T13:04:36.700041600Z",
     "start_time": "2023-10-30T13:04:36.653161100Z"
    }
   },
   "id": "b8a91963819f5213"
  },
  {
   "cell_type": "code",
   "execution_count": 79,
   "outputs": [],
   "source": [
    "eqp2 = df2.copy()\n",
    "# eqp1 = df1.copy()\n",
    "\n",
    "df2['building_2'] = ''\n",
    "eqp2.loc[eqp2['building'].str.contains('UJA', na=False, case=False), 'building_2'] = 'UJA'\n",
    "eqp2.loc[eqp2['building'].str.contains('UKC', na=False, case=False), 'building_2'] = 'UKC'\n",
    "filtered_df = eqp2[eqp2['building_2'].str.contains('UJA|UKC', case=False, na=False )]\n",
    "filtered_df = filtered_df[~filtered_df['building'].str.contains('UKZ|UMY|UJZ')]\n",
    "\n",
    "eqp2['KKS'] = eqp2['KKS'].str.replace(' ', '')\n",
    "eqp2['KKS'] = eqp2['KKS'].str.replace('-', '')"
   ],
   "metadata": {
    "collapsed": false,
    "ExecuteTime": {
     "end_time": "2023-10-30T15:10:40.594686Z",
     "start_time": "2023-10-30T15:10:40.509333900Z"
    }
   },
   "id": "94ea463de6338213"
  },
  {
   "cell_type": "code",
   "execution_count": 81,
   "outputs": [
    {
     "data": {
      "text/plain": "array(['UJA', 'UKC'], dtype=object)"
     },
     "execution_count": 81,
     "metadata": {},
     "output_type": "execute_result"
    }
   ],
   "source": [
    "filtered_df['building'].unique()"
   ],
   "metadata": {
    "collapsed": false,
    "ExecuteTime": {
     "end_time": "2023-10-30T15:10:56.155868900Z",
     "start_time": "2023-10-30T15:10:56.140242400Z"
    }
   },
   "id": "fae886c2663b9fc8"
  },
  {
   "cell_type": "code",
   "execution_count": 28,
   "outputs": [],
   "source": [
    "df1['kks_len'] = df1['KKS ЗРА'].apply(lambda x: len(str(x)))\n",
    "eqp2['kks_len'] = eqp2['KKS позиции'].apply(lambda x: len(str(x)))"
   ],
   "metadata": {
    "collapsed": false,
    "ExecuteTime": {
     "end_time": "2023-10-30T07:18:56.508192500Z",
     "start_time": "2023-10-30T07:18:56.472880200Z"
    }
   },
   "id": "34f7ca0db7dd8af5"
  },
  {
   "cell_type": "code",
   "execution_count": 29,
   "outputs": [
    {
     "data": {
      "text/plain": "kks_len\n12    25317\n19     5342\n7       313\n15      311\n13       95\n9        67\n17       61\n16       40\n11       39\n5        20\n10       17\n3        17\n26        4\n0         2\n32        1\n4         1\nName: count, dtype: int64"
     },
     "execution_count": 29,
     "metadata": {},
     "output_type": "execute_result"
    }
   ],
   "source": [
    "# df1['kks_len'].value_counts()\n",
    "eqp2['kks_len'].value_counts()"
   ],
   "metadata": {
    "collapsed": false,
    "ExecuteTime": {
     "end_time": "2023-10-30T07:18:57.777932100Z",
     "start_time": "2023-10-30T07:18:57.755573100Z"
    }
   },
   "id": "7450ff5c34923c51"
  },
  {
   "cell_type": "code",
   "execution_count": 37,
   "outputs": [
    {
     "data": {
      "text/plain": "           KKS позиции                                       Наименование\n8171   10UJA10WV000033  Система контроля НДС железобетонных конструкци...\n10363  20UJA01CS501A01  Комплект регистрирующей аппаратуры сейсмическо...\n10364  20UJA01CS501B01  Акселерометр трехкомпонентный/ Three-component...\n10365  20UJA01CS501N01                              Регистратор/ Recorder\n14311  00UKT10AX003A01                                                NaN\n...                ...                                                ...\n31474  02UYP20WB000098                                                NaN\n31475  02UYP20WB000099                                                NaN\n31487  02UYP20WB000103                                                NaN\n31490  02UYP20WB000105                                                NaN\n31491  02UYP20WB000106                                                NaN\n\n[311 rows x 2 columns]",
      "text/html": "<div>\n<style scoped>\n    .dataframe tbody tr th:only-of-type {\n        vertical-align: middle;\n    }\n\n    .dataframe tbody tr th {\n        vertical-align: top;\n    }\n\n    .dataframe thead th {\n        text-align: right;\n    }\n</style>\n<table border=\"1\" class=\"dataframe\">\n  <thead>\n    <tr style=\"text-align: right;\">\n      <th></th>\n      <th>KKS позиции</th>\n      <th>Наименование</th>\n    </tr>\n  </thead>\n  <tbody>\n    <tr>\n      <th>8171</th>\n      <td>10UJA10WV000033</td>\n      <td>Система контроля НДС железобетонных конструкци...</td>\n    </tr>\n    <tr>\n      <th>10363</th>\n      <td>20UJA01CS501A01</td>\n      <td>Комплект регистрирующей аппаратуры сейсмическо...</td>\n    </tr>\n    <tr>\n      <th>10364</th>\n      <td>20UJA01CS501B01</td>\n      <td>Акселерометр трехкомпонентный/ Three-component...</td>\n    </tr>\n    <tr>\n      <th>10365</th>\n      <td>20UJA01CS501N01</td>\n      <td>Регистратор/ Recorder</td>\n    </tr>\n    <tr>\n      <th>14311</th>\n      <td>00UKT10AX003A01</td>\n      <td>NaN</td>\n    </tr>\n    <tr>\n      <th>...</th>\n      <td>...</td>\n      <td>...</td>\n    </tr>\n    <tr>\n      <th>31474</th>\n      <td>02UYP20WB000098</td>\n      <td>NaN</td>\n    </tr>\n    <tr>\n      <th>31475</th>\n      <td>02UYP20WB000099</td>\n      <td>NaN</td>\n    </tr>\n    <tr>\n      <th>31487</th>\n      <td>02UYP20WB000103</td>\n      <td>NaN</td>\n    </tr>\n    <tr>\n      <th>31490</th>\n      <td>02UYP20WB000105</td>\n      <td>NaN</td>\n    </tr>\n    <tr>\n      <th>31491</th>\n      <td>02UYP20WB000106</td>\n      <td>NaN</td>\n    </tr>\n  </tbody>\n</table>\n<p>311 rows × 2 columns</p>\n</div>"
     },
     "execution_count": 37,
     "metadata": {},
     "output_type": "execute_result"
    }
   ],
   "source": [
    "eqp2.loc[eqp2['KKS позиции'].apply(lambda x: len(str(x)) if pd.notna(x) else 0) == 15, ['KKS позиции', 'Наименование']]\n"
   ],
   "metadata": {
    "collapsed": false,
    "ExecuteTime": {
     "end_time": "2023-10-30T07:23:09.422934200Z",
     "start_time": "2023-10-30T07:23:09.369052300Z"
    }
   },
   "id": "930f6091976a5f7a"
  },
  {
   "cell_type": "code",
   "execution_count": null,
   "outputs": [],
   "source": [],
   "metadata": {
    "collapsed": false
   },
   "id": "31df459df1df4168"
  }
 ],
 "metadata": {
  "kernelspec": {
   "display_name": "Python 3",
   "language": "python",
   "name": "python3"
  },
  "language_info": {
   "codemirror_mode": {
    "name": "ipython",
    "version": 2
   },
   "file_extension": ".py",
   "mimetype": "text/x-python",
   "name": "python",
   "nbconvert_exporter": "python",
   "pygments_lexer": "ipython2",
   "version": "2.7.6"
  }
 },
 "nbformat": 4,
 "nbformat_minor": 5
}
