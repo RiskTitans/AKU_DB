{
 "cells": [
  {
   "cell_type": "code",
   "execution_count": 133,
   "id": "initial_id",
   "metadata": {
    "collapsed": true,
    "ExecuteTime": {
     "end_time": "2023-11-03T14:35:02.053017100Z",
     "start_time": "2023-11-03T14:35:02.037397900Z"
    }
   },
   "outputs": [],
   "source": [
    "import pandas as pd\n"
   ]
  },
  {
   "cell_type": "code",
   "execution_count": 134,
   "outputs": [
    {
     "name": "stderr",
     "output_type": "stream",
     "text": [
      "C:\\anaconda3\\lib\\site-packages\\openpyxl\\worksheet\\_read_only.py:79: UserWarning: Cell BD123545 is marked as a date but the serial value 3086000 is outside the limits for dates. The cell will be treated as an error.\n",
      "  for idx, row in parser.parse():\n"
     ]
    }
   ],
   "source": [
    "path_contract = r'C:\\Users\\yuriy\\Desktop\\equipment\\org_files\\Таблица по законтрактованному объему 02.11.2023.xlsx'\n",
    "path_eqp_unit = r'C:\\Users\\yuriy\\Desktop\\equipment\\org_files\\Попозиционный учет законтрактованного 2023.11.02.xlsx'\n",
    "path_pipe = r'C:\\Users\\yuriy\\Desktop\\equipment\\Трубы\\трубы.xlsx'\n",
    "path_pipe_tsm = r'C:\\Users\\yuriy\\Desktop\\equipment\\org_files\\1 - TSM ENERJI - общая сводная учета данных.xlsx'\n",
    "\n",
    "df_contract = pd.read_excel(path_contract, sheet_name='Contract')\n",
    "df_eqp = pd.read_excel(path_eqp_unit, sheet_name='Общий свод', skiprows=1)\n",
    "df_pipe = pd.read_excel(path_pipe, sheet_name='Трубопроводы', skiprows=2)\n",
    "df_zra = pd.read_excel(path_pipe, sheet_name='ЗРА', skiprows=2, usecols=['Номер контракта'])\n",
    "df_pipe_tsm = pd.read_excel(path_pipe_tsm, sheet_name='Учет основной', skiprows=3)\n"
   ],
   "metadata": {
    "collapsed": false,
    "ExecuteTime": {
     "end_time": "2023-11-03T14:36:18.391807800Z",
     "start_time": "2023-11-03T14:35:14.778796700Z"
    }
   },
   "id": "cd8acf03f885c568"
  },
  {
   "cell_type": "code",
   "execution_count": 141,
   "outputs": [],
   "source": [
    "path_pipe = r'C:\\Users\\yuriy\\Desktop\\equipment\\non project works\\трубы_clean.xlsx'\n",
    "df_pipe_clean = pd.read_excel(path_pipe)"
   ],
   "metadata": {
    "collapsed": false,
    "ExecuteTime": {
     "end_time": "2023-11-03T15:48:28.410742200Z",
     "start_time": "2023-11-03T15:48:28.379438600Z"
    }
   },
   "id": "b2cfbb36ef05b84e"
  },
  {
   "cell_type": "code",
   "execution_count": null,
   "outputs": [],
   "source": [
    "print('Cols трубы:\\n', df_pipe.columns, '\\n')\n",
    "# print('Cols законтрактованному объему:\\n', df_contract.columns, '\\n')\n",
    "# print('Cols учет трубы TSM:\\n', df_pipe_tsm.columns)"
   ],
   "metadata": {
    "collapsed": false
   },
   "id": "5e6a063a11426cf8"
  },
  {
   "cell_type": "code",
   "execution_count": 150,
   "outputs": [],
   "source": [
    "df_pipe_clean = df_pipe_clean.drop(['Номер контракта'], axis=1)\n",
    "merged_df = df_pipe_clean.merge(df_contract[['Номер контракта', 'ЭБ №1', 'ЭБ №2', 'ЭБ №3', 'ЭБ №4']], left_on='Номерконтракта', right_on='Номер контракта', how='left')\n",
    "merged_df = merged_df.drop(['Номер контракта', 'ЭБ 1', 'ЭБ 2', 'ЭБ 3', 'ЭБ 4'], axis=1).rename(columns={\n",
    "    'ЭБ №1':'ЭБ 1',\n",
    "    'ЭБ №2':'ЭБ 2',\n",
    "    'ЭБ №3':'ЭБ 3',\n",
    "    'ЭБ №4':'ЭБ 4'\n",
    "})\n",
    "# merged_df2 = merged_df.merge(df_pipe_tsm[['','']], left_on='', right_on='', how='left')"
   ],
   "metadata": {
    "collapsed": false,
    "ExecuteTime": {
     "end_time": "2023-11-03T15:52:31.880576500Z",
     "start_time": "2023-11-03T15:52:31.864951200Z"
    }
   },
   "id": "e0521245843020d1"
  },
  {
   "cell_type": "code",
   "execution_count": null,
   "outputs": [],
   "source": [
    "#zra\n",
    "df_contract_zra = df_contract.loc[df_contract['Наименование поставки'].str.contains('задвиж|клапан',  na=False, case=False)]\n",
    "df_contract_zra = df_contract_zra[~df_contract_zra['Статус подписания 27.10.2023'].str.contains('АННУЛИРОВАН|расторжение')]\n",
    "df_contract_zra"
   ],
   "metadata": {
    "collapsed": false
   },
   "id": "595b29f6862862a4"
  },
  {
   "cell_type": "code",
   "execution_count": null,
   "outputs": [],
   "source": [
    "# only_pipe = df_pipe[~df_pipe['Номерконтракта'].isin(df_contract_zra['Номер контракта'])]\n",
    "# only_zra = df_contract_zra[~df_contract_zra['Номер контракта'].isin(df_pipe['Номерконтракта'])]\n",
    "# \n",
    "# print('only pipe:\\n', only_pipe['Номерконтракта'], '\\n')\n",
    "# print('only zra:\\n', only_zra['Номер контракта'])\n"
   ],
   "metadata": {
    "collapsed": false
   },
   "id": "828385894fbe894c"
  },
  {
   "cell_type": "code",
   "execution_count": null,
   "outputs": [],
   "source": [
    "df_pipe2 = df_contract.loc[df_contract['Наименование поставки'].str.contains('труба|трубопроводы|труба',  na=False, case=False)]\n",
    "df_pipe2 = df_pipe2[~df_pipe2['Статус подписания 27.10.2023'].str.contains('АННУЛИРОВАН|расторжение')]\n",
    "only_pipe2 = df_pipe2[~df_pipe2['Номер контракта'].isin(df_pipe['Номерконтракта'])]\n",
    "only_pipe = df_pipe[~df_pipe['Номерконтракта'].isin(df_pipe2['Номер контракта'])]\n",
    "\n",
    "only_pipe2"
   ],
   "metadata": {
    "collapsed": false
   },
   "id": "704e02280aa553b2"
  },
  {
   "cell_type": "code",
   "execution_count": null,
   "outputs": [],
   "source": [
    "path_upr = r'C:\\Users\\yuriy\\Desktop\\equipment\\org_files\\Управленческий учет (еженедельный отчет).xlsx'\n",
    "df_mng_accounting = pd.read_excel(path_upr, sheet_name='Оборудование', skiprows=1)\n",
    "df_mng_accounting"
   ],
   "metadata": {
    "collapsed": false
   },
   "id": "6a2b1bb5509e7dd4"
  },
  {
   "cell_type": "code",
   "execution_count": null,
   "outputs": [],
   "source": [
    "only_zra = df_zra[~df_zra['Номер контракта'].isin(df_mng_accounting['Номерконтракта'])]\n",
    "only_mng_acc = df_mng_accounting[~df_mng_accounting['Номерконтракта'].isin(df_zra['Номер контракта'])]\n",
    "\n",
    "mng_acc = df_mng_accounting[df_mng_accounting['Номерконтракта'].isin(df_zra['Номер контракта'])]\n",
    "\n",
    "df_contract2 = df_contract[['п/п', 'Номер лота', 'Номер контракта', 'Поставщик из ЭДО', 'Наименование поставки', 'Сумма контракта, без НДС', \n",
    "                            'ЭБ №1', 'ЭБ №2', 'ЭБ №3', 'ЭБ №4', 'Статья']]\n"
   ],
   "metadata": {
    "collapsed": false
   },
   "id": "aa54fdf9ffe7994f"
  },
  {
   "cell_type": "code",
   "execution_count": null,
   "outputs": [],
   "source": [
    "merged_test = df_zra.merge(df_contract2, on='Номер контракта', how='inner')\n",
    "\n",
    "merged_test"
   ],
   "metadata": {
    "collapsed": false
   },
   "id": "88d8a00ab76521cf"
  },
  {
   "cell_type": "code",
   "execution_count": null,
   "outputs": [],
   "source": [
    "# contract_replace = {\n",
    "#     'FT-04-22-1685': '2212-12-AKU-22-046/046м/FT-04-22-1685',\n",
    "#     'FT-04-23-77': 'FT-04-23-77 от 30.01.2023',\n",
    "#     'FT-04-23-704': 'FT-04-23-704 от 23.05.2023',\n",
    "#     'FT-04-23-646': 'FT-04-23-646 от 05.05.2023',\n",
    "#     'FT-04-23-781': 'FT-04-23-781 от 23.07.2023',\n",
    "# }\n",
    "# \n",
    "# for val in df_pipe['Номерконтракта']:\n",
    "#     if val in contract_replace.keys():\n",
    "#         contract_val = contract_replace[val]\n",
    "#     else:\n",
    "#         contract_val = val\n",
    "#     df = df_pipe_tsm[df_pipe_tsm['Контракт'] == contract_val]\n",
    "#     merged_df.loc[ merged_df['Номерконтракта'] == val ,'proekt_tonn'] = df['Масса общая, тн.'].sum()\n",
    "#     merged_df.loc[ merged_df['Номерконтракта'] == val ,'postavleno_tonn'] = df['Поставлено, тн.'].sum()\n",
    "#     merged_df.loc[ merged_df['Номерконтракта'] == val ,'montaj_tonn'] = df['Монтаж BR'].sum()\n",
    "#     \n",
    "#     unique_values = df['Здание'].unique()\n",
    "#     result_string = ', '.join(unique_values)\n",
    "#     merged_df.loc[ merged_df['Номерконтракта'] == val ,'zdanie'] = result_string\n",
    "#     \n",
    "#     # print(df['Масса общая, тн.'])\n",
    "#     del df\n",
    "#     \n",
    "# merged_df\n",
    "\n",
    "\n",
    "# df = df_pipe_tsm[df_pipe_tsm['Контракт'] == 'FT-04-21-889']\n",
    "# sum_df = df['Масса общая, тн.'].sum()\n",
    "# sum_df\n",
    "\n",
    "#exist \n",
    "# FT-04-21-889\n",
    "# FT-04-22-1692\n",
    "# FT-04-21-642\n",
    "# FT-04-23-664\n",
    "\n",
    "# does not exist\n",
    "# FT-04-21-626\n",
    "# FT-04-23-665\n",
    "# FT-04-21-890\n",
    "# FT-04-22-1685 -> 2212-12-AKU-22-046/046м/FT-04-22-1685\n",
    "# FT-04-20-76\n",
    "# FT-04-23-912\n",
    "# FT-04-23-77 -> FT-04-23-77 от 30.01.2023\n",
    "# FT-04-23-828\n",
    "# FT-04-21-1058\n",
    "# FT-04-23-144\n",
    "# FT-04-21-702\n",
    "# FT-04-23-933\n",
    "# FT-04-23-68\n",
    "# FT-04-23-704 -> FT-04-23-704 от 23.05.2023\n",
    "# FT-04-22-922\n",
    "# FT-04-23-143\n",
    "# FT-04-21-1060\n",
    "# FT-04-23-646  -> FT-04-23-646 от 05.05.2023\n",
    "# FT-04-23-781 -> FT-04-23-781 от 23.07.2023"
   ],
   "metadata": {
    "collapsed": false
   },
   "id": "7b2fd549c3aa8a52"
  },
  {
   "cell_type": "code",
   "execution_count": null,
   "outputs": [],
   "source": [
    "df_pipe_tsm[df_pipe_tsm['Контракт'] == 'FT-04-21-642']"
   ],
   "metadata": {
    "collapsed": false
   },
   "id": "eb28d58bea0a2091"
  },
  {
   "cell_type": "code",
   "execution_count": 152,
   "outputs": [],
   "source": [
    "df_bloks = df_contract.loc[:,['Номер контракта', 'блоки ']]"
   ],
   "metadata": {
    "collapsed": false,
    "ExecuteTime": {
     "end_time": "2023-11-03T15:53:03.179678900Z",
     "start_time": "2023-11-03T15:53:03.162933700Z"
    }
   },
   "id": "c8636689be6bddca"
  },
  {
   "cell_type": "code",
   "execution_count": 153,
   "outputs": [
    {
     "data": {
      "text/plain": "      №              Лот Номерконтракта Дата контракта  \\\n0   412  AKU-21-021/021m   FT-04-21-889     2021-10-25   \n1   413  AKU-20-207/207м   FT-04-21-626     2021-06-15   \n2   414  AKU-21-113/113м  FT-04-22-1692     2022-12-12   \n3   415  AKU-22-282/282м   FT-04-23-665     2023-05-04   \n4   416  AKU-20-273/273м   FT-04-21-642     2021-06-30   \n5   417  AKU-22-281/281м   FT-04-23-664     2023-05-02   \n6   418  AKU-19-058/2/2м   FT-04-21-890     2021-10-18   \n7   419  AKU-22-046/046м  FT-04-22-1685     2022-12-13   \n8   420       AKU-19-058    FT-04-20-76     2020-03-20   \n9   454      AKU-22-283м   FT-04-23-912     2023-09-13   \n10  455      AKU-22-137м    FT-04-23-77     2023-01-30   \n11  456      AKU-22-237м   FT-04-23-828     2023-08-16   \n12  457      AKU-21-122м  FT-04-21-1058     2021-12-30   \n13  458      AKU-22-187м   FT-04-23-144     2023-01-20   \n14  459      AKU-20-280м   FT-04-21-702     2021-08-11   \n15  460      AKU-22-232м   FT-04-23-933     2023-09-13   \n16  463      AKU-21-157m    FT-04-23-68     2023-01-30   \n17  464      AKU-22-246м   FT-04-23-704     2023-09-12   \n18  465      AKU-22-032м   FT-04-22-922     2022-08-23   \n19  466      AKU-22-214м   FT-04-23-143     2023-02-01   \n20  239       AKU-21-121  FT-04-21-1060     2021-12-30   \n21  452  AKU-22-231/233м   FT-04-23-646     2023-05-05   \n22  506  AKU-22-162/165м   FT-04-23-781     2023-06-23   \n\n                        Поставщик  \\\n0              КОНЦЕРН ТИТАН-2 АО   \n1              КОНЦЕРН ТИТАН-2 АО   \n2              КОНЦЕРН ТИТАН-2 АО   \n3              КОНЦЕРН ТИТАН-2 АО   \n4              КОНЦЕРН ТИТАН-2 АО   \n5              КОНЦЕРН ТИТАН-2 АО   \n6              КОНЦЕРН ТИТАН-2 АО   \n7              КОНЦЕРН ТИТАН-2 АО   \n8   ТИТАН ТЕХНОЛОДЖИ ПАЙПЛАЙН ООО   \n9              КОНЦЕРН ТИТАН-2 АО   \n10             КОНЦЕРН ТИТАН-2 АО   \n11             КОНЦЕРН ТИТАН-2 АО   \n12             КОНЦЕРН ТИТАН-2 АО   \n13             КОНЦЕРН ТИТАН-2 АО   \n14             КОНЦЕРН ТИТАН-2 АО   \n15             КОНЦЕРН ТИТАН-2 АО   \n16             КОНЦЕРН ТИТАН-2 АО   \n17             КОНЦЕРН ТИТАН-2 АО   \n18             КОНЦЕРН ТИТАН-2 АО   \n19             КОНЦЕРН ТИТАН-2 АО   \n20             КОНЦЕРН ТИТАН-2 АО   \n21             КОНЦЕРН ТИТАН-2 АО   \n22             КОНЦЕРН ТИТАН-2 АО   \n\n                                    Предмет поставки   Стоимость контракта   \\\n0   Поставка трубопроводов турбинного острова для ...          1.209500e+08   \n1                       Трубопроводы ядерного острова          5.591670e+07   \n2                     трубопроводы турбинного острова          3.985523e+07   \n3                     трубопроводы турбинного острова          3.824765e+07   \n4                              Трубопроводов LAB, LBA          3.432932e+07   \n5                     трубопроводы турбинного острова          3.027153e+07   \n6   Поставка трубопроводов ядерного острова для со...          1.352748e+07   \n7             трубопроводы зданий 01UYX, 00UYB, 00UFC          3.213636e+06   \n8                                     Трубопроводы ЯО          1.247274e+07   \n9                     трубопроводы турбинного острова          4.035195e+07   \n10                          трубопроводы здания 00USY          3.934748e+07   \n11                          трубопроводы здания 00USY          3.757803e+07   \n12                                    трубопроводы ЯО          1.842428e+07   \n13                            трубопроводы системы PE          1.061959e+07   \n14  Трубопроводы охлаждающей воды ответственных по...          1.007337e+07   \n15                           трубопроводы системы PJA          5.688937e+06   \n16                трубопроводы системы PEB здания UCB          1.440523e+06   \n17                       трубопроводы систем JNA, JND          5.286438e+05   \n18            трубопроводы системы SCD для здания UKC          1.878975e+05   \n19         поставка трубопроводов здания 02UYX, 00UYB          1.003155e+05   \n20                                    трубопроводы ЯО          3.285745e+06   \n21                   трубопроводы зданий 00UTH, 00UNA          3.560000e+06   \n22                       трубопроводы систем KAA, KBC          3.943239e+06   \n\n    Предусмотренный аванс  Тонн  Смонтировано  ...  \\\n0            3.628500e+07   NaN           NaN  ...   \n1            1.677501e+07   NaN           NaN  ...   \n2            9.060729e+06   NaN           NaN  ...   \n3            9.037067e+06   NaN           NaN  ...   \n4            1.029880e+07   NaN           NaN  ...   \n5            8.071123e+06   NaN           NaN  ...   \n6            4.058243e+06   NaN           NaN  ...   \n7            9.640909e+05   NaN           NaN  ...   \n8            3.741823e+06   NaN           NaN  ...   \n9            9.452929e+06   NaN           NaN  ...   \n10           8.957304e+06   NaN           NaN  ...   \n11           9.114712e+06   NaN           NaN  ...   \n12           5.527285e+06   NaN           NaN  ...   \n13           2.369953e+06   NaN           NaN  ...   \n14           3.022011e+06   NaN           NaN  ...   \n15           1.344662e+06   NaN           NaN  ...   \n16           3.276062e+05   NaN           NaN  ...   \n17           1.257127e+05   NaN           NaN  ...   \n18           5.636926e+04   NaN           NaN  ...   \n19           2.260640e+04   NaN           NaN  ...   \n20                    NaN   NaN           NaN  ...   \n21                    NaN   NaN           NaN  ...   \n22                    NaN   NaN           NaN  ...   \n\n   Оплачено за поставку оборудования                     Статья  Объекты  \\\n0                                 NaN  Оборудование и материалы      NaN   \n1                          7182500.50  Оборудование и материалы      NaN   \n2                                 NaN  Оборудование и материалы      NaN   \n3                                 NaN  Оборудование и материалы      NaN   \n4                          9794894.27  Оборудование и материалы      NaN   \n5                                 NaN  Оборудование и материалы      NaN   \n6                                 NaN  Оборудование и материалы      NaN   \n7                           625751.67  Оборудование и материалы      NaN   \n8                          3959016.20  Оборудование и материалы      NaN   \n9                                 NaN                 Материалы      NaN   \n10                                NaN                 Материалы      NaN   \n11                                NaN                 Материалы      NaN   \n12                         1186205.45                 Материалы      NaN   \n13                                NaN                 Материалы      NaN   \n14                                NaN                 Материалы      NaN   \n15                                NaN                 Материалы      NaN   \n16                                NaN                 Материалы      NaN   \n17                                NaN                 Материалы      NaN   \n18                                NaN                 Материалы      NaN   \n19                                NaN                 Материалы      NaN   \n20                                NaN              Оборудование      NaN   \n21                                NaN                 Материалы      NaN   \n22                                NaN                 Материалы      NaN   \n\n    bloki блоки _x          ЭБ 1          ЭБ 2        ЭБ 3        ЭБ 4  \\\n0     NaN  1,2,3,4  3.023750e+07  3.023750e+07  30237500.0  30237500.0   \n1     NaN     1, 2  2.797751e+07  2.793918e+07         NaN         NaN   \n2     NaN      1.2  1.992791e+07  1.992733e+07         NaN         NaN   \n3     NaN      1.2  1.913798e+07  1.910967e+07         NaN         NaN   \n4     NaN     1, 2  1.714690e+07  1.718242e+07         NaN         NaN   \n5     NaN      1.2  1.524803e+07  1.502350e+07         NaN         NaN   \n6     NaN        2           NaN  1.352748e+07         NaN         NaN   \n7     NaN        0  3.274509e+06           NaN         NaN         NaN   \n8     NaN        1  1.396713e+07  0.000000e+00         0.0         0.0   \n9     NaN      1.2  2.017603e+07  2.017593e+07         NaN         NaN   \n10    NaN        0  3.934748e+07           NaN         NaN         NaN   \n11    NaN        0  3.757803e+07           NaN         NaN         NaN   \n12    NaN   0,1, 2  9.336619e+06  9.087666e+06         NaN         NaN   \n13    NaN      1.2  7.015066e+06  3.604519e+06         NaN         NaN   \n14    NaN      1.2  5.036684e+06  5.036684e+06         NaN         NaN   \n15    NaN      1.2  2.844496e+06  2.844440e+06         NaN         NaN   \n16    NaN      1.2  7.202619e+05  7.202614e+05         NaN         NaN   \n17    NaN      1.2  2.643174e+05  2.643264e+05         NaN         NaN   \n18    NaN      1.2  9.395008e+04  9.394747e+04         NaN         NaN   \n19    NaN        0  1.003155e+05           NaN         NaN         NaN   \n20    NaN     1, 2  1.639149e+06  1.646597e+06         NaN         NaN   \n21    NaN        0  3.560000e+06           NaN         NaN         NaN   \n22    NaN      1.2  1.971619e+06  1.971619e+06         NaN         NaN   \n\n    блоки _y  \n0    1,2,3,4  \n1       1, 2  \n2        1.2  \n3        1.2  \n4       1, 2  \n5        1.2  \n6          2  \n7          0  \n8          1  \n9        1.2  \n10         0  \n11         0  \n12    0,1, 2  \n13       1.2  \n14       1.2  \n15       1.2  \n16       1.2  \n17       1.2  \n18       1.2  \n19         0  \n20      1, 2  \n21         0  \n22       1.2  \n\n[23 rows x 23 columns]",
      "text/html": "<div>\n<style scoped>\n    .dataframe tbody tr th:only-of-type {\n        vertical-align: middle;\n    }\n\n    .dataframe tbody tr th {\n        vertical-align: top;\n    }\n\n    .dataframe thead th {\n        text-align: right;\n    }\n</style>\n<table border=\"1\" class=\"dataframe\">\n  <thead>\n    <tr style=\"text-align: right;\">\n      <th></th>\n      <th>№</th>\n      <th>Лот</th>\n      <th>Номерконтракта</th>\n      <th>Дата контракта</th>\n      <th>Поставщик</th>\n      <th>Предмет поставки</th>\n      <th>Стоимость контракта</th>\n      <th>Предусмотренный аванс</th>\n      <th>Тонн</th>\n      <th>Смонтировано</th>\n      <th>...</th>\n      <th>Оплачено за поставку оборудования</th>\n      <th>Статья</th>\n      <th>Объекты</th>\n      <th>bloki</th>\n      <th>блоки _x</th>\n      <th>ЭБ 1</th>\n      <th>ЭБ 2</th>\n      <th>ЭБ 3</th>\n      <th>ЭБ 4</th>\n      <th>блоки _y</th>\n    </tr>\n  </thead>\n  <tbody>\n    <tr>\n      <th>0</th>\n      <td>412</td>\n      <td>AKU-21-021/021m</td>\n      <td>FT-04-21-889</td>\n      <td>2021-10-25</td>\n      <td>КОНЦЕРН ТИТАН-2 АО</td>\n      <td>Поставка трубопроводов турбинного острова для ...</td>\n      <td>1.209500e+08</td>\n      <td>3.628500e+07</td>\n      <td>NaN</td>\n      <td>NaN</td>\n      <td>...</td>\n      <td>NaN</td>\n      <td>Оборудование и материалы</td>\n      <td>NaN</td>\n      <td>NaN</td>\n      <td>1,2,3,4</td>\n      <td>3.023750e+07</td>\n      <td>3.023750e+07</td>\n      <td>30237500.0</td>\n      <td>30237500.0</td>\n      <td>1,2,3,4</td>\n    </tr>\n    <tr>\n      <th>1</th>\n      <td>413</td>\n      <td>AKU-20-207/207м</td>\n      <td>FT-04-21-626</td>\n      <td>2021-06-15</td>\n      <td>КОНЦЕРН ТИТАН-2 АО</td>\n      <td>Трубопроводы ядерного острова</td>\n      <td>5.591670e+07</td>\n      <td>1.677501e+07</td>\n      <td>NaN</td>\n      <td>NaN</td>\n      <td>...</td>\n      <td>7182500.50</td>\n      <td>Оборудование и материалы</td>\n      <td>NaN</td>\n      <td>NaN</td>\n      <td>1, 2</td>\n      <td>2.797751e+07</td>\n      <td>2.793918e+07</td>\n      <td>NaN</td>\n      <td>NaN</td>\n      <td>1, 2</td>\n    </tr>\n    <tr>\n      <th>2</th>\n      <td>414</td>\n      <td>AKU-21-113/113м</td>\n      <td>FT-04-22-1692</td>\n      <td>2022-12-12</td>\n      <td>КОНЦЕРН ТИТАН-2 АО</td>\n      <td>трубопроводы турбинного острова</td>\n      <td>3.985523e+07</td>\n      <td>9.060729e+06</td>\n      <td>NaN</td>\n      <td>NaN</td>\n      <td>...</td>\n      <td>NaN</td>\n      <td>Оборудование и материалы</td>\n      <td>NaN</td>\n      <td>NaN</td>\n      <td>1.2</td>\n      <td>1.992791e+07</td>\n      <td>1.992733e+07</td>\n      <td>NaN</td>\n      <td>NaN</td>\n      <td>1.2</td>\n    </tr>\n    <tr>\n      <th>3</th>\n      <td>415</td>\n      <td>AKU-22-282/282м</td>\n      <td>FT-04-23-665</td>\n      <td>2023-05-04</td>\n      <td>КОНЦЕРН ТИТАН-2 АО</td>\n      <td>трубопроводы турбинного острова</td>\n      <td>3.824765e+07</td>\n      <td>9.037067e+06</td>\n      <td>NaN</td>\n      <td>NaN</td>\n      <td>...</td>\n      <td>NaN</td>\n      <td>Оборудование и материалы</td>\n      <td>NaN</td>\n      <td>NaN</td>\n      <td>1.2</td>\n      <td>1.913798e+07</td>\n      <td>1.910967e+07</td>\n      <td>NaN</td>\n      <td>NaN</td>\n      <td>1.2</td>\n    </tr>\n    <tr>\n      <th>4</th>\n      <td>416</td>\n      <td>AKU-20-273/273м</td>\n      <td>FT-04-21-642</td>\n      <td>2021-06-30</td>\n      <td>КОНЦЕРН ТИТАН-2 АО</td>\n      <td>Трубопроводов LAB, LBA</td>\n      <td>3.432932e+07</td>\n      <td>1.029880e+07</td>\n      <td>NaN</td>\n      <td>NaN</td>\n      <td>...</td>\n      <td>9794894.27</td>\n      <td>Оборудование и материалы</td>\n      <td>NaN</td>\n      <td>NaN</td>\n      <td>1, 2</td>\n      <td>1.714690e+07</td>\n      <td>1.718242e+07</td>\n      <td>NaN</td>\n      <td>NaN</td>\n      <td>1, 2</td>\n    </tr>\n    <tr>\n      <th>5</th>\n      <td>417</td>\n      <td>AKU-22-281/281м</td>\n      <td>FT-04-23-664</td>\n      <td>2023-05-02</td>\n      <td>КОНЦЕРН ТИТАН-2 АО</td>\n      <td>трубопроводы турбинного острова</td>\n      <td>3.027153e+07</td>\n      <td>8.071123e+06</td>\n      <td>NaN</td>\n      <td>NaN</td>\n      <td>...</td>\n      <td>NaN</td>\n      <td>Оборудование и материалы</td>\n      <td>NaN</td>\n      <td>NaN</td>\n      <td>1.2</td>\n      <td>1.524803e+07</td>\n      <td>1.502350e+07</td>\n      <td>NaN</td>\n      <td>NaN</td>\n      <td>1.2</td>\n    </tr>\n    <tr>\n      <th>6</th>\n      <td>418</td>\n      <td>AKU-19-058/2/2м</td>\n      <td>FT-04-21-890</td>\n      <td>2021-10-18</td>\n      <td>КОНЦЕРН ТИТАН-2 АО</td>\n      <td>Поставка трубопроводов ядерного острова для со...</td>\n      <td>1.352748e+07</td>\n      <td>4.058243e+06</td>\n      <td>NaN</td>\n      <td>NaN</td>\n      <td>...</td>\n      <td>NaN</td>\n      <td>Оборудование и материалы</td>\n      <td>NaN</td>\n      <td>NaN</td>\n      <td>2</td>\n      <td>NaN</td>\n      <td>1.352748e+07</td>\n      <td>NaN</td>\n      <td>NaN</td>\n      <td>2</td>\n    </tr>\n    <tr>\n      <th>7</th>\n      <td>419</td>\n      <td>AKU-22-046/046м</td>\n      <td>FT-04-22-1685</td>\n      <td>2022-12-13</td>\n      <td>КОНЦЕРН ТИТАН-2 АО</td>\n      <td>трубопроводы зданий 01UYX, 00UYB, 00UFC</td>\n      <td>3.213636e+06</td>\n      <td>9.640909e+05</td>\n      <td>NaN</td>\n      <td>NaN</td>\n      <td>...</td>\n      <td>625751.67</td>\n      <td>Оборудование и материалы</td>\n      <td>NaN</td>\n      <td>NaN</td>\n      <td>0</td>\n      <td>3.274509e+06</td>\n      <td>NaN</td>\n      <td>NaN</td>\n      <td>NaN</td>\n      <td>0</td>\n    </tr>\n    <tr>\n      <th>8</th>\n      <td>420</td>\n      <td>AKU-19-058</td>\n      <td>FT-04-20-76</td>\n      <td>2020-03-20</td>\n      <td>ТИТАН ТЕХНОЛОДЖИ ПАЙПЛАЙН ООО</td>\n      <td>Трубопроводы ЯО</td>\n      <td>1.247274e+07</td>\n      <td>3.741823e+06</td>\n      <td>NaN</td>\n      <td>NaN</td>\n      <td>...</td>\n      <td>3959016.20</td>\n      <td>Оборудование и материалы</td>\n      <td>NaN</td>\n      <td>NaN</td>\n      <td>1</td>\n      <td>1.396713e+07</td>\n      <td>0.000000e+00</td>\n      <td>0.0</td>\n      <td>0.0</td>\n      <td>1</td>\n    </tr>\n    <tr>\n      <th>9</th>\n      <td>454</td>\n      <td>AKU-22-283м</td>\n      <td>FT-04-23-912</td>\n      <td>2023-09-13</td>\n      <td>КОНЦЕРН ТИТАН-2 АО</td>\n      <td>трубопроводы турбинного острова</td>\n      <td>4.035195e+07</td>\n      <td>9.452929e+06</td>\n      <td>NaN</td>\n      <td>NaN</td>\n      <td>...</td>\n      <td>NaN</td>\n      <td>Материалы</td>\n      <td>NaN</td>\n      <td>NaN</td>\n      <td>1.2</td>\n      <td>2.017603e+07</td>\n      <td>2.017593e+07</td>\n      <td>NaN</td>\n      <td>NaN</td>\n      <td>1.2</td>\n    </tr>\n    <tr>\n      <th>10</th>\n      <td>455</td>\n      <td>AKU-22-137м</td>\n      <td>FT-04-23-77</td>\n      <td>2023-01-30</td>\n      <td>КОНЦЕРН ТИТАН-2 АО</td>\n      <td>трубопроводы здания 00USY</td>\n      <td>3.934748e+07</td>\n      <td>8.957304e+06</td>\n      <td>NaN</td>\n      <td>NaN</td>\n      <td>...</td>\n      <td>NaN</td>\n      <td>Материалы</td>\n      <td>NaN</td>\n      <td>NaN</td>\n      <td>0</td>\n      <td>3.934748e+07</td>\n      <td>NaN</td>\n      <td>NaN</td>\n      <td>NaN</td>\n      <td>0</td>\n    </tr>\n    <tr>\n      <th>11</th>\n      <td>456</td>\n      <td>AKU-22-237м</td>\n      <td>FT-04-23-828</td>\n      <td>2023-08-16</td>\n      <td>КОНЦЕРН ТИТАН-2 АО</td>\n      <td>трубопроводы здания 00USY</td>\n      <td>3.757803e+07</td>\n      <td>9.114712e+06</td>\n      <td>NaN</td>\n      <td>NaN</td>\n      <td>...</td>\n      <td>NaN</td>\n      <td>Материалы</td>\n      <td>NaN</td>\n      <td>NaN</td>\n      <td>0</td>\n      <td>3.757803e+07</td>\n      <td>NaN</td>\n      <td>NaN</td>\n      <td>NaN</td>\n      <td>0</td>\n    </tr>\n    <tr>\n      <th>12</th>\n      <td>457</td>\n      <td>AKU-21-122м</td>\n      <td>FT-04-21-1058</td>\n      <td>2021-12-30</td>\n      <td>КОНЦЕРН ТИТАН-2 АО</td>\n      <td>трубопроводы ЯО</td>\n      <td>1.842428e+07</td>\n      <td>5.527285e+06</td>\n      <td>NaN</td>\n      <td>NaN</td>\n      <td>...</td>\n      <td>1186205.45</td>\n      <td>Материалы</td>\n      <td>NaN</td>\n      <td>NaN</td>\n      <td>0,1, 2</td>\n      <td>9.336619e+06</td>\n      <td>9.087666e+06</td>\n      <td>NaN</td>\n      <td>NaN</td>\n      <td>0,1, 2</td>\n    </tr>\n    <tr>\n      <th>13</th>\n      <td>458</td>\n      <td>AKU-22-187м</td>\n      <td>FT-04-23-144</td>\n      <td>2023-01-20</td>\n      <td>КОНЦЕРН ТИТАН-2 АО</td>\n      <td>трубопроводы системы PE</td>\n      <td>1.061959e+07</td>\n      <td>2.369953e+06</td>\n      <td>NaN</td>\n      <td>NaN</td>\n      <td>...</td>\n      <td>NaN</td>\n      <td>Материалы</td>\n      <td>NaN</td>\n      <td>NaN</td>\n      <td>1.2</td>\n      <td>7.015066e+06</td>\n      <td>3.604519e+06</td>\n      <td>NaN</td>\n      <td>NaN</td>\n      <td>1.2</td>\n    </tr>\n    <tr>\n      <th>14</th>\n      <td>459</td>\n      <td>AKU-20-280м</td>\n      <td>FT-04-21-702</td>\n      <td>2021-08-11</td>\n      <td>КОНЦЕРН ТИТАН-2 АО</td>\n      <td>Трубопроводы охлаждающей воды ответственных по...</td>\n      <td>1.007337e+07</td>\n      <td>3.022011e+06</td>\n      <td>NaN</td>\n      <td>NaN</td>\n      <td>...</td>\n      <td>NaN</td>\n      <td>Материалы</td>\n      <td>NaN</td>\n      <td>NaN</td>\n      <td>1.2</td>\n      <td>5.036684e+06</td>\n      <td>5.036684e+06</td>\n      <td>NaN</td>\n      <td>NaN</td>\n      <td>1.2</td>\n    </tr>\n    <tr>\n      <th>15</th>\n      <td>460</td>\n      <td>AKU-22-232м</td>\n      <td>FT-04-23-933</td>\n      <td>2023-09-13</td>\n      <td>КОНЦЕРН ТИТАН-2 АО</td>\n      <td>трубопроводы системы PJA</td>\n      <td>5.688937e+06</td>\n      <td>1.344662e+06</td>\n      <td>NaN</td>\n      <td>NaN</td>\n      <td>...</td>\n      <td>NaN</td>\n      <td>Материалы</td>\n      <td>NaN</td>\n      <td>NaN</td>\n      <td>1.2</td>\n      <td>2.844496e+06</td>\n      <td>2.844440e+06</td>\n      <td>NaN</td>\n      <td>NaN</td>\n      <td>1.2</td>\n    </tr>\n    <tr>\n      <th>16</th>\n      <td>463</td>\n      <td>AKU-21-157m</td>\n      <td>FT-04-23-68</td>\n      <td>2023-01-30</td>\n      <td>КОНЦЕРН ТИТАН-2 АО</td>\n      <td>трубопроводы системы PEB здания UCB</td>\n      <td>1.440523e+06</td>\n      <td>3.276062e+05</td>\n      <td>NaN</td>\n      <td>NaN</td>\n      <td>...</td>\n      <td>NaN</td>\n      <td>Материалы</td>\n      <td>NaN</td>\n      <td>NaN</td>\n      <td>1.2</td>\n      <td>7.202619e+05</td>\n      <td>7.202614e+05</td>\n      <td>NaN</td>\n      <td>NaN</td>\n      <td>1.2</td>\n    </tr>\n    <tr>\n      <th>17</th>\n      <td>464</td>\n      <td>AKU-22-246м</td>\n      <td>FT-04-23-704</td>\n      <td>2023-09-12</td>\n      <td>КОНЦЕРН ТИТАН-2 АО</td>\n      <td>трубопроводы систем JNA, JND</td>\n      <td>5.286438e+05</td>\n      <td>1.257127e+05</td>\n      <td>NaN</td>\n      <td>NaN</td>\n      <td>...</td>\n      <td>NaN</td>\n      <td>Материалы</td>\n      <td>NaN</td>\n      <td>NaN</td>\n      <td>1.2</td>\n      <td>2.643174e+05</td>\n      <td>2.643264e+05</td>\n      <td>NaN</td>\n      <td>NaN</td>\n      <td>1.2</td>\n    </tr>\n    <tr>\n      <th>18</th>\n      <td>465</td>\n      <td>AKU-22-032м</td>\n      <td>FT-04-22-922</td>\n      <td>2022-08-23</td>\n      <td>КОНЦЕРН ТИТАН-2 АО</td>\n      <td>трубопроводы системы SCD для здания UKC</td>\n      <td>1.878975e+05</td>\n      <td>5.636926e+04</td>\n      <td>NaN</td>\n      <td>NaN</td>\n      <td>...</td>\n      <td>NaN</td>\n      <td>Материалы</td>\n      <td>NaN</td>\n      <td>NaN</td>\n      <td>1.2</td>\n      <td>9.395008e+04</td>\n      <td>9.394747e+04</td>\n      <td>NaN</td>\n      <td>NaN</td>\n      <td>1.2</td>\n    </tr>\n    <tr>\n      <th>19</th>\n      <td>466</td>\n      <td>AKU-22-214м</td>\n      <td>FT-04-23-143</td>\n      <td>2023-02-01</td>\n      <td>КОНЦЕРН ТИТАН-2 АО</td>\n      <td>поставка трубопроводов здания 02UYX, 00UYB</td>\n      <td>1.003155e+05</td>\n      <td>2.260640e+04</td>\n      <td>NaN</td>\n      <td>NaN</td>\n      <td>...</td>\n      <td>NaN</td>\n      <td>Материалы</td>\n      <td>NaN</td>\n      <td>NaN</td>\n      <td>0</td>\n      <td>1.003155e+05</td>\n      <td>NaN</td>\n      <td>NaN</td>\n      <td>NaN</td>\n      <td>0</td>\n    </tr>\n    <tr>\n      <th>20</th>\n      <td>239</td>\n      <td>AKU-21-121</td>\n      <td>FT-04-21-1060</td>\n      <td>2021-12-30</td>\n      <td>КОНЦЕРН ТИТАН-2 АО</td>\n      <td>трубопроводы ЯО</td>\n      <td>3.285745e+06</td>\n      <td>NaN</td>\n      <td>NaN</td>\n      <td>NaN</td>\n      <td>...</td>\n      <td>NaN</td>\n      <td>Оборудование</td>\n      <td>NaN</td>\n      <td>NaN</td>\n      <td>1, 2</td>\n      <td>1.639149e+06</td>\n      <td>1.646597e+06</td>\n      <td>NaN</td>\n      <td>NaN</td>\n      <td>1, 2</td>\n    </tr>\n    <tr>\n      <th>21</th>\n      <td>452</td>\n      <td>AKU-22-231/233м</td>\n      <td>FT-04-23-646</td>\n      <td>2023-05-05</td>\n      <td>КОНЦЕРН ТИТАН-2 АО</td>\n      <td>трубопроводы зданий 00UTH, 00UNA</td>\n      <td>3.560000e+06</td>\n      <td>NaN</td>\n      <td>NaN</td>\n      <td>NaN</td>\n      <td>...</td>\n      <td>NaN</td>\n      <td>Материалы</td>\n      <td>NaN</td>\n      <td>NaN</td>\n      <td>0</td>\n      <td>3.560000e+06</td>\n      <td>NaN</td>\n      <td>NaN</td>\n      <td>NaN</td>\n      <td>0</td>\n    </tr>\n    <tr>\n      <th>22</th>\n      <td>506</td>\n      <td>AKU-22-162/165м</td>\n      <td>FT-04-23-781</td>\n      <td>2023-06-23</td>\n      <td>КОНЦЕРН ТИТАН-2 АО</td>\n      <td>трубопроводы систем KAA, KBC</td>\n      <td>3.943239e+06</td>\n      <td>NaN</td>\n      <td>NaN</td>\n      <td>NaN</td>\n      <td>...</td>\n      <td>NaN</td>\n      <td>Материалы</td>\n      <td>NaN</td>\n      <td>NaN</td>\n      <td>1.2</td>\n      <td>1.971619e+06</td>\n      <td>1.971619e+06</td>\n      <td>NaN</td>\n      <td>NaN</td>\n      <td>1.2</td>\n    </tr>\n  </tbody>\n</table>\n<p>23 rows × 23 columns</p>\n</div>"
     },
     "execution_count": 153,
     "metadata": {},
     "output_type": "execute_result"
    }
   ],
   "source": [
    "# for val in merged_df['Номерконтракта']:\n",
    "#     df = df_contract[df_contract['Номер контракта'] == val]\n",
    "#     merged_df.loc[ merged_df['Номерконтракта'] == val ,'bloki'] = df['блоки ']\n",
    "\n",
    "merged_df_final = merged_df.merge(df_bloks, left_on='Номерконтракта', right_on='Номер контракта', how='inner').drop(['Номер контракта'], axis=1)\n",
    "\n",
    "merged_df_final"
   ],
   "metadata": {
    "collapsed": false,
    "ExecuteTime": {
     "end_time": "2023-11-03T15:53:04.177395400Z",
     "start_time": "2023-11-03T15:53:04.140943Z"
    }
   },
   "id": "bf61fa906829030"
  },
  {
   "cell_type": "code",
   "execution_count": null,
   "outputs": [],
   "source": [
    "merged_df_final.to_excel(r'C:\\Users\\yuriy\\Desktop\\equipment\\non project works\\трубы_clean.xlsx', index=False, float_format=\"%.4f\")\n"
   ],
   "metadata": {
    "collapsed": false
   },
   "id": "e84f2e6bd4d8e31"
  },
  {
   "cell_type": "code",
   "execution_count": 154,
   "outputs": [
    {
     "data": {
      "text/plain": "      №              Лот Номерконтракта Дата контракта  \\\n0   412  AKU-21-021/021m   FT-04-21-889     2021-10-25   \n1   413  AKU-20-207/207м   FT-04-21-626     2021-06-15   \n2   414  AKU-21-113/113м  FT-04-22-1692     2022-12-12   \n3   415  AKU-22-282/282м   FT-04-23-665     2023-05-04   \n4   416  AKU-20-273/273м   FT-04-21-642     2021-06-30   \n5   417  AKU-22-281/281м   FT-04-23-664     2023-05-02   \n6   418  AKU-19-058/2/2м   FT-04-21-890     2021-10-18   \n7   419  AKU-22-046/046м  FT-04-22-1685     2022-12-13   \n8   420       AKU-19-058    FT-04-20-76     2020-03-20   \n9   454      AKU-22-283м   FT-04-23-912     2023-09-13   \n10  455      AKU-22-137м    FT-04-23-77     2023-01-30   \n11  456      AKU-22-237м   FT-04-23-828     2023-08-16   \n12  457      AKU-21-122м  FT-04-21-1058     2021-12-30   \n13  458      AKU-22-187м   FT-04-23-144     2023-01-20   \n14  459      AKU-20-280м   FT-04-21-702     2021-08-11   \n15  460      AKU-22-232м   FT-04-23-933     2023-09-13   \n16  463      AKU-21-157m    FT-04-23-68     2023-01-30   \n17  464      AKU-22-246м   FT-04-23-704     2023-09-12   \n18  465      AKU-22-032м   FT-04-22-922     2022-08-23   \n19  466      AKU-22-214м   FT-04-23-143     2023-02-01   \n20  239       AKU-21-121  FT-04-21-1060     2021-12-30   \n21  452  AKU-22-231/233м   FT-04-23-646     2023-05-05   \n22  506  AKU-22-162/165м   FT-04-23-781     2023-06-23   \n\n                        Поставщик  \\\n0              КОНЦЕРН ТИТАН-2 АО   \n1              КОНЦЕРН ТИТАН-2 АО   \n2              КОНЦЕРН ТИТАН-2 АО   \n3              КОНЦЕРН ТИТАН-2 АО   \n4              КОНЦЕРН ТИТАН-2 АО   \n5              КОНЦЕРН ТИТАН-2 АО   \n6              КОНЦЕРН ТИТАН-2 АО   \n7              КОНЦЕРН ТИТАН-2 АО   \n8   ТИТАН ТЕХНОЛОДЖИ ПАЙПЛАЙН ООО   \n9              КОНЦЕРН ТИТАН-2 АО   \n10             КОНЦЕРН ТИТАН-2 АО   \n11             КОНЦЕРН ТИТАН-2 АО   \n12             КОНЦЕРН ТИТАН-2 АО   \n13             КОНЦЕРН ТИТАН-2 АО   \n14             КОНЦЕРН ТИТАН-2 АО   \n15             КОНЦЕРН ТИТАН-2 АО   \n16             КОНЦЕРН ТИТАН-2 АО   \n17             КОНЦЕРН ТИТАН-2 АО   \n18             КОНЦЕРН ТИТАН-2 АО   \n19             КОНЦЕРН ТИТАН-2 АО   \n20             КОНЦЕРН ТИТАН-2 АО   \n21             КОНЦЕРН ТИТАН-2 АО   \n22             КОНЦЕРН ТИТАН-2 АО   \n\n                                    Предмет поставки   Стоимость контракта   \\\n0   Поставка трубопроводов турбинного острова для ...          1.209500e+08   \n1                       Трубопроводы ядерного острова          5.591670e+07   \n2                     трубопроводы турбинного острова          3.985523e+07   \n3                     трубопроводы турбинного острова          3.824765e+07   \n4                              Трубопроводов LAB, LBA          3.432932e+07   \n5                     трубопроводы турбинного острова          3.027153e+07   \n6   Поставка трубопроводов ядерного острова для со...          1.352748e+07   \n7             трубопроводы зданий 01UYX, 00UYB, 00UFC          3.213636e+06   \n8                                     Трубопроводы ЯО          1.247274e+07   \n9                     трубопроводы турбинного острова          4.035195e+07   \n10                          трубопроводы здания 00USY          3.934748e+07   \n11                          трубопроводы здания 00USY          3.757803e+07   \n12                                    трубопроводы ЯО          1.842428e+07   \n13                            трубопроводы системы PE          1.061959e+07   \n14  Трубопроводы охлаждающей воды ответственных по...          1.007337e+07   \n15                           трубопроводы системы PJA          5.688937e+06   \n16                трубопроводы системы PEB здания UCB          1.440523e+06   \n17                       трубопроводы систем JNA, JND          5.286438e+05   \n18            трубопроводы системы SCD для здания UKC          1.878975e+05   \n19         поставка трубопроводов здания 02UYX, 00UYB          1.003155e+05   \n20                                    трубопроводы ЯО          3.285745e+06   \n21                   трубопроводы зданий 00UTH, 00UNA          3.560000e+06   \n22                       трубопроводы систем KAA, KBC          3.943239e+06   \n\n    Предусмотренный аванс  Тонн  Смонтировано  ...       cost_u2     cost_u3  \\\n0            3.628500e+07   NaN           NaN  ...  3.023750e+07  30237500.0   \n1            1.677501e+07   NaN           NaN  ...  2.793919e+07         0.0   \n2            9.060729e+06   NaN           NaN  ...  1.510093e+07         0.0   \n3            9.037067e+06   NaN           NaN  ...  1.536751e+07         0.0   \n4            1.029880e+07   NaN           NaN  ...  1.718242e+07         0.0   \n5            8.071123e+06   NaN           NaN  ...  1.336192e+07         0.0   \n6            4.058243e+06   NaN           NaN  ...  1.352748e+07         0.0   \n7            9.640909e+05   NaN           NaN  ...  0.000000e+00         0.0   \n8            3.741823e+06   NaN           NaN  ...  0.000000e+00         0.0   \n9            9.452929e+06   NaN           NaN  ...  1.575488e+07         0.0   \n10           8.957304e+06   NaN           NaN  ...  0.000000e+00         0.0   \n11           9.114712e+06   NaN           NaN  ...  0.000000e+00         0.0   \n12           5.527285e+06   NaN           NaN  ...  9.087666e+06         0.0   \n13           2.369953e+06   NaN           NaN  ...  2.693640e+06         0.0   \n14           3.022011e+06   NaN           NaN  ...  5.036684e+06         0.0   \n15           1.344662e+06   NaN           NaN  ...  2.241075e+06         0.0   \n16           3.276062e+05   NaN           NaN  ...  5.460100e+05         0.0   \n17           1.257127e+05   NaN           NaN  ...  5.265520e+03         0.0   \n18           5.636926e+04   NaN           NaN  ...  9.394747e+04         0.0   \n19           2.260640e+04   NaN           NaN  ...  0.000000e+00         0.0   \n20                    NaN   NaN           NaN  ...  1.646597e+06         0.0   \n21                    NaN   NaN           NaN  ...  0.000000e+00         0.0   \n22                    NaN   NaN           NaN  ...  1.604681e+06         0.0   \n\n       cost_u4    total_cost   cost_vat_u0   cost_vat_u1   cost_vat_u2  \\\n0   30237500.0  1.209500e+08  0.000000e+00  3.023750e+07  3.023750e+07   \n1          0.0  5.591670e+07  0.000000e+00  2.797751e+07  2.793919e+07   \n2          0.0  3.020243e+07  0.000000e+00  1.992791e+07  1.992733e+07   \n3          0.0  3.075823e+07  0.000000e+00  1.913798e+07  1.910967e+07   \n4          0.0  3.432932e+07  0.000000e+00  1.714690e+07  1.718242e+07   \n5          0.0  2.690374e+07  0.000000e+00  1.524803e+07  1.502350e+07   \n6          0.0  1.352748e+07  0.000000e+00  0.000000e+00  1.352748e+07   \n7          0.0  2.857249e+06  3.274509e+06  0.000000e+00  0.000000e+00   \n8          0.0  1.396713e+07  0.000000e+00  1.396713e+07  0.000000e+00   \n9          0.0  3.150976e+07  0.000000e+00  2.017603e+07  2.017593e+07   \n10         0.0  2.985768e+07  3.934748e+07  0.000000e+00  0.000000e+00   \n11         0.0  3.038237e+07  3.757803e+07  0.000000e+00  0.000000e+00   \n12         0.0  1.842428e+07  2.102903e+05  9.126328e+06  9.087666e+06   \n13         0.0  7.899843e+06  0.000000e+00  7.015066e+06  3.604519e+06   \n14         0.0  1.007337e+07  0.000000e+00  5.036684e+06  5.036684e+06   \n15         0.0  4.482205e+06  0.000000e+00  2.844496e+06  2.844440e+06   \n16         0.0  1.092021e+06  0.000000e+00  7.202620e+05  7.202614e+05   \n17         0.0  1.053103e+04  0.000000e+00  2.643174e+05  2.643264e+05   \n18         0.0  1.878975e+05  0.000000e+00  9.395008e+04  9.394747e+04   \n19         0.0  7.535467e+04  1.003155e+05  0.000000e+00  0.000000e+00   \n20         0.0  3.285745e+06  0.000000e+00  1.639149e+06  1.646597e+06   \n21         0.0  2.845606e+06  3.560000e+06  0.000000e+00  0.000000e+00   \n22         0.0  3.209362e+06  0.000000e+00  1.971619e+06  1.971619e+06   \n\n   cost_vat_u3  cost_vat_u4  total_cost_vat  \n0   30237500.0   30237500.0    1.209500e+08  \n1          0.0          0.0    5.591670e+07  \n2          0.0          0.0    3.985523e+07  \n3          0.0          0.0    3.824765e+07  \n4          0.0          0.0    3.432932e+07  \n5          0.0          0.0    3.027153e+07  \n6          0.0          0.0    1.352748e+07  \n7          0.0          0.0    3.274509e+06  \n8          0.0          0.0    1.396713e+07  \n9          0.0          0.0    4.035195e+07  \n10         0.0          0.0    3.934748e+07  \n11         0.0          0.0    3.757803e+07  \n12         0.0          0.0    1.842428e+07  \n13         0.0          0.0    1.061959e+07  \n14         0.0          0.0    1.007337e+07  \n15         0.0          0.0    5.688937e+06  \n16         0.0          0.0    1.440523e+06  \n17         0.0          0.0    5.286438e+05  \n18         0.0          0.0    1.878975e+05  \n19         0.0          0.0    1.003155e+05  \n20         0.0          0.0    3.285745e+06  \n21         0.0          0.0    3.560000e+06  \n22         0.0          0.0    3.943239e+06  \n\n[23 rows x 41 columns]",
      "text/html": "<div>\n<style scoped>\n    .dataframe tbody tr th:only-of-type {\n        vertical-align: middle;\n    }\n\n    .dataframe tbody tr th {\n        vertical-align: top;\n    }\n\n    .dataframe thead th {\n        text-align: right;\n    }\n</style>\n<table border=\"1\" class=\"dataframe\">\n  <thead>\n    <tr style=\"text-align: right;\">\n      <th></th>\n      <th>№</th>\n      <th>Лот</th>\n      <th>Номерконтракта</th>\n      <th>Дата контракта</th>\n      <th>Поставщик</th>\n      <th>Предмет поставки</th>\n      <th>Стоимость контракта</th>\n      <th>Предусмотренный аванс</th>\n      <th>Тонн</th>\n      <th>Смонтировано</th>\n      <th>...</th>\n      <th>cost_u2</th>\n      <th>cost_u3</th>\n      <th>cost_u4</th>\n      <th>total_cost</th>\n      <th>cost_vat_u0</th>\n      <th>cost_vat_u1</th>\n      <th>cost_vat_u2</th>\n      <th>cost_vat_u3</th>\n      <th>cost_vat_u4</th>\n      <th>total_cost_vat</th>\n    </tr>\n  </thead>\n  <tbody>\n    <tr>\n      <th>0</th>\n      <td>412</td>\n      <td>AKU-21-021/021m</td>\n      <td>FT-04-21-889</td>\n      <td>2021-10-25</td>\n      <td>КОНЦЕРН ТИТАН-2 АО</td>\n      <td>Поставка трубопроводов турбинного острова для ...</td>\n      <td>1.209500e+08</td>\n      <td>3.628500e+07</td>\n      <td>NaN</td>\n      <td>NaN</td>\n      <td>...</td>\n      <td>3.023750e+07</td>\n      <td>30237500.0</td>\n      <td>30237500.0</td>\n      <td>1.209500e+08</td>\n      <td>0.000000e+00</td>\n      <td>3.023750e+07</td>\n      <td>3.023750e+07</td>\n      <td>30237500.0</td>\n      <td>30237500.0</td>\n      <td>1.209500e+08</td>\n    </tr>\n    <tr>\n      <th>1</th>\n      <td>413</td>\n      <td>AKU-20-207/207м</td>\n      <td>FT-04-21-626</td>\n      <td>2021-06-15</td>\n      <td>КОНЦЕРН ТИТАН-2 АО</td>\n      <td>Трубопроводы ядерного острова</td>\n      <td>5.591670e+07</td>\n      <td>1.677501e+07</td>\n      <td>NaN</td>\n      <td>NaN</td>\n      <td>...</td>\n      <td>2.793919e+07</td>\n      <td>0.0</td>\n      <td>0.0</td>\n      <td>5.591670e+07</td>\n      <td>0.000000e+00</td>\n      <td>2.797751e+07</td>\n      <td>2.793919e+07</td>\n      <td>0.0</td>\n      <td>0.0</td>\n      <td>5.591670e+07</td>\n    </tr>\n    <tr>\n      <th>2</th>\n      <td>414</td>\n      <td>AKU-21-113/113м</td>\n      <td>FT-04-22-1692</td>\n      <td>2022-12-12</td>\n      <td>КОНЦЕРН ТИТАН-2 АО</td>\n      <td>трубопроводы турбинного острова</td>\n      <td>3.985523e+07</td>\n      <td>9.060729e+06</td>\n      <td>NaN</td>\n      <td>NaN</td>\n      <td>...</td>\n      <td>1.510093e+07</td>\n      <td>0.0</td>\n      <td>0.0</td>\n      <td>3.020243e+07</td>\n      <td>0.000000e+00</td>\n      <td>1.992791e+07</td>\n      <td>1.992733e+07</td>\n      <td>0.0</td>\n      <td>0.0</td>\n      <td>3.985523e+07</td>\n    </tr>\n    <tr>\n      <th>3</th>\n      <td>415</td>\n      <td>AKU-22-282/282м</td>\n      <td>FT-04-23-665</td>\n      <td>2023-05-04</td>\n      <td>КОНЦЕРН ТИТАН-2 АО</td>\n      <td>трубопроводы турбинного острова</td>\n      <td>3.824765e+07</td>\n      <td>9.037067e+06</td>\n      <td>NaN</td>\n      <td>NaN</td>\n      <td>...</td>\n      <td>1.536751e+07</td>\n      <td>0.0</td>\n      <td>0.0</td>\n      <td>3.075823e+07</td>\n      <td>0.000000e+00</td>\n      <td>1.913798e+07</td>\n      <td>1.910967e+07</td>\n      <td>0.0</td>\n      <td>0.0</td>\n      <td>3.824765e+07</td>\n    </tr>\n    <tr>\n      <th>4</th>\n      <td>416</td>\n      <td>AKU-20-273/273м</td>\n      <td>FT-04-21-642</td>\n      <td>2021-06-30</td>\n      <td>КОНЦЕРН ТИТАН-2 АО</td>\n      <td>Трубопроводов LAB, LBA</td>\n      <td>3.432932e+07</td>\n      <td>1.029880e+07</td>\n      <td>NaN</td>\n      <td>NaN</td>\n      <td>...</td>\n      <td>1.718242e+07</td>\n      <td>0.0</td>\n      <td>0.0</td>\n      <td>3.432932e+07</td>\n      <td>0.000000e+00</td>\n      <td>1.714690e+07</td>\n      <td>1.718242e+07</td>\n      <td>0.0</td>\n      <td>0.0</td>\n      <td>3.432932e+07</td>\n    </tr>\n    <tr>\n      <th>5</th>\n      <td>417</td>\n      <td>AKU-22-281/281м</td>\n      <td>FT-04-23-664</td>\n      <td>2023-05-02</td>\n      <td>КОНЦЕРН ТИТАН-2 АО</td>\n      <td>трубопроводы турбинного острова</td>\n      <td>3.027153e+07</td>\n      <td>8.071123e+06</td>\n      <td>NaN</td>\n      <td>NaN</td>\n      <td>...</td>\n      <td>1.336192e+07</td>\n      <td>0.0</td>\n      <td>0.0</td>\n      <td>2.690374e+07</td>\n      <td>0.000000e+00</td>\n      <td>1.524803e+07</td>\n      <td>1.502350e+07</td>\n      <td>0.0</td>\n      <td>0.0</td>\n      <td>3.027153e+07</td>\n    </tr>\n    <tr>\n      <th>6</th>\n      <td>418</td>\n      <td>AKU-19-058/2/2м</td>\n      <td>FT-04-21-890</td>\n      <td>2021-10-18</td>\n      <td>КОНЦЕРН ТИТАН-2 АО</td>\n      <td>Поставка трубопроводов ядерного острова для со...</td>\n      <td>1.352748e+07</td>\n      <td>4.058243e+06</td>\n      <td>NaN</td>\n      <td>NaN</td>\n      <td>...</td>\n      <td>1.352748e+07</td>\n      <td>0.0</td>\n      <td>0.0</td>\n      <td>1.352748e+07</td>\n      <td>0.000000e+00</td>\n      <td>0.000000e+00</td>\n      <td>1.352748e+07</td>\n      <td>0.0</td>\n      <td>0.0</td>\n      <td>1.352748e+07</td>\n    </tr>\n    <tr>\n      <th>7</th>\n      <td>419</td>\n      <td>AKU-22-046/046м</td>\n      <td>FT-04-22-1685</td>\n      <td>2022-12-13</td>\n      <td>КОНЦЕРН ТИТАН-2 АО</td>\n      <td>трубопроводы зданий 01UYX, 00UYB, 00UFC</td>\n      <td>3.213636e+06</td>\n      <td>9.640909e+05</td>\n      <td>NaN</td>\n      <td>NaN</td>\n      <td>...</td>\n      <td>0.000000e+00</td>\n      <td>0.0</td>\n      <td>0.0</td>\n      <td>2.857249e+06</td>\n      <td>3.274509e+06</td>\n      <td>0.000000e+00</td>\n      <td>0.000000e+00</td>\n      <td>0.0</td>\n      <td>0.0</td>\n      <td>3.274509e+06</td>\n    </tr>\n    <tr>\n      <th>8</th>\n      <td>420</td>\n      <td>AKU-19-058</td>\n      <td>FT-04-20-76</td>\n      <td>2020-03-20</td>\n      <td>ТИТАН ТЕХНОЛОДЖИ ПАЙПЛАЙН ООО</td>\n      <td>Трубопроводы ЯО</td>\n      <td>1.247274e+07</td>\n      <td>3.741823e+06</td>\n      <td>NaN</td>\n      <td>NaN</td>\n      <td>...</td>\n      <td>0.000000e+00</td>\n      <td>0.0</td>\n      <td>0.0</td>\n      <td>1.396713e+07</td>\n      <td>0.000000e+00</td>\n      <td>1.396713e+07</td>\n      <td>0.000000e+00</td>\n      <td>0.0</td>\n      <td>0.0</td>\n      <td>1.396713e+07</td>\n    </tr>\n    <tr>\n      <th>9</th>\n      <td>454</td>\n      <td>AKU-22-283м</td>\n      <td>FT-04-23-912</td>\n      <td>2023-09-13</td>\n      <td>КОНЦЕРН ТИТАН-2 АО</td>\n      <td>трубопроводы турбинного острова</td>\n      <td>4.035195e+07</td>\n      <td>9.452929e+06</td>\n      <td>NaN</td>\n      <td>NaN</td>\n      <td>...</td>\n      <td>1.575488e+07</td>\n      <td>0.0</td>\n      <td>0.0</td>\n      <td>3.150976e+07</td>\n      <td>0.000000e+00</td>\n      <td>2.017603e+07</td>\n      <td>2.017593e+07</td>\n      <td>0.0</td>\n      <td>0.0</td>\n      <td>4.035195e+07</td>\n    </tr>\n    <tr>\n      <th>10</th>\n      <td>455</td>\n      <td>AKU-22-137м</td>\n      <td>FT-04-23-77</td>\n      <td>2023-01-30</td>\n      <td>КОНЦЕРН ТИТАН-2 АО</td>\n      <td>трубопроводы здания 00USY</td>\n      <td>3.934748e+07</td>\n      <td>8.957304e+06</td>\n      <td>NaN</td>\n      <td>NaN</td>\n      <td>...</td>\n      <td>0.000000e+00</td>\n      <td>0.0</td>\n      <td>0.0</td>\n      <td>2.985768e+07</td>\n      <td>3.934748e+07</td>\n      <td>0.000000e+00</td>\n      <td>0.000000e+00</td>\n      <td>0.0</td>\n      <td>0.0</td>\n      <td>3.934748e+07</td>\n    </tr>\n    <tr>\n      <th>11</th>\n      <td>456</td>\n      <td>AKU-22-237м</td>\n      <td>FT-04-23-828</td>\n      <td>2023-08-16</td>\n      <td>КОНЦЕРН ТИТАН-2 АО</td>\n      <td>трубопроводы здания 00USY</td>\n      <td>3.757803e+07</td>\n      <td>9.114712e+06</td>\n      <td>NaN</td>\n      <td>NaN</td>\n      <td>...</td>\n      <td>0.000000e+00</td>\n      <td>0.0</td>\n      <td>0.0</td>\n      <td>3.038237e+07</td>\n      <td>3.757803e+07</td>\n      <td>0.000000e+00</td>\n      <td>0.000000e+00</td>\n      <td>0.0</td>\n      <td>0.0</td>\n      <td>3.757803e+07</td>\n    </tr>\n    <tr>\n      <th>12</th>\n      <td>457</td>\n      <td>AKU-21-122м</td>\n      <td>FT-04-21-1058</td>\n      <td>2021-12-30</td>\n      <td>КОНЦЕРН ТИТАН-2 АО</td>\n      <td>трубопроводы ЯО</td>\n      <td>1.842428e+07</td>\n      <td>5.527285e+06</td>\n      <td>NaN</td>\n      <td>NaN</td>\n      <td>...</td>\n      <td>9.087666e+06</td>\n      <td>0.0</td>\n      <td>0.0</td>\n      <td>1.842428e+07</td>\n      <td>2.102903e+05</td>\n      <td>9.126328e+06</td>\n      <td>9.087666e+06</td>\n      <td>0.0</td>\n      <td>0.0</td>\n      <td>1.842428e+07</td>\n    </tr>\n    <tr>\n      <th>13</th>\n      <td>458</td>\n      <td>AKU-22-187м</td>\n      <td>FT-04-23-144</td>\n      <td>2023-01-20</td>\n      <td>КОНЦЕРН ТИТАН-2 АО</td>\n      <td>трубопроводы системы PE</td>\n      <td>1.061959e+07</td>\n      <td>2.369953e+06</td>\n      <td>NaN</td>\n      <td>NaN</td>\n      <td>...</td>\n      <td>2.693640e+06</td>\n      <td>0.0</td>\n      <td>0.0</td>\n      <td>7.899843e+06</td>\n      <td>0.000000e+00</td>\n      <td>7.015066e+06</td>\n      <td>3.604519e+06</td>\n      <td>0.0</td>\n      <td>0.0</td>\n      <td>1.061959e+07</td>\n    </tr>\n    <tr>\n      <th>14</th>\n      <td>459</td>\n      <td>AKU-20-280м</td>\n      <td>FT-04-21-702</td>\n      <td>2021-08-11</td>\n      <td>КОНЦЕРН ТИТАН-2 АО</td>\n      <td>Трубопроводы охлаждающей воды ответственных по...</td>\n      <td>1.007337e+07</td>\n      <td>3.022011e+06</td>\n      <td>NaN</td>\n      <td>NaN</td>\n      <td>...</td>\n      <td>5.036684e+06</td>\n      <td>0.0</td>\n      <td>0.0</td>\n      <td>1.007337e+07</td>\n      <td>0.000000e+00</td>\n      <td>5.036684e+06</td>\n      <td>5.036684e+06</td>\n      <td>0.0</td>\n      <td>0.0</td>\n      <td>1.007337e+07</td>\n    </tr>\n    <tr>\n      <th>15</th>\n      <td>460</td>\n      <td>AKU-22-232м</td>\n      <td>FT-04-23-933</td>\n      <td>2023-09-13</td>\n      <td>КОНЦЕРН ТИТАН-2 АО</td>\n      <td>трубопроводы системы PJA</td>\n      <td>5.688937e+06</td>\n      <td>1.344662e+06</td>\n      <td>NaN</td>\n      <td>NaN</td>\n      <td>...</td>\n      <td>2.241075e+06</td>\n      <td>0.0</td>\n      <td>0.0</td>\n      <td>4.482205e+06</td>\n      <td>0.000000e+00</td>\n      <td>2.844496e+06</td>\n      <td>2.844440e+06</td>\n      <td>0.0</td>\n      <td>0.0</td>\n      <td>5.688937e+06</td>\n    </tr>\n    <tr>\n      <th>16</th>\n      <td>463</td>\n      <td>AKU-21-157m</td>\n      <td>FT-04-23-68</td>\n      <td>2023-01-30</td>\n      <td>КОНЦЕРН ТИТАН-2 АО</td>\n      <td>трубопроводы системы PEB здания UCB</td>\n      <td>1.440523e+06</td>\n      <td>3.276062e+05</td>\n      <td>NaN</td>\n      <td>NaN</td>\n      <td>...</td>\n      <td>5.460100e+05</td>\n      <td>0.0</td>\n      <td>0.0</td>\n      <td>1.092021e+06</td>\n      <td>0.000000e+00</td>\n      <td>7.202620e+05</td>\n      <td>7.202614e+05</td>\n      <td>0.0</td>\n      <td>0.0</td>\n      <td>1.440523e+06</td>\n    </tr>\n    <tr>\n      <th>17</th>\n      <td>464</td>\n      <td>AKU-22-246м</td>\n      <td>FT-04-23-704</td>\n      <td>2023-09-12</td>\n      <td>КОНЦЕРН ТИТАН-2 АО</td>\n      <td>трубопроводы систем JNA, JND</td>\n      <td>5.286438e+05</td>\n      <td>1.257127e+05</td>\n      <td>NaN</td>\n      <td>NaN</td>\n      <td>...</td>\n      <td>5.265520e+03</td>\n      <td>0.0</td>\n      <td>0.0</td>\n      <td>1.053103e+04</td>\n      <td>0.000000e+00</td>\n      <td>2.643174e+05</td>\n      <td>2.643264e+05</td>\n      <td>0.0</td>\n      <td>0.0</td>\n      <td>5.286438e+05</td>\n    </tr>\n    <tr>\n      <th>18</th>\n      <td>465</td>\n      <td>AKU-22-032м</td>\n      <td>FT-04-22-922</td>\n      <td>2022-08-23</td>\n      <td>КОНЦЕРН ТИТАН-2 АО</td>\n      <td>трубопроводы системы SCD для здания UKC</td>\n      <td>1.878975e+05</td>\n      <td>5.636926e+04</td>\n      <td>NaN</td>\n      <td>NaN</td>\n      <td>...</td>\n      <td>9.394747e+04</td>\n      <td>0.0</td>\n      <td>0.0</td>\n      <td>1.878975e+05</td>\n      <td>0.000000e+00</td>\n      <td>9.395008e+04</td>\n      <td>9.394747e+04</td>\n      <td>0.0</td>\n      <td>0.0</td>\n      <td>1.878975e+05</td>\n    </tr>\n    <tr>\n      <th>19</th>\n      <td>466</td>\n      <td>AKU-22-214м</td>\n      <td>FT-04-23-143</td>\n      <td>2023-02-01</td>\n      <td>КОНЦЕРН ТИТАН-2 АО</td>\n      <td>поставка трубопроводов здания 02UYX, 00UYB</td>\n      <td>1.003155e+05</td>\n      <td>2.260640e+04</td>\n      <td>NaN</td>\n      <td>NaN</td>\n      <td>...</td>\n      <td>0.000000e+00</td>\n      <td>0.0</td>\n      <td>0.0</td>\n      <td>7.535467e+04</td>\n      <td>1.003155e+05</td>\n      <td>0.000000e+00</td>\n      <td>0.000000e+00</td>\n      <td>0.0</td>\n      <td>0.0</td>\n      <td>1.003155e+05</td>\n    </tr>\n    <tr>\n      <th>20</th>\n      <td>239</td>\n      <td>AKU-21-121</td>\n      <td>FT-04-21-1060</td>\n      <td>2021-12-30</td>\n      <td>КОНЦЕРН ТИТАН-2 АО</td>\n      <td>трубопроводы ЯО</td>\n      <td>3.285745e+06</td>\n      <td>NaN</td>\n      <td>NaN</td>\n      <td>NaN</td>\n      <td>...</td>\n      <td>1.646597e+06</td>\n      <td>0.0</td>\n      <td>0.0</td>\n      <td>3.285745e+06</td>\n      <td>0.000000e+00</td>\n      <td>1.639149e+06</td>\n      <td>1.646597e+06</td>\n      <td>0.0</td>\n      <td>0.0</td>\n      <td>3.285745e+06</td>\n    </tr>\n    <tr>\n      <th>21</th>\n      <td>452</td>\n      <td>AKU-22-231/233м</td>\n      <td>FT-04-23-646</td>\n      <td>2023-05-05</td>\n      <td>КОНЦЕРН ТИТАН-2 АО</td>\n      <td>трубопроводы зданий 00UTH, 00UNA</td>\n      <td>3.560000e+06</td>\n      <td>NaN</td>\n      <td>NaN</td>\n      <td>NaN</td>\n      <td>...</td>\n      <td>0.000000e+00</td>\n      <td>0.0</td>\n      <td>0.0</td>\n      <td>2.845606e+06</td>\n      <td>3.560000e+06</td>\n      <td>0.000000e+00</td>\n      <td>0.000000e+00</td>\n      <td>0.0</td>\n      <td>0.0</td>\n      <td>3.560000e+06</td>\n    </tr>\n    <tr>\n      <th>22</th>\n      <td>506</td>\n      <td>AKU-22-162/165м</td>\n      <td>FT-04-23-781</td>\n      <td>2023-06-23</td>\n      <td>КОНЦЕРН ТИТАН-2 АО</td>\n      <td>трубопроводы систем KAA, KBC</td>\n      <td>3.943239e+06</td>\n      <td>NaN</td>\n      <td>NaN</td>\n      <td>NaN</td>\n      <td>...</td>\n      <td>1.604681e+06</td>\n      <td>0.0</td>\n      <td>0.0</td>\n      <td>3.209362e+06</td>\n      <td>0.000000e+00</td>\n      <td>1.971619e+06</td>\n      <td>1.971619e+06</td>\n      <td>0.0</td>\n      <td>0.0</td>\n      <td>3.943239e+06</td>\n    </tr>\n  </tbody>\n</table>\n<p>23 rows × 41 columns</p>\n</div>"
     },
     "execution_count": 154,
     "metadata": {},
     "output_type": "execute_result"
    }
   ],
   "source": [
    "df2 = pd.DataFrame([])\n",
    "for val in merged_df_final['Номерконтракта']:\n",
    "    df = df_eqp[df_eqp['No Contract'] == val]\n",
    "    filtered_df = df[['Lot', 'No Contract', 'Unit No.', ' Net weight  total, kg', 'Total without VAT, USD', 'Total with VAT, USD']]\n",
    "    \n",
    "    filtered_df.loc[:, ' Net weight  total, kg'] = filtered_df[' Net weight  total, kg'].astype(str)\n",
    "    filtered_df.loc[:, 'Total without VAT, USD'] = filtered_df['Total without VAT, USD'].astype(str)\n",
    "    filtered_df.loc[:, 'Total with VAT, USD'] = filtered_df['Total with VAT, USD'].astype(str)\n",
    "    \n",
    "    filtered_df.loc[:, ' Net weight  total, kg'] = pd.to_numeric(filtered_df[' Net weight  total, kg'].str.replace(',', '.', regex=False), errors='coerce')\n",
    "    filtered_df.loc[:, 'Total without VAT, USD'] = pd.to_numeric(filtered_df['Total without VAT, USD'].str.replace(',', '.', regex=False), errors='coerce')\n",
    "    filtered_df.loc[:, 'Total with VAT, USD'] = pd.to_numeric(filtered_df['Total with VAT, USD'].str.replace(',', '.', regex=False), errors='coerce')\n",
    "    \n",
    "    #weight\n",
    "    merged_df_final.loc[merged_df_final['Номерконтракта'] == val ,'weight_u0'] = filtered_df.loc[filtered_df['Unit No.'] == 0,' Net weight  total, kg'].sum() / 1000\n",
    "    merged_df_final.loc[merged_df_final['Номерконтракта'] == val ,'weight_u1'] = filtered_df.loc[filtered_df['Unit No.'] == 1,' Net weight  total, kg'].sum() / 1000\n",
    "    merged_df_final.loc[merged_df_final['Номерконтракта'] == val ,'weight_u2'] = filtered_df.loc[filtered_df['Unit No.'] == 2,' Net weight  total, kg'].sum() / 1000\n",
    "    merged_df_final.loc[merged_df_final['Номерконтракта'] == val ,'weight_u3'] = filtered_df.loc[filtered_df['Unit No.'] == 3,' Net weight  total, kg'].sum() / 1000\n",
    "    merged_df_final.loc[merged_df_final['Номерконтракта'] == val ,'weight_u4'] = filtered_df.loc[filtered_df['Unit No.'] == 4,' Net weight  total, kg'].sum() / 1000\n",
    "    #total_weight\n",
    "    merged_df_final.loc[merged_df_final['Номерконтракта'] == val ,'total_weight'] = (merged_df_final.loc[merged_df_final['Номерконтракта'] == val ,'weight_u0'] +  \n",
    "                                                                                     merged_df_final.loc[merged_df_final['Номерконтракта'] == val ,'weight_u1'] + \n",
    "                                                                                     merged_df_final.loc[merged_df_final['Номерконтракта'] == val ,'weight_u2'] + \n",
    "                                                                                     merged_df_final.loc[merged_df_final['Номерконтракта'] == val ,'weight_u3'] + \n",
    "                                                                                     merged_df_final.loc[merged_df_final['Номерконтракта'] == val ,'weight_u4'])\n",
    "    \n",
    "    #cost no VAT\n",
    "    merged_df_final.loc[merged_df_final['Номерконтракта'] == val ,'cost_u0'] = filtered_df.loc[filtered_df['Unit No.'] == 0,'Total without VAT, USD'].sum() \n",
    "    merged_df_final.loc[merged_df_final['Номерконтракта'] == val ,'cost_u1'] = filtered_df.loc[filtered_df['Unit No.'] == 1,'Total without VAT, USD'].sum() \n",
    "    merged_df_final.loc[merged_df_final['Номерконтракта'] == val ,'cost_u2'] = filtered_df.loc[filtered_df['Unit No.'] == 2,'Total without VAT, USD'].sum() \n",
    "    merged_df_final.loc[merged_df_final['Номерконтракта'] == val ,'cost_u3'] = filtered_df.loc[filtered_df['Unit No.'] == 3,'Total without VAT, USD'].sum() \n",
    "    merged_df_final.loc[merged_df_final['Номерконтракта'] == val ,'cost_u4'] = filtered_df.loc[filtered_df['Unit No.'] == 4,'Total without VAT, USD'].sum() \n",
    "    merged_df_final.loc[merged_df_final['Номерконтракта'] == val ,'total_cost'] = (merged_df_final.loc[merged_df_final['Номерконтракта'] == val ,'cost_u0'] +  \n",
    "                                                                                     merged_df_final.loc[merged_df_final['Номерконтракта'] == val ,'cost_u1'] + \n",
    "                                                                                     merged_df_final.loc[merged_df_final['Номерконтракта'] == val ,'cost_u2'] + \n",
    "                                                                                     merged_df_final.loc[merged_df_final['Номерконтракта'] == val ,'cost_u3'] + \n",
    "                                                                                     merged_df_final.loc[merged_df_final['Номерконтракта'] == val ,'cost_u4'])\n",
    "    #cost with VAT\n",
    "    merged_df_final.loc[merged_df_final['Номерконтракта'] == val ,'cost_vat_u0'] = filtered_df.loc[filtered_df['Unit No.'] == 0,'Total with VAT, USD'].sum() \n",
    "    merged_df_final.loc[merged_df_final['Номерконтракта'] == val ,'cost_vat_u1'] = filtered_df.loc[filtered_df['Unit No.'] == 1,'Total with VAT, USD'].sum()\n",
    "    merged_df_final.loc[merged_df_final['Номерконтракта'] == val ,'cost_vat_u2'] = filtered_df.loc[filtered_df['Unit No.'] == 2,'Total with VAT, USD'].sum()\n",
    "    merged_df_final.loc[merged_df_final['Номерконтракта'] == val ,'cost_vat_u3'] = filtered_df.loc[filtered_df['Unit No.'] == 3,'Total with VAT, USD'].sum()\n",
    "    merged_df_final.loc[merged_df_final['Номерконтракта'] == val ,'cost_vat_u4'] = filtered_df.loc[filtered_df['Unit No.'] == 4,'Total with VAT, USD'].sum()\n",
    "    merged_df_final.loc[merged_df_final['Номерконтракта'] == val ,'total_cost_vat'] = (merged_df_final.loc[merged_df_final['Номерконтракта'] == val ,'cost_vat_u0'] +  \n",
    "                                                                                     merged_df_final.loc[merged_df_final['Номерконтракта'] == val ,'cost_vat_u1'] + \n",
    "                                                                                     merged_df_final.loc[merged_df_final['Номерконтракта'] == val ,'cost_vat_u2'] + \n",
    "                                                                                     merged_df_final.loc[merged_df_final['Номерконтракта'] == val ,'cost_vat_u3'] + \n",
    "                                                                                     merged_df_final.loc[merged_df_final['Номерконтракта'] == val ,'cost_vat_u4'])\n",
    "    del df\n",
    "    \n",
    "    #df2 = pd.concat([df2, filtered_df], ignore_index=True )\n",
    "\n",
    "# df2[df2['Unit No.'] == 0]\n",
    "# df2['Unit No.'].unique()\n",
    "merged_df_final"
   ],
   "metadata": {
    "collapsed": false,
    "ExecuteTime": {
     "end_time": "2023-11-03T15:53:08.730070700Z",
     "start_time": "2023-11-03T15:53:08.366315100Z"
    }
   },
   "id": "466c99e3f18b9af9"
  },
  {
   "cell_type": "code",
   "execution_count": 155,
   "outputs": [],
   "source": [
    "merged_df_final.to_excel(r'C:\\Users\\yuriy\\Desktop\\equipment\\non project works\\трубы_+cost.xlsx', index=False, float_format=\"%.4f\")"
   ],
   "metadata": {
    "collapsed": false,
    "ExecuteTime": {
     "end_time": "2023-11-03T15:53:31.851390600Z",
     "start_time": "2023-11-03T15:53:31.788888500Z"
    }
   },
   "id": "8df8d27df9a70c5c"
  },
  {
   "cell_type": "code",
   "execution_count": null,
   "outputs": [],
   "source": [
    "df = df_eqp[df_eqp['No Contract'] == 'FT-04-23-665']\n",
    "filtered_df = df[['Unit No.', ' Net weight  total, kg', 'Total without VAT, USD', 'Total with VAT, USD']]\n",
    "\n"
   ],
   "metadata": {
    "collapsed": false
   },
   "id": "602394c20454dfe9"
  }
 ],
 "metadata": {
  "kernelspec": {
   "display_name": "Python 3",
   "language": "python",
   "name": "python3"
  },
  "language_info": {
   "codemirror_mode": {
    "name": "ipython",
    "version": 2
   },
   "file_extension": ".py",
   "mimetype": "text/x-python",
   "name": "python",
   "nbconvert_exporter": "python",
   "pygments_lexer": "ipython2",
   "version": "2.7.6"
  }
 },
 "nbformat": 4,
 "nbformat_minor": 5
}
